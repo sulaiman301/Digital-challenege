{
 "cells": [
  {
   "cell_type": "markdown",
   "metadata": {},
   "source": [
    "## Load and Explore the Datasets"
   ]
  },
  {
   "cell_type": "code",
   "execution_count": null,
   "metadata": {},
   "outputs": [],
   "source": [
    "import pandas as pd\n",
    "import seaborn as sns"
   ]
  },
  {
   "cell_type": "code",
   "execution_count": null,
   "metadata": {},
   "outputs": [],
   "source": [
    "#Digital footprints # Read data\n",
    "\n",
    "file_final_demo =r'C:\\Users\\User\\Documents\\IRON HACK DA 2024\\Project Digital Challenge\\New folder\\Digital-challenege\\DATA\\raw\\df_final_demo.txt'\n",
    "file_experiment_clients =r'C:\\Users\\User\\Documents\\IRON HACK DA 2024\\Project Digital Challenge\\New folder\\Digital-challenege\\DATA\\raw\\df_final_experiment_clients.txt'\n",
    "\n"
   ]
  },
  {
   "cell_type": "code",
   "execution_count": null,
   "metadata": {},
   "outputs": [],
   "source": [
    "file_path_1= r'C:\\Users\\User\\Documents\\IRON HACK DA 2024\\Project Digital Challenge\\New folder\\Digital-challenege\\DATA\\raw\\df_final_web_data_pt_1.txt'\n",
    "file_path_2= r'C:\\Users\\User\\Documents\\IRON HACK DA 2024\\Project Digital Challenge\\New folder\\Digital-challenege\\DATA\\raw\\df_final_web_data_pt_2.txt'\n"
   ]
  },
  {
   "cell_type": "markdown",
   "metadata": {},
   "source": [
    "Inspect the datasets:   Check for missing values, data types, and basic statistics."
   ]
  },
  {
   "cell_type": "code",
   "execution_count": null,
   "metadata": {},
   "outputs": [],
   "source": [
    "pd.read_csv(file_final_demo, sep=\",\")"
   ]
  },
  {
   "cell_type": "code",
   "execution_count": null,
   "metadata": {},
   "outputs": [],
   "source": [
    "df_final_demo = pd.read_csv(file_final_demo, sep=\",\")\n",
    "df_final_experiment_clients= pd.read_csv(file_experiment_clients, sep=\",\")"
   ]
  },
  {
   "cell_type": "markdown",
   "metadata": {},
   "source": [
    "Merge Digital Footprints.\n",
    "\n",
    "Combine the two parts of the digital footprints dataset."
   ]
  },
  {
   "cell_type": "code",
   "execution_count": null,
   "metadata": {},
   "outputs": [],
   "source": [
    "df1=pd.read_csv(r\"C:\\Users\\User\\Documents\\IRON HACK DA 2024\\Project Digital Challenge\\New folder\\Digital-challenege\\DATA\\raw\\df_final_web_data_pt_1.txt\")\n",
    "df2=pd.read_csv(r\"C:\\Users\\User\\Documents\\IRON HACK DA 2024\\Project Digital Challenge\\New folder\\Digital-challenege\\DATA\\raw\\df_final_web_data_pt_2.txt\")"
   ]
  },
  {
   "cell_type": "code",
   "execution_count": null,
   "metadata": {},
   "outputs": [],
   "source": [
    "#combined the data\n",
    "df_combined = pd.concat([df1, df2])"
   ]
  },
  {
   "cell_type": "code",
   "execution_count": null,
   "metadata": {},
   "outputs": [],
   "source": [
    "df_combined"
   ]
  },
  {
   "cell_type": "markdown",
   "metadata": {},
   "source": [
    " ## Exploring the data & Clean the Data\n",
    "Handle missing values, outliers, and any inconsistencies in the data."
   ]
  },
  {
   "cell_type": "code",
   "execution_count": null,
   "metadata": {},
   "outputs": [],
   "source": [
    "df_final_demo.head()"
   ]
  },
  {
   "cell_type": "code",
   "execution_count": null,
   "metadata": {},
   "outputs": [],
   "source": [
    "df_final_experiment_clients.head()"
   ]
  },
  {
   "cell_type": "code",
   "execution_count": null,
   "metadata": {},
   "outputs": [],
   "source": [
    "df_combined.head()"
   ]
  },
  {
   "cell_type": "code",
   "execution_count": null,
   "metadata": {},
   "outputs": [],
   "source": [
    "# Check for missing values\n",
    "print(df_final_demo.isnull().sum())\n",
    "print(df_combined.isnull().sum())\n",
    "print(df_final_experiment_clients.isnull().sum())"
   ]
  },
  {
   "cell_type": "code",
   "execution_count": null,
   "metadata": {},
   "outputs": [],
   "source": [
    "# Handle missing values (e.g., fill, drop, or impute)\n",
    "df_demo = df_final_demo.dropna()  # Example: drop rows with missing values\n",
    "df_web_data = df_combined.fillna(method='ffill')  # Example: forward fill missing values\n",
    "df_experiment = df_final_experiment_clients.dropna()  # Example: drop rows with missing values"
   ]
  },
  {
   "cell_type": "code",
   "execution_count": null,
   "metadata": {},
   "outputs": [],
   "source": [
    "# Check for duplicates\n",
    "print(df_final_demo.duplicated().sum())\n",
    "print(df_combined.duplicated().sum())\n",
    "print(df_final_experiment_clients.duplicated().sum())"
   ]
  },
  {
   "cell_type": "code",
   "execution_count": null,
   "metadata": {},
   "outputs": [],
   "source": [
    "\n",
    "# Remove duplicates if any\n",
    "df_demo = df_final_demo.drop_duplicates()\n",
    "df_web_data = df_combined.drop_duplicates()\n",
    "df_experiment = df_final_experiment_clients.drop_duplicates()"
   ]
  },
  {
   "cell_type": "code",
   "execution_count": null,
   "metadata": {},
   "outputs": [],
   "source": [
    "import matplotlib.pyplot as plt"
   ]
  },
  {
   "cell_type": "code",
   "execution_count": null,
   "metadata": {},
   "outputs": [],
   "source": [
    "print(df_demo.describe())"
   ]
  },
  {
   "cell_type": "code",
   "execution_count": null,
   "metadata": {},
   "outputs": [],
   "source": [
    "print(df_web_data.describe())"
   ]
  },
  {
   "cell_type": "code",
   "execution_count": null,
   "metadata": {},
   "outputs": [],
   "source": [
    "print(df_experiment.describe())"
   ]
  },
  {
   "cell_type": "code",
   "execution_count": null,
   "metadata": {},
   "outputs": [],
   "source": [
    "print(df_demo.columns)\n"
   ]
  },
  {
   "cell_type": "code",
   "execution_count": null,
   "metadata": {},
   "outputs": [],
   "source": [
    "print(df_demo.columns)\n"
   ]
  },
  {
   "cell_type": "code",
   "execution_count": null,
   "metadata": {},
   "outputs": [],
   "source": [
    "# Verify column names\n",
    "print(\"Column Names:\", df_final_demo.columns)"
   ]
  },
  {
   "cell_type": "code",
   "execution_count": null,
   "metadata": {},
   "outputs": [],
   "source": [
    "# Inspect the first few rows\n",
    "print(\"First Few Rows:\")\n",
    "print(df_final_demo.head())"
   ]
  },
  {
   "cell_type": "code",
   "execution_count": null,
   "metadata": {},
   "outputs": [],
   "source": [
    "df_demo"
   ]
  },
  {
   "cell_type": "code",
   "execution_count": null,
   "metadata": {},
   "outputs": [],
   "source": [
    "\n",
    "# Check for the presence of the 'clnt_age' column and plot\n",
    "if 'clnt_age' in df_final_demo.columns:\n",
    "    sns.histplot(df_final_demo['clnt_age'], kde=True)\n",
    "    plt.title('Age Distribution of Clients')\n",
    "    plt.xlabel('Age')\n",
    "    plt.ylabel('Frequency')\n",
    "    plt.show()\n",
    "else:\n",
    "    print(\"The 'clnt_age' column does not exist in the DataFrame.\")"
   ]
  },
  {
   "cell_type": "code",
   "execution_count": null,
   "metadata": {},
   "outputs": [],
   "source": [
    "# Gender distribution\n",
    "sns.countplot(x='gendr', data=df_demo)\n",
    "plt.title('Gender Distribution of Clients')\n",
    "plt.xlabel('gender')\n",
    "plt.ylabel('Count')\n",
    "plt.show()\n"
   ]
  },
  {
   "cell_type": "code",
   "execution_count": null,
   "metadata": {},
   "outputs": [],
   "source": [
    "\n",
    "\n",
    "# Sample DataFrame\n",
    "data = {\n",
    "    'Category': ['A', 'B', 'A', 'B', 'A', 'B'],\n",
    "    'Value': [10, 20, 15, 30, 10, 25]\n",
    "}\n",
    "df = pd.DataFrame(data)\n",
    "\n",
    "# Summary statistics\n",
    "summary_stats = df.describe()\n",
    "print(summary_stats)\n"
   ]
  },
  {
   "cell_type": "code",
   "execution_count": null,
   "metadata": {},
   "outputs": [],
   "source": [
    "# Pivot table to summarize data\n",
    "pivot_table = pd.pivot_table(df, values='Value', index='Category', aggfunc=['mean', 'sum'])\n",
    "print(pivot_table)\n"
   ]
  },
  {
   "cell_type": "code",
   "execution_count": null,
   "metadata": {},
   "outputs": [],
   "source": [
    "# Custom summary function\n",
    "def custom_summary(group):\n",
    "    return pd.Series({\n",
    "        'Count': group.count(),\n",
    "        'Sum': group.sum(),\n",
    "        'Mean': group.mean()\n",
    "    })\n",
    "\n",
    "custom_summary_table = df.groupby('Category')['Value'].apply(custom_summary).unstack()\n",
    "print(custom_summary_table)\n"
   ]
  },
  {
   "cell_type": "code",
   "execution_count": null,
   "metadata": {},
   "outputs": [],
   "source": [
    "from IPython.display import display\n",
    "\n",
    "# Displaying the summaries\n",
    "display(summary_stats)\n",
    "display(grouped_summary)\n",
    "display(pivot_table)\n",
    "display(custom_summary_table)\n"
   ]
  },
  {
   "cell_type": "markdown",
   "metadata": {},
   "source": [
    "## Week 5, Day 1 & 2: EDA & Data Cleaning"
   ]
  },
  {
   "cell_type": "markdown",
   "metadata": {},
   "source": [
    "For the project requirements and instructions for today’s tasks in full, please refer to the project brief. However, in order to keep on track you may refer to the daily goals outlined below:\n",
    "\n",
    "By the end of the first two days, we recommend you have:\n",
    "\n",
    "Done dataset discovery: Understood the nature and structure of your datasets using Python with libraries such as Pandas, Matplotlib, and Seaborn.\n",
    "\n",
    "Carried out data cleaning and fix any problems if there are any.\n",
    "\n",
    "Answered the following questions about demographics:\n",
    "\n",
    "Who are the primary clients using this online process?\n",
    "Are the primary clients younger or older, new or long-standing?\n",
    "\n",
    "Carried out a client behaviour analysis to answer any additional relevant questions you think are important."
   ]
  },
  {
   "cell_type": "markdown",
   "metadata": {},
   "source": [
    "## Merge Data:"
   ]
  },
  {
   "cell_type": "code",
   "execution_count": null,
   "metadata": {},
   "outputs": [],
   "source": [
    "df_demo\n",
    "df_web_data\n",
    "df_experiment"
   ]
  },
  {
   "cell_type": "markdown",
   "metadata": {},
   "source": [
    "# Initial Inspection:"
   ]
  },
  {
   "cell_type": "code",
   "execution_count": null,
   "metadata": {},
   "outputs": [],
   "source": [
    "print(df_merged.head())"
   ]
  },
  {
   "cell_type": "code",
   "execution_count": null,
   "metadata": {},
   "outputs": [],
   "source": [
    "print(df_merged.info())"
   ]
  },
  {
   "cell_type": "code",
   "execution_count": null,
   "metadata": {},
   "outputs": [],
   "source": [
    "print(df_merged.describe())"
   ]
  },
  {
   "cell_type": "markdown",
   "metadata": {},
   "source": [
    "# Data Cleaning:\n",
    "\n",
    "Missing Values:"
   ]
  },
  {
   "cell_type": "code",
   "execution_count": null,
   "metadata": {},
   "outputs": [],
   "source": [
    "#  Handle missing values appropriately\n",
    "df_merged.isnull().sum()\n",
    "\n"
   ]
  },
  {
   "cell_type": "code",
   "execution_count": null,
   "metadata": {},
   "outputs": [],
   "source": [
    "# Duplicates\n",
    "\n",
    "df_merged =df_merged.drop_duplicates()\n"
   ]
  },
  {
   "cell_type": "code",
   "execution_count": null,
   "metadata": {},
   "outputs": [],
   "source": [
    "# Data Types : # Convert other columns if necessary\n",
    "df_merged['date_time'] = pd.to_datetime(df_merged['date_time'])\n",
    "\n"
   ]
  },
  {
   "cell_type": "code",
   "execution_count": null,
   "metadata": {},
   "outputs": [],
   "source": [
    "\n",
    "df_merged['date_time'] = pd.to_numeric(df_merged['date_time'], errors='coerce')\n"
   ]
  },
  {
   "cell_type": "markdown",
   "metadata": {},
   "source": [
    "Check Data Types:"
   ]
  },
  {
   "cell_type": "code",
   "execution_count": null,
   "metadata": {},
   "outputs": [],
   "source": [
    "print(df_merged.dtypes)\n"
   ]
  },
  {
   "cell_type": "code",
   "execution_count": null,
   "metadata": {},
   "outputs": [],
   "source": [
    "df_merged"
   ]
  },
  {
   "cell_type": "markdown",
   "metadata": {},
   "source": [
    "##  Demographics Analysis\n",
    "\n",
    "1 Who are the primary clients using this online process?\n",
    "\n",
    "# Visualize Distributions:"
   ]
  },
  {
   "cell_type": "code",
   "execution_count": null,
   "metadata": {},
   "outputs": [],
   "source": [
    "import matplotlib.pyplot as plt\n",
    "import seaborn as sns\n",
    "\n",
    "sns.histplot(df_merged['clnt_age'], kde=True)\n",
    "plt.title('Age Distribution')\n",
    "plt.show()\n",
    "\n",
    "sns.countplot(x='gendr', data=df_merged)\n",
    "plt.title('Gender Distribution')\n",
    "plt.show()\n"
   ]
  },
  {
   "cell_type": "code",
   "execution_count": null,
   "metadata": {},
   "outputs": [],
   "source": [
    "\n",
    "# Account type distribution\n",
    "sns.countplot(x='num_accts', data=df_merged)\n",
    "plt.title('Account Type Distribution')\n",
    "plt.show()"
   ]
  },
  {
   "cell_type": "markdown",
   "metadata": {},
   "source": [
    "2.  Are the primary clients younger or older, new or long-standing?"
   ]
  },
  {
   "cell_type": "code",
   "execution_count": null,
   "metadata": {},
   "outputs": [],
   "source": [
    "# Age groups: younger vs older\n",
    "younger_clients = df_merged[df_merged['clnt_age'] < df_merged['clnt_age'].median()]\n",
    "older_clients = df_merged[df_merged['clnt_age'] >= df_merged['clnt_age'].median()]\n",
    "\n"
   ]
  },
  {
   "cell_type": "code",
   "execution_count": null,
   "metadata": {},
   "outputs": [],
   "source": [
    "print (younger_clients)"
   ]
  },
  {
   "cell_type": "code",
   "execution_count": null,
   "metadata": {},
   "outputs": [],
   "source": [
    "print(older_clients)"
   ]
  },
  {
   "cell_type": "code",
   "execution_count": null,
   "metadata": {},
   "outputs": [],
   "source": [
    "# New vs long-standing clients\n",
    "new_clients = df_merged[df_merged['clnt_age'] < df_merged['clnt_age'].median()]\n",
    "long_standing_clients = df_merged[df_merged['clnt_age'] >= df_merged['clnt_age'].median()]"
   ]
  },
  {
   "cell_type": "code",
   "execution_count": null,
   "metadata": {},
   "outputs": [],
   "source": [
    "print(new_clients)"
   ]
  },
  {
   "cell_type": "code",
   "execution_count": null,
   "metadata": {},
   "outputs": [],
   "source": [
    "print(long_standing_clients)"
   ]
  },
  {
   "cell_type": "code",
   "execution_count": null,
   "metadata": {},
   "outputs": [],
   "source": [
    "sns.histplot(younger_clients['clnt_age'], kde=True, color='blue', label='Younger Clients')\n",
    "sns.histplot(older_clients['clnt_age'], kde=True, color='red', label='Older Clients')\n",
    "plt.title('Age Distribution: Younger vs Older Clients')\n",
    "plt.legend()\n",
    "plt.show()"
   ]
  },
  {
   "cell_type": "code",
   "execution_count": null,
   "metadata": {},
   "outputs": [],
   "source": [
    "sns.histplot(new_clients['clnt_age'], kde=True, color='green', label='New Clients')\n",
    "sns.histplot(long_standing_clients['clnt_age'], kde=True, color='purple', label='Long-Standing Clients')\n",
    "plt.title('Account Age Distribution: New vs Long-Standing Clients')\n",
    "plt.legend()\n",
    "plt.show()"
   ]
  },
  {
   "cell_type": "code",
   "execution_count": null,
   "metadata": {},
   "outputs": [],
   "source": [
    "df_Merged = df_merged.merge(df_demo, on='client_id', how='left').merge(df_experiment, on='client_id', how='left')"
   ]
  },
  {
   "cell_type": "markdown",
   "metadata": {},
   "source": [
    "## Client Behavior Analysis\n",
    "\n",
    "Interaction Patterns:"
   ]
  },
  {
   "cell_type": "code",
   "execution_count": null,
   "metadata": {},
   "outputs": [],
   "source": [
    "import matplotlib.pyplot as plt\n",
    "# Plot Distribution of Logins\n",
    "plt.figure(figsize=(10, 5))\n",
    "sns.histplot(df_merged['clnt_tenure_mnth'], bins=9, kde=True)\n",
    "plt.title('Distribution of Customer Logins in the Last 6 Months')\n",
    "plt.xlabel('clnt_tenure_mnth')\n",
    "plt.ylabel('clnt_age')\n",
    "plt.show()\n"
   ]
  },
  {
   "cell_type": "code",
   "execution_count": null,
   "metadata": {},
   "outputs": [],
   "source": [
    "# Plot Distribution of Calls\n",
    "plt.figure(figsize=(10, 5))\n",
    "sns.histplot(df_merged['clnt_tenure_yr'], bins=6, kde=True)\n",
    "plt.title('Distribution of Customer Service Calls in the Last years')\n",
    "plt.xlabel('clnt_tenure_yr')\n",
    "plt.ylabel('clnt_age')\n",
    "plt.show()"
   ]
  },
  {
   "cell_type": "markdown",
   "metadata": {},
   "source": [
    "## Day 3 (Week 5): KPIs & Metrics\n",
    "\n",
    "## Hypothesis \n",
    "\n",
    "# 1 Completion Rate\n",
    "To test if the difference in completion rate between the test and control groups is statistically significant, we can use a two-proportion z-test.\n",
    "\n",
    "Null Hypothesis (H0): The completion rate for the control group is equal to the completion rate for the test group.\n",
    "Alternative Hypothesis (H1): The completion rate for the control group is not equal to the completion rate for the test group.\n",
    "\n",
    "# 2 Completion Rate with a Cost-Effectiveness Threshold\n",
    "To test if the observed increase in completion rate from the A/B test meets or exceeds the 5% threshold, we can again use a two-proportion z-test but with a specific threshold.\n",
    "\n",
    "Null Hypothesis (H0): The completion rate for the test group is less than or equal to the completion rate for the control group plus 5%.\n",
    "Alternative Hypothesis (H1): The completion rate for the test group is greater than the completion rate for the control group plus 5%.\n",
    "\n",
    "# 3 Other Hypothesis Example\n",
    "Let's test whether the average age of clients engaging with the new process is the same as those engaging with the old process using a two-sample t-test.\n",
    "\n",
    "Null Hypothesis (H0): The average age of clients is the same for the control and test groups.\n",
    "Alternative Hypothesis (H1): The average age of clients is different for the control and test groups.\n",
    "\n",
    "\n",
    "\n",
    "\n",
    "\n",
    "\n",
    "\n",
    "Tasks:\n",
    "\n",
    "Review KPIs and Metrics:\n",
    "\n",
    "Understand the concepts and importance of KPIs and metrics in evaluating performance.\n",
    "Identify Success Indicators:\n",
    "\n",
    "Define KPIs like completion rate, time spent on each step, and error rates.\n",
    "Identify any additional relevant KPIs.\n",
    "Redesign Outcome:\n",
    "\n",
    "Analyze the data to determine if the new design improves the KPIs."
   ]
  },
  {
   "cell_type": "code",
   "execution_count": null,
   "metadata": {},
   "outputs": [],
   "source": [
    "print(df_merged.columns)\n"
   ]
  },
  {
   "cell_type": "markdown",
   "metadata": {},
   "source": [
    "# Verify Column Names and Merge Datasets\n",
    "Ensure that the merging and data cleaning steps correctly include all necessary columns. Here’s the corrected and detailed merging process:"
   ]
  },
  {
   "cell_type": "code",
   "execution_count": null,
   "metadata": {},
   "outputs": [],
   "source": [
    "import pandas as pd\n",
    "\n",
    "# Sample data for demonstration (replace with actual data)\n",
    "data_demo = {'client_id': [1, 2, 3, 4, 5], 'age': [25, 30, 35, 40, 45], 'gender': ['M', 'F', 'M', 'F', 'M']}\n",
    "data_experiment = {'client_id': [1, 2, 3, 4, 5], 'design': ['control', 'control', 'test', 'test', 'control']}\n",
    "data_web = {'client_id': [1, 2, 3, 4, 5], 'logins': [10, 15, 10, 5, 8], 'calls': [3, 4, 2, 1, 5], 'completed': [1, 1, 0, 1, 0], 'time_spent': [300, 320, 310, 250, 260], 'errors': [0, 1, 2, 0, 1]}\n",
    "\n",
    "df_demo = pd.DataFrame(data_demo)\n",
    "df_experiment = pd.DataFrame(data_experiment)\n",
    "df_web_data = pd.DataFrame(data_web)\n",
    "\n",
    "# Merge the DataFrames\n",
    "df_merged = df_experiment.merge(df_demo, on='client_id', how='left').merge(df_web_data, on='client_id', how='left')\n",
    "\n",
    "# Check the merged DataFrame\n",
    "print(df_merged.head())\n"
   ]
  },
  {
   "cell_type": "code",
   "execution_count": null,
   "metadata": {},
   "outputs": [],
   "source": [
    "# Calculate KPIs\n",
    "completion_rate = df_merged.groupby('design')['completed'].mean()\n",
    "time_spent = df_merged.groupby('design')['time_spent'].mean()\n",
    "error_rate = df_merged.groupby('design')['errors'].mean()\n",
    "\n",
    "\n",
    "\n",
    "# Print KPIs\n",
    "print(\"Completion Rate:\")\n",
    "print(completion_rate)\n",
    "print(\"\\nTime Spent on Each Step:\")\n",
    "print(time_spent)\n",
    "print(\"\\nError Rates:\")\n",
    "print(error_rate)"
   ]
  },
  {
   "cell_type": "code",
   "execution_count": null,
   "metadata": {},
   "outputs": [],
   "source": [
    "# Completion Rate\n",
    "plt.figure(figsize=(10, 5))\n",
    "completion_rate.plot(kind='bar', title='Completion Rate')\n",
    "plt.xlabel('Design')\n",
    "plt.ylabel('Completion Rate')\n",
    "plt.show()\n"
   ]
  },
  {
   "cell_type": "code",
   "execution_count": null,
   "metadata": {},
   "outputs": [],
   "source": [
    "# Time Spent\n",
    "plt.figure(figsize=(10, 5))\n",
    "time_spent.plot(kind='bar', title='Time Spent on Each Step')\n",
    "plt.xlabel('Design')\n",
    "plt.ylabel('Time Spent (seconds)')\n",
    "plt.show()\n"
   ]
  },
  {
   "cell_type": "code",
   "execution_count": null,
   "metadata": {},
   "outputs": [],
   "source": [
    "\n",
    "# Error Rate\n",
    "plt.figure(figsize=(10, 5))\n",
    "error_rate.plot(kind='bar', title='Error Rates')\n",
    "plt.xlabel('Design')\n",
    "plt.ylabel('Error Rate')\n",
    "plt.show()"
   ]
  },
  {
   "cell_type": "markdown",
   "metadata": {},
   "source": [
    "Step 3: Interpret Results\n",
    "Here is an example of how you might interpret the results based on the visualizations and printed KPIs:\n",
    "\n",
    "Completion Rate:\n",
    "\n",
    "If the completion rate is higher for the test group, it indicates that the new design helps more users complete the process.\n",
    "Time Spent on Each Step:\n",
    "\n",
    "If the average time spent on each step is lower for the test group, it suggests that the new design is more efficient and helps users navigate through the steps more quickly.\n",
    "Error Rates:\n",
    "\n",
    "If the error rate is lower for the test group, it indicates that users are experiencing fewer issues and are less confused by the new design."
   ]
  },
  {
   "cell_type": "markdown",
   "metadata": {},
   "source": [
    "# Day 4 & 5 (Week 5): Hypothesis Testing & Experiment Evaluation\n",
    "Tasks:\n",
    "\n",
    "Hypothesis Testing:\n",
    "\n",
    "Conduct hypothesis tests to compare the old and new designs.\n",
    "Test for completion rates, cost-effectiveness, and other relevant metrics.\n",
    "Experiment Evaluation:\n",
    "\n",
    "Assess the overall design effectiveness.\n",
    "Evaluate the duration of the experiment.\n",
    "Identify any additional data needs for future experiments."
   ]
  },
  {
   "cell_type": "markdown",
   "metadata": {},
   "source": [
    "1. Hypothesis Testing for Completion Rate:"
   ]
  },
  {
   "cell_type": "code",
   "execution_count": null,
   "metadata": {},
   "outputs": [],
   "source": [
    "from scipy.stats import ttest_ind\n",
    "\n",
    "# Hypothesis Testing for Completion Rate\n",
    "control_group = df_merged[df_merged['design'] == 'control']['completed']\n",
    "test_group = df_merged[df_merged['design'] == 'test']['completed']\n",
    "t_stat, p_value = ttest_ind(control_group, test_group)\n",
    "\n",
    "print(f\"T-statistic: {t_stat}, P-value: {p_value}\")\n"
   ]
  },
  {
   "cell_type": "code",
   "execution_count": null,
   "metadata": {},
   "outputs": [],
   "source": [
    "# Interpret results\n",
    "if p_value < 0.05:\n",
    "    print(\"Significant difference in completion rates between control and test groups.\")\n",
    "else:\n",
    "    print(\"No significant difference in completion rates between control and test groups.\")"
   ]
  },
  {
   "cell_type": "code",
   "execution_count": null,
   "metadata": {},
   "outputs": [],
   "source": [
    "# Two-sample t-test for average age\n",
    "control_age = df_merged[df_merged['design'] == 'control']['age']\n",
    "test_age = df_merged[df_merged['design'] == 'test']['age']\n",
    "t_stat, p_value_age = ttest_ind(control_age, test_age)\n",
    "print(f\"T-statistic: {t_stat}, P-value: {p_value_age}\")\n"
   ]
  },
  {
   "cell_type": "markdown",
   "metadata": {},
   "source": [
    "df_merged"
   ]
  },
  {
   "cell_type": "markdown",
   "metadata": {},
   "source": [
    "# Experiment Evaluation\n",
    "Assess Duration of the Experiment:\n",
    "\n",
    "Make sure to use the correct columns for the dates:"
   ]
  },
  {
   "cell_type": "code",
   "execution_count": null,
   "metadata": {},
   "outputs": [],
   "source": [
    "\n",
    "# Example: Assess the duration of the experiment\n",
    "experiment_duration = df_merged['logins'].max() - df_merged['time_spent'].min()\n",
    "print(f\"Experiment Duration: {experiment_duration}\")"
   ]
  }
 ],
 "metadata": {
  "language_info": {
   "name": "python"
  }
 },
 "nbformat": 4,
 "nbformat_minor": 2
}
