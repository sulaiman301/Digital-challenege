{
 "cells": [
  {
   "cell_type": "markdown",
   "metadata": {},
   "source": [
    "***DIGITAL-CHALLENGE -  A/B TEST***"
   ]
  },
  {
   "cell_type": "markdown",
   "metadata": {},
   "source": [
    "***The aim of this project is to explore the impact of a new, more intuitive user interface (UI) with contextual messages on user experience and completion rates.*** \n",
    "\n",
    "We are analyzing data from an A/B test conducted by Vanguard, a U.S. asset management company. \n",
    "\n",
    "Our goal is to determine whether the new UI enhances user experience and leads to higher completion rates."
   ]
  },
  {
   "cell_type": "markdown",
   "metadata": {},
   "source": [
    "## Overview \n",
    "\n",
    "### Data cleaning and preparation:\n",
    "\n",
    "Merging multiple data sets and removing duplicates.\n",
    "\n",
    "Dealing with missing values by filling in with median or mode.\n",
    "\n",
    "Ensuring data consistency and integrity.\n",
    "\n",
    "### Dataset's:\n",
    "\n",
    "Client Profiles (df_final_demo): This dataset includes customer details.\n",
    "\n",
    "Digital Footprints (df_final_web_data) pt_1 and pt_2: In these two Datasets are information about the digital traces of customers, which reflect their activities and interactions on the Internet.\n",
    "\n",
    "Experiment Roster (df_final_experiment_clients): the last dataset we find a list identifying the clients who participated in the grand experiment\n",
    "\n",
    "Combined to Clean_Data\n",
    "\n",
    "### Exploratory data analysis (EDA):\n",
    "\n",
    "Analyzing user demographic characteristics, such as age and gender.\n",
    "\n",
    "Examination of user behavior, including the number of logins and calls in the last six months.\n",
    "\n",
    "Visualization of the distribution of users by age, gender, login and call frequency.\n",
    "\n",
    "### Hypothesis tests:\n",
    "\n",
    "Completion rates: Investigating whether there is a significant difference in completion rates between the control and test groups.\n",
    "\n",
    "### Dwell time: \n",
    "\n",
    "Analysis of whether the new UI has influenced the time users spend on the individual process steps.\n",
    "\n",
    "### Error rates: Examining whether the new UI has led to a reduction in error rates.\n",
    "\n",
    "Conclusions and recommendations:\n",
    "\n",
    "Summary of the results of the analyses.\n",
    "Recommendations for future improvements based on the findings."
   ]
  },
  {
   "cell_type": "markdown",
   "metadata": {},
   "source": [
    "Implort Libaries"
   ]
  },
  {
   "cell_type": "code",
   "execution_count": 2,
   "metadata": {},
   "outputs": [],
   "source": [
    "import pandas as pd\n",
    "import seaborn as sns\n",
    "import seaborn as sns\n",
    "from scipy.stats import chi2_contingency, mannwhitneyu"
   ]
  },
  {
   "cell_type": "markdown",
   "metadata": {},
   "source": [
    "## Load data"
   ]
  },
  {
   "cell_type": "code",
   "execution_count": 87,
   "metadata": {},
   "outputs": [],
   "source": [
    "#Digital footprints # Read data\n",
    "\n",
    "file_final_demo =r'C:\\Users\\User\\Documents\\IRON HACK DA 2024\\Project Digital Challenge\\New folder\\Digital-challenege\\DATA\\raw\\df_final_demo.txt'\n",
    "file_experiment_clients =r'C:\\Users\\User\\Documents\\IRON HACK DA 2024\\Project Digital Challenge\\New folder\\Digital-challenege\\DATA\\raw\\df_final_experiment_clients.txt'\n",
    "\n"
   ]
  },
  {
   "cell_type": "code",
   "execution_count": 88,
   "metadata": {},
   "outputs": [],
   "source": [
    "file_path_1= r'C:\\Users\\User\\Documents\\IRON HACK DA 2024\\Project Digital Challenge\\New folder\\Digital-challenege\\DATA\\raw\\df_final_web_data_pt_1.txt'\n",
    "file_path_2= r'C:\\Users\\User\\Documents\\IRON HACK DA 2024\\Project Digital Challenge\\New folder\\Digital-challenege\\DATA\\raw\\df_final_web_data_pt_2.txt'\n"
   ]
  },
  {
   "cell_type": "markdown",
   "metadata": {},
   "source": [
    "Inspect the datasets:   Check for missing values, data types, and basic statistics."
   ]
  },
  {
   "cell_type": "code",
   "execution_count": 89,
   "metadata": {},
   "outputs": [
    {
     "data": {
      "text/html": [
       "<div>\n",
       "<style scoped>\n",
       "    .dataframe tbody tr th:only-of-type {\n",
       "        vertical-align: middle;\n",
       "    }\n",
       "\n",
       "    .dataframe tbody tr th {\n",
       "        vertical-align: top;\n",
       "    }\n",
       "\n",
       "    .dataframe thead th {\n",
       "        text-align: right;\n",
       "    }\n",
       "</style>\n",
       "<table border=\"1\" class=\"dataframe\">\n",
       "  <thead>\n",
       "    <tr style=\"text-align: right;\">\n",
       "      <th></th>\n",
       "      <th>client_id</th>\n",
       "      <th>clnt_tenure_yr</th>\n",
       "      <th>clnt_tenure_mnth</th>\n",
       "      <th>clnt_age</th>\n",
       "      <th>gendr</th>\n",
       "      <th>num_accts</th>\n",
       "      <th>bal</th>\n",
       "      <th>calls_6_mnth</th>\n",
       "      <th>logons_6_mnth</th>\n",
       "    </tr>\n",
       "  </thead>\n",
       "  <tbody>\n",
       "    <tr>\n",
       "      <th>0</th>\n",
       "      <td>836976</td>\n",
       "      <td>6.0</td>\n",
       "      <td>73.0</td>\n",
       "      <td>60.5</td>\n",
       "      <td>U</td>\n",
       "      <td>2.0</td>\n",
       "      <td>45105.30</td>\n",
       "      <td>6.0</td>\n",
       "      <td>9.0</td>\n",
       "    </tr>\n",
       "    <tr>\n",
       "      <th>1</th>\n",
       "      <td>2304905</td>\n",
       "      <td>7.0</td>\n",
       "      <td>94.0</td>\n",
       "      <td>58.0</td>\n",
       "      <td>U</td>\n",
       "      <td>2.0</td>\n",
       "      <td>110860.30</td>\n",
       "      <td>6.0</td>\n",
       "      <td>9.0</td>\n",
       "    </tr>\n",
       "    <tr>\n",
       "      <th>2</th>\n",
       "      <td>1439522</td>\n",
       "      <td>5.0</td>\n",
       "      <td>64.0</td>\n",
       "      <td>32.0</td>\n",
       "      <td>U</td>\n",
       "      <td>2.0</td>\n",
       "      <td>52467.79</td>\n",
       "      <td>6.0</td>\n",
       "      <td>9.0</td>\n",
       "    </tr>\n",
       "    <tr>\n",
       "      <th>3</th>\n",
       "      <td>1562045</td>\n",
       "      <td>16.0</td>\n",
       "      <td>198.0</td>\n",
       "      <td>49.0</td>\n",
       "      <td>M</td>\n",
       "      <td>2.0</td>\n",
       "      <td>67454.65</td>\n",
       "      <td>3.0</td>\n",
       "      <td>6.0</td>\n",
       "    </tr>\n",
       "    <tr>\n",
       "      <th>4</th>\n",
       "      <td>5126305</td>\n",
       "      <td>12.0</td>\n",
       "      <td>145.0</td>\n",
       "      <td>33.0</td>\n",
       "      <td>F</td>\n",
       "      <td>2.0</td>\n",
       "      <td>103671.75</td>\n",
       "      <td>0.0</td>\n",
       "      <td>3.0</td>\n",
       "    </tr>\n",
       "    <tr>\n",
       "      <th>...</th>\n",
       "      <td>...</td>\n",
       "      <td>...</td>\n",
       "      <td>...</td>\n",
       "      <td>...</td>\n",
       "      <td>...</td>\n",
       "      <td>...</td>\n",
       "      <td>...</td>\n",
       "      <td>...</td>\n",
       "      <td>...</td>\n",
       "    </tr>\n",
       "    <tr>\n",
       "      <th>70604</th>\n",
       "      <td>7993686</td>\n",
       "      <td>4.0</td>\n",
       "      <td>56.0</td>\n",
       "      <td>38.5</td>\n",
       "      <td>U</td>\n",
       "      <td>3.0</td>\n",
       "      <td>1411062.68</td>\n",
       "      <td>5.0</td>\n",
       "      <td>5.0</td>\n",
       "    </tr>\n",
       "    <tr>\n",
       "      <th>70605</th>\n",
       "      <td>8981690</td>\n",
       "      <td>12.0</td>\n",
       "      <td>148.0</td>\n",
       "      <td>31.0</td>\n",
       "      <td>M</td>\n",
       "      <td>2.0</td>\n",
       "      <td>101867.07</td>\n",
       "      <td>6.0</td>\n",
       "      <td>6.0</td>\n",
       "    </tr>\n",
       "    <tr>\n",
       "      <th>70606</th>\n",
       "      <td>333913</td>\n",
       "      <td>16.0</td>\n",
       "      <td>198.0</td>\n",
       "      <td>61.5</td>\n",
       "      <td>F</td>\n",
       "      <td>2.0</td>\n",
       "      <td>40745.00</td>\n",
       "      <td>3.0</td>\n",
       "      <td>3.0</td>\n",
       "    </tr>\n",
       "    <tr>\n",
       "      <th>70607</th>\n",
       "      <td>1573142</td>\n",
       "      <td>21.0</td>\n",
       "      <td>255.0</td>\n",
       "      <td>68.0</td>\n",
       "      <td>M</td>\n",
       "      <td>3.0</td>\n",
       "      <td>475114.69</td>\n",
       "      <td>4.0</td>\n",
       "      <td>4.0</td>\n",
       "    </tr>\n",
       "    <tr>\n",
       "      <th>70608</th>\n",
       "      <td>5602139</td>\n",
       "      <td>21.0</td>\n",
       "      <td>254.0</td>\n",
       "      <td>59.5</td>\n",
       "      <td>F</td>\n",
       "      <td>3.0</td>\n",
       "      <td>157498.73</td>\n",
       "      <td>7.0</td>\n",
       "      <td>7.0</td>\n",
       "    </tr>\n",
       "  </tbody>\n",
       "</table>\n",
       "<p>70609 rows × 9 columns</p>\n",
       "</div>"
      ],
      "text/plain": [
       "       client_id  clnt_tenure_yr  clnt_tenure_mnth  clnt_age gendr  num_accts  \\\n",
       "0         836976             6.0              73.0      60.5     U        2.0   \n",
       "1        2304905             7.0              94.0      58.0     U        2.0   \n",
       "2        1439522             5.0              64.0      32.0     U        2.0   \n",
       "3        1562045            16.0             198.0      49.0     M        2.0   \n",
       "4        5126305            12.0             145.0      33.0     F        2.0   \n",
       "...          ...             ...               ...       ...   ...        ...   \n",
       "70604    7993686             4.0              56.0      38.5     U        3.0   \n",
       "70605    8981690            12.0             148.0      31.0     M        2.0   \n",
       "70606     333913            16.0             198.0      61.5     F        2.0   \n",
       "70607    1573142            21.0             255.0      68.0     M        3.0   \n",
       "70608    5602139            21.0             254.0      59.5     F        3.0   \n",
       "\n",
       "              bal  calls_6_mnth  logons_6_mnth  \n",
       "0        45105.30           6.0            9.0  \n",
       "1       110860.30           6.0            9.0  \n",
       "2        52467.79           6.0            9.0  \n",
       "3        67454.65           3.0            6.0  \n",
       "4       103671.75           0.0            3.0  \n",
       "...           ...           ...            ...  \n",
       "70604  1411062.68           5.0            5.0  \n",
       "70605   101867.07           6.0            6.0  \n",
       "70606    40745.00           3.0            3.0  \n",
       "70607   475114.69           4.0            4.0  \n",
       "70608   157498.73           7.0            7.0  \n",
       "\n",
       "[70609 rows x 9 columns]"
      ]
     },
     "execution_count": 89,
     "metadata": {},
     "output_type": "execute_result"
    }
   ],
   "source": [
    "pd.read_csv(file_final_demo, sep=\",\")"
   ]
  },
  {
   "cell_type": "code",
   "execution_count": 90,
   "metadata": {},
   "outputs": [],
   "source": [
    "df_final_demo = pd.read_csv(file_final_demo, sep=\",\")\n",
    "df_final_experiment_clients= pd.read_csv(file_experiment_clients, sep=\",\")"
   ]
  },
  {
   "cell_type": "markdown",
   "metadata": {},
   "source": [
    "Merge Digital Footprints.\n",
    "\n",
    "Combine the two parts of the digital footprints dataset."
   ]
  },
  {
   "cell_type": "code",
   "execution_count": 91,
   "metadata": {},
   "outputs": [],
   "source": [
    "df1=pd.read_csv(r\"C:\\Users\\User\\Documents\\IRON HACK DA 2024\\Project Digital Challenge\\New folder\\Digital-challenege\\DATA\\raw\\df_final_web_data_pt_1.txt\")\n",
    "df2=pd.read_csv(r\"C:\\Users\\User\\Documents\\IRON HACK DA 2024\\Project Digital Challenge\\New folder\\Digital-challenege\\DATA\\raw\\df_final_web_data_pt_2.txt\")"
   ]
  },
  {
   "cell_type": "code",
   "execution_count": 92,
   "metadata": {},
   "outputs": [],
   "source": [
    "#combined the data\n",
    "df_combined = pd.concat([df1, df2])"
   ]
  },
  {
   "cell_type": "code",
   "execution_count": 93,
   "metadata": {},
   "outputs": [
    {
     "data": {
      "text/html": [
       "<div>\n",
       "<style scoped>\n",
       "    .dataframe tbody tr th:only-of-type {\n",
       "        vertical-align: middle;\n",
       "    }\n",
       "\n",
       "    .dataframe tbody tr th {\n",
       "        vertical-align: top;\n",
       "    }\n",
       "\n",
       "    .dataframe thead th {\n",
       "        text-align: right;\n",
       "    }\n",
       "</style>\n",
       "<table border=\"1\" class=\"dataframe\">\n",
       "  <thead>\n",
       "    <tr style=\"text-align: right;\">\n",
       "      <th></th>\n",
       "      <th>client_id</th>\n",
       "      <th>visitor_id</th>\n",
       "      <th>visit_id</th>\n",
       "      <th>process_step</th>\n",
       "      <th>date_time</th>\n",
       "    </tr>\n",
       "  </thead>\n",
       "  <tbody>\n",
       "    <tr>\n",
       "      <th>0</th>\n",
       "      <td>9988021</td>\n",
       "      <td>580560515_7732621733</td>\n",
       "      <td>781255054_21935453173_531117</td>\n",
       "      <td>step_3</td>\n",
       "      <td>2017-04-17 15:27:07</td>\n",
       "    </tr>\n",
       "    <tr>\n",
       "      <th>1</th>\n",
       "      <td>9988021</td>\n",
       "      <td>580560515_7732621733</td>\n",
       "      <td>781255054_21935453173_531117</td>\n",
       "      <td>step_2</td>\n",
       "      <td>2017-04-17 15:26:51</td>\n",
       "    </tr>\n",
       "    <tr>\n",
       "      <th>2</th>\n",
       "      <td>9988021</td>\n",
       "      <td>580560515_7732621733</td>\n",
       "      <td>781255054_21935453173_531117</td>\n",
       "      <td>step_3</td>\n",
       "      <td>2017-04-17 15:19:22</td>\n",
       "    </tr>\n",
       "    <tr>\n",
       "      <th>3</th>\n",
       "      <td>9988021</td>\n",
       "      <td>580560515_7732621733</td>\n",
       "      <td>781255054_21935453173_531117</td>\n",
       "      <td>step_2</td>\n",
       "      <td>2017-04-17 15:19:13</td>\n",
       "    </tr>\n",
       "    <tr>\n",
       "      <th>4</th>\n",
       "      <td>9988021</td>\n",
       "      <td>580560515_7732621733</td>\n",
       "      <td>781255054_21935453173_531117</td>\n",
       "      <td>step_3</td>\n",
       "      <td>2017-04-17 15:18:04</td>\n",
       "    </tr>\n",
       "    <tr>\n",
       "      <th>...</th>\n",
       "      <td>...</td>\n",
       "      <td>...</td>\n",
       "      <td>...</td>\n",
       "      <td>...</td>\n",
       "      <td>...</td>\n",
       "    </tr>\n",
       "    <tr>\n",
       "      <th>412259</th>\n",
       "      <td>9668240</td>\n",
       "      <td>388766751_9038881013</td>\n",
       "      <td>922267647_3096648104_968866</td>\n",
       "      <td>start</td>\n",
       "      <td>2017-05-24 18:46:10</td>\n",
       "    </tr>\n",
       "    <tr>\n",
       "      <th>412260</th>\n",
       "      <td>9668240</td>\n",
       "      <td>388766751_9038881013</td>\n",
       "      <td>922267647_3096648104_968866</td>\n",
       "      <td>start</td>\n",
       "      <td>2017-05-24 18:45:29</td>\n",
       "    </tr>\n",
       "    <tr>\n",
       "      <th>412261</th>\n",
       "      <td>9668240</td>\n",
       "      <td>388766751_9038881013</td>\n",
       "      <td>922267647_3096648104_968866</td>\n",
       "      <td>step_1</td>\n",
       "      <td>2017-05-24 18:44:51</td>\n",
       "    </tr>\n",
       "    <tr>\n",
       "      <th>412262</th>\n",
       "      <td>9668240</td>\n",
       "      <td>388766751_9038881013</td>\n",
       "      <td>922267647_3096648104_968866</td>\n",
       "      <td>start</td>\n",
       "      <td>2017-05-24 18:44:34</td>\n",
       "    </tr>\n",
       "    <tr>\n",
       "      <th>412263</th>\n",
       "      <td>674799</td>\n",
       "      <td>947159805_81558194550</td>\n",
       "      <td>86152093_47511127657_716022</td>\n",
       "      <td>start</td>\n",
       "      <td>2017-06-03 12:17:09</td>\n",
       "    </tr>\n",
       "  </tbody>\n",
       "</table>\n",
       "<p>755405 rows × 5 columns</p>\n",
       "</div>"
      ],
      "text/plain": [
       "        client_id             visitor_id                      visit_id  \\\n",
       "0         9988021   580560515_7732621733  781255054_21935453173_531117   \n",
       "1         9988021   580560515_7732621733  781255054_21935453173_531117   \n",
       "2         9988021   580560515_7732621733  781255054_21935453173_531117   \n",
       "3         9988021   580560515_7732621733  781255054_21935453173_531117   \n",
       "4         9988021   580560515_7732621733  781255054_21935453173_531117   \n",
       "...           ...                    ...                           ...   \n",
       "412259    9668240   388766751_9038881013   922267647_3096648104_968866   \n",
       "412260    9668240   388766751_9038881013   922267647_3096648104_968866   \n",
       "412261    9668240   388766751_9038881013   922267647_3096648104_968866   \n",
       "412262    9668240   388766751_9038881013   922267647_3096648104_968866   \n",
       "412263     674799  947159805_81558194550   86152093_47511127657_716022   \n",
       "\n",
       "       process_step            date_time  \n",
       "0            step_3  2017-04-17 15:27:07  \n",
       "1            step_2  2017-04-17 15:26:51  \n",
       "2            step_3  2017-04-17 15:19:22  \n",
       "3            step_2  2017-04-17 15:19:13  \n",
       "4            step_3  2017-04-17 15:18:04  \n",
       "...             ...                  ...  \n",
       "412259        start  2017-05-24 18:46:10  \n",
       "412260        start  2017-05-24 18:45:29  \n",
       "412261       step_1  2017-05-24 18:44:51  \n",
       "412262        start  2017-05-24 18:44:34  \n",
       "412263        start  2017-06-03 12:17:09  \n",
       "\n",
       "[755405 rows x 5 columns]"
      ]
     },
     "execution_count": 93,
     "metadata": {},
     "output_type": "execute_result"
    }
   ],
   "source": [
    "df_combined"
   ]
  },
  {
   "cell_type": "markdown",
   "metadata": {},
   "source": [
    " ## Exploring the data & Clean the Data\n",
    "Handle missing values, outliers, and any inconsistencies in the data."
   ]
  },
  {
   "cell_type": "code",
   "execution_count": 94,
   "metadata": {},
   "outputs": [
    {
     "data": {
      "text/html": [
       "<div>\n",
       "<style scoped>\n",
       "    .dataframe tbody tr th:only-of-type {\n",
       "        vertical-align: middle;\n",
       "    }\n",
       "\n",
       "    .dataframe tbody tr th {\n",
       "        vertical-align: top;\n",
       "    }\n",
       "\n",
       "    .dataframe thead th {\n",
       "        text-align: right;\n",
       "    }\n",
       "</style>\n",
       "<table border=\"1\" class=\"dataframe\">\n",
       "  <thead>\n",
       "    <tr style=\"text-align: right;\">\n",
       "      <th></th>\n",
       "      <th>client_id</th>\n",
       "      <th>clnt_tenure_yr</th>\n",
       "      <th>clnt_tenure_mnth</th>\n",
       "      <th>clnt_age</th>\n",
       "      <th>gendr</th>\n",
       "      <th>num_accts</th>\n",
       "      <th>bal</th>\n",
       "      <th>calls_6_mnth</th>\n",
       "      <th>logons_6_mnth</th>\n",
       "    </tr>\n",
       "  </thead>\n",
       "  <tbody>\n",
       "    <tr>\n",
       "      <th>0</th>\n",
       "      <td>836976</td>\n",
       "      <td>6.0</td>\n",
       "      <td>73.0</td>\n",
       "      <td>60.5</td>\n",
       "      <td>U</td>\n",
       "      <td>2.0</td>\n",
       "      <td>45105.30</td>\n",
       "      <td>6.0</td>\n",
       "      <td>9.0</td>\n",
       "    </tr>\n",
       "    <tr>\n",
       "      <th>1</th>\n",
       "      <td>2304905</td>\n",
       "      <td>7.0</td>\n",
       "      <td>94.0</td>\n",
       "      <td>58.0</td>\n",
       "      <td>U</td>\n",
       "      <td>2.0</td>\n",
       "      <td>110860.30</td>\n",
       "      <td>6.0</td>\n",
       "      <td>9.0</td>\n",
       "    </tr>\n",
       "    <tr>\n",
       "      <th>2</th>\n",
       "      <td>1439522</td>\n",
       "      <td>5.0</td>\n",
       "      <td>64.0</td>\n",
       "      <td>32.0</td>\n",
       "      <td>U</td>\n",
       "      <td>2.0</td>\n",
       "      <td>52467.79</td>\n",
       "      <td>6.0</td>\n",
       "      <td>9.0</td>\n",
       "    </tr>\n",
       "    <tr>\n",
       "      <th>3</th>\n",
       "      <td>1562045</td>\n",
       "      <td>16.0</td>\n",
       "      <td>198.0</td>\n",
       "      <td>49.0</td>\n",
       "      <td>M</td>\n",
       "      <td>2.0</td>\n",
       "      <td>67454.65</td>\n",
       "      <td>3.0</td>\n",
       "      <td>6.0</td>\n",
       "    </tr>\n",
       "    <tr>\n",
       "      <th>4</th>\n",
       "      <td>5126305</td>\n",
       "      <td>12.0</td>\n",
       "      <td>145.0</td>\n",
       "      <td>33.0</td>\n",
       "      <td>F</td>\n",
       "      <td>2.0</td>\n",
       "      <td>103671.75</td>\n",
       "      <td>0.0</td>\n",
       "      <td>3.0</td>\n",
       "    </tr>\n",
       "  </tbody>\n",
       "</table>\n",
       "</div>"
      ],
      "text/plain": [
       "   client_id  clnt_tenure_yr  clnt_tenure_mnth  clnt_age gendr  num_accts  \\\n",
       "0     836976             6.0              73.0      60.5     U        2.0   \n",
       "1    2304905             7.0              94.0      58.0     U        2.0   \n",
       "2    1439522             5.0              64.0      32.0     U        2.0   \n",
       "3    1562045            16.0             198.0      49.0     M        2.0   \n",
       "4    5126305            12.0             145.0      33.0     F        2.0   \n",
       "\n",
       "         bal  calls_6_mnth  logons_6_mnth  \n",
       "0   45105.30           6.0            9.0  \n",
       "1  110860.30           6.0            9.0  \n",
       "2   52467.79           6.0            9.0  \n",
       "3   67454.65           3.0            6.0  \n",
       "4  103671.75           0.0            3.0  "
      ]
     },
     "execution_count": 94,
     "metadata": {},
     "output_type": "execute_result"
    }
   ],
   "source": [
    "df_final_demo.head()"
   ]
  },
  {
   "cell_type": "code",
   "execution_count": 95,
   "metadata": {},
   "outputs": [
    {
     "data": {
      "text/html": [
       "<div>\n",
       "<style scoped>\n",
       "    .dataframe tbody tr th:only-of-type {\n",
       "        vertical-align: middle;\n",
       "    }\n",
       "\n",
       "    .dataframe tbody tr th {\n",
       "        vertical-align: top;\n",
       "    }\n",
       "\n",
       "    .dataframe thead th {\n",
       "        text-align: right;\n",
       "    }\n",
       "</style>\n",
       "<table border=\"1\" class=\"dataframe\">\n",
       "  <thead>\n",
       "    <tr style=\"text-align: right;\">\n",
       "      <th></th>\n",
       "      <th>client_id</th>\n",
       "      <th>Variation</th>\n",
       "    </tr>\n",
       "  </thead>\n",
       "  <tbody>\n",
       "    <tr>\n",
       "      <th>0</th>\n",
       "      <td>9988021</td>\n",
       "      <td>Test</td>\n",
       "    </tr>\n",
       "    <tr>\n",
       "      <th>1</th>\n",
       "      <td>8320017</td>\n",
       "      <td>Test</td>\n",
       "    </tr>\n",
       "    <tr>\n",
       "      <th>2</th>\n",
       "      <td>4033851</td>\n",
       "      <td>Control</td>\n",
       "    </tr>\n",
       "    <tr>\n",
       "      <th>3</th>\n",
       "      <td>1982004</td>\n",
       "      <td>Test</td>\n",
       "    </tr>\n",
       "    <tr>\n",
       "      <th>4</th>\n",
       "      <td>9294070</td>\n",
       "      <td>Control</td>\n",
       "    </tr>\n",
       "  </tbody>\n",
       "</table>\n",
       "</div>"
      ],
      "text/plain": [
       "   client_id Variation\n",
       "0    9988021      Test\n",
       "1    8320017      Test\n",
       "2    4033851   Control\n",
       "3    1982004      Test\n",
       "4    9294070   Control"
      ]
     },
     "execution_count": 95,
     "metadata": {},
     "output_type": "execute_result"
    }
   ],
   "source": [
    "df_final_experiment_clients.head()"
   ]
  },
  {
   "cell_type": "code",
   "execution_count": 96,
   "metadata": {},
   "outputs": [
    {
     "data": {
      "text/html": [
       "<div>\n",
       "<style scoped>\n",
       "    .dataframe tbody tr th:only-of-type {\n",
       "        vertical-align: middle;\n",
       "    }\n",
       "\n",
       "    .dataframe tbody tr th {\n",
       "        vertical-align: top;\n",
       "    }\n",
       "\n",
       "    .dataframe thead th {\n",
       "        text-align: right;\n",
       "    }\n",
       "</style>\n",
       "<table border=\"1\" class=\"dataframe\">\n",
       "  <thead>\n",
       "    <tr style=\"text-align: right;\">\n",
       "      <th></th>\n",
       "      <th>client_id</th>\n",
       "      <th>visitor_id</th>\n",
       "      <th>visit_id</th>\n",
       "      <th>process_step</th>\n",
       "      <th>date_time</th>\n",
       "    </tr>\n",
       "  </thead>\n",
       "  <tbody>\n",
       "    <tr>\n",
       "      <th>0</th>\n",
       "      <td>9988021</td>\n",
       "      <td>580560515_7732621733</td>\n",
       "      <td>781255054_21935453173_531117</td>\n",
       "      <td>step_3</td>\n",
       "      <td>2017-04-17 15:27:07</td>\n",
       "    </tr>\n",
       "    <tr>\n",
       "      <th>1</th>\n",
       "      <td>9988021</td>\n",
       "      <td>580560515_7732621733</td>\n",
       "      <td>781255054_21935453173_531117</td>\n",
       "      <td>step_2</td>\n",
       "      <td>2017-04-17 15:26:51</td>\n",
       "    </tr>\n",
       "    <tr>\n",
       "      <th>2</th>\n",
       "      <td>9988021</td>\n",
       "      <td>580560515_7732621733</td>\n",
       "      <td>781255054_21935453173_531117</td>\n",
       "      <td>step_3</td>\n",
       "      <td>2017-04-17 15:19:22</td>\n",
       "    </tr>\n",
       "    <tr>\n",
       "      <th>3</th>\n",
       "      <td>9988021</td>\n",
       "      <td>580560515_7732621733</td>\n",
       "      <td>781255054_21935453173_531117</td>\n",
       "      <td>step_2</td>\n",
       "      <td>2017-04-17 15:19:13</td>\n",
       "    </tr>\n",
       "    <tr>\n",
       "      <th>4</th>\n",
       "      <td>9988021</td>\n",
       "      <td>580560515_7732621733</td>\n",
       "      <td>781255054_21935453173_531117</td>\n",
       "      <td>step_3</td>\n",
       "      <td>2017-04-17 15:18:04</td>\n",
       "    </tr>\n",
       "  </tbody>\n",
       "</table>\n",
       "</div>"
      ],
      "text/plain": [
       "   client_id            visitor_id                      visit_id process_step  \\\n",
       "0    9988021  580560515_7732621733  781255054_21935453173_531117       step_3   \n",
       "1    9988021  580560515_7732621733  781255054_21935453173_531117       step_2   \n",
       "2    9988021  580560515_7732621733  781255054_21935453173_531117       step_3   \n",
       "3    9988021  580560515_7732621733  781255054_21935453173_531117       step_2   \n",
       "4    9988021  580560515_7732621733  781255054_21935453173_531117       step_3   \n",
       "\n",
       "             date_time  \n",
       "0  2017-04-17 15:27:07  \n",
       "1  2017-04-17 15:26:51  \n",
       "2  2017-04-17 15:19:22  \n",
       "3  2017-04-17 15:19:13  \n",
       "4  2017-04-17 15:18:04  "
      ]
     },
     "execution_count": 96,
     "metadata": {},
     "output_type": "execute_result"
    }
   ],
   "source": [
    "df_combined.head()"
   ]
  },
  {
   "cell_type": "code",
   "execution_count": 97,
   "metadata": {},
   "outputs": [
    {
     "name": "stdout",
     "output_type": "stream",
     "text": [
      "client_id            0\n",
      "clnt_tenure_yr      14\n",
      "clnt_tenure_mnth    14\n",
      "clnt_age            15\n",
      "gendr               14\n",
      "num_accts           14\n",
      "bal                 14\n",
      "calls_6_mnth        14\n",
      "logons_6_mnth       14\n",
      "dtype: int64\n",
      "client_id       0\n",
      "visitor_id      0\n",
      "visit_id        0\n",
      "process_step    0\n",
      "date_time       0\n",
      "dtype: int64\n",
      "client_id        0\n",
      "Variation    20109\n",
      "dtype: int64\n"
     ]
    }
   ],
   "source": [
    "# Check for missing values\n",
    "print(df_final_demo.isnull().sum())\n",
    "print(df_combined.isnull().sum())\n",
    "print(df_final_experiment_clients.isnull().sum())"
   ]
  },
  {
   "cell_type": "code",
   "execution_count": 98,
   "metadata": {},
   "outputs": [],
   "source": [
    "# Handle missing values (e.g., fill, drop, or impute)\n",
    "df_demo = df_final_demo.dropna()  # Example: drop rows with missing values\n",
    "df_web_data = df_combined.fillna(method='ffill')  # Example: forward fill missing values\n",
    "df_experiment = df_final_experiment_clients.dropna()  # Example: drop rows with missing values"
   ]
  },
  {
   "cell_type": "code",
   "execution_count": 99,
   "metadata": {},
   "outputs": [
    {
     "name": "stdout",
     "output_type": "stream",
     "text": [
      "0\n",
      "10764\n",
      "0\n"
     ]
    }
   ],
   "source": [
    "# Check for duplicates\n",
    "print(df_final_demo.duplicated().sum())\n",
    "print(df_combined.duplicated().sum())\n",
    "print(df_final_experiment_clients.duplicated().sum())"
   ]
  },
  {
   "cell_type": "code",
   "execution_count": 16,
   "metadata": {},
   "outputs": [],
   "source": [
    "\n",
    "# Remove duplicates if any\n",
    "df_demo = df_final_demo.drop_duplicates()\n",
    "df_web_data = df_combined.drop_duplicates()\n",
    "df_experiment = df_final_experiment_clients.drop_duplicates()"
   ]
  },
  {
   "cell_type": "code",
   "execution_count": 100,
   "metadata": {},
   "outputs": [
    {
     "name": "stdout",
     "output_type": "stream",
     "text": [
      "(70609, 9)\n",
      "(755405, 5)\n",
      "(70609, 2)\n"
     ]
    }
   ],
   "source": [
    "# Checking shape of dataframes\n",
    "print(df_final_demo.shape)\n",
    "print(df_combined.shape)\n",
    "print(df_final_experiment_clients.shape)\n"
   ]
  },
  {
   "cell_type": "markdown",
   "metadata": {},
   "source": [
    "## Basic statistics"
   ]
  },
  {
   "cell_type": "code",
   "execution_count": 103,
   "metadata": {},
   "outputs": [
    {
     "name": "stdout",
     "output_type": "stream",
     "text": [
      "          client_id  clnt_tenure_yr  clnt_tenure_mnth      clnt_age  \\\n",
      "count  7.059400e+04    70594.000000      70594.000000  70594.000000   \n",
      "mean   5.005026e+06       12.053007        150.659999     46.442240   \n",
      "std    2.877289e+06        6.871850         82.090264     15.591273   \n",
      "min    1.690000e+02        2.000000         33.000000     13.500000   \n",
      "25%    2.519543e+06        6.000000         82.000000     32.500000   \n",
      "50%    5.016974e+06       11.000000        136.000000     47.000000   \n",
      "75%    7.483074e+06       16.000000        192.000000     59.000000   \n",
      "max    9.999839e+06       62.000000        749.000000     96.000000   \n",
      "\n",
      "          num_accts           bal  calls_6_mnth  logons_6_mnth  \n",
      "count  70594.000000  7.059400e+04  70594.000000   70594.000000  \n",
      "mean       2.255532  1.474467e+05      3.382469       5.566720  \n",
      "std        0.535000  3.015106e+05      2.236595       2.353296  \n",
      "min        1.000000  1.378942e+04      0.000000       1.000000  \n",
      "25%        2.000000  3.734660e+04      1.000000       4.000000  \n",
      "50%        2.000000  6.333459e+04      3.000000       5.000000  \n",
      "75%        2.000000  1.375461e+05      6.000000       7.000000  \n",
      "max        8.000000  1.632004e+07      7.000000       9.000000  \n"
     ]
    }
   ],
   "source": [
    "print(df_demo.describe())"
   ]
  },
  {
   "cell_type": "code",
   "execution_count": 104,
   "metadata": {},
   "outputs": [
    {
     "name": "stdout",
     "output_type": "stream",
     "text": [
      "          client_id\n",
      "count  7.554050e+05\n",
      "mean   5.013632e+06\n",
      "std    2.879152e+06\n",
      "min    1.690000e+02\n",
      "25%    2.519882e+06\n",
      "50%    5.033441e+06\n",
      "75%    7.496063e+06\n",
      "max    9.999875e+06\n"
     ]
    }
   ],
   "source": [
    "print(df_web_data.describe())"
   ]
  },
  {
   "cell_type": "code",
   "execution_count": 105,
   "metadata": {},
   "outputs": [
    {
     "name": "stdout",
     "output_type": "stream",
     "text": [
      "          client_id\n",
      "count  5.050000e+04\n",
      "mean   5.006179e+06\n",
      "std    2.877443e+06\n",
      "min    5.550000e+02\n",
      "25%    2.515646e+06\n",
      "50%    5.025104e+06\n",
      "75%    7.477933e+06\n",
      "max    9.999832e+06\n"
     ]
    }
   ],
   "source": [
    "print(df_experiment.describe())"
   ]
  },
  {
   "cell_type": "code",
   "execution_count": 106,
   "metadata": {},
   "outputs": [
    {
     "name": "stdout",
     "output_type": "stream",
     "text": [
      "Index(['client_id', 'clnt_tenure_yr', 'clnt_tenure_mnth', 'clnt_age', 'gendr',\n",
      "       'num_accts', 'bal', 'calls_6_mnth', 'logons_6_mnth'],\n",
      "      dtype='object')\n"
     ]
    }
   ],
   "source": [
    "print(df_demo.columns)\n"
   ]
  },
  {
   "cell_type": "code",
   "execution_count": 107,
   "metadata": {},
   "outputs": [
    {
     "name": "stdout",
     "output_type": "stream",
     "text": [
      "Index(['client_id', 'clnt_tenure_yr', 'clnt_tenure_mnth', 'clnt_age', 'gendr',\n",
      "       'num_accts', 'bal', 'calls_6_mnth', 'logons_6_mnth'],\n",
      "      dtype='object')\n"
     ]
    }
   ],
   "source": [
    "print(df_demo.columns)\n"
   ]
  },
  {
   "cell_type": "code",
   "execution_count": 108,
   "metadata": {},
   "outputs": [
    {
     "name": "stdout",
     "output_type": "stream",
     "text": [
      "Column Names: Index(['client_id', 'clnt_tenure_yr', 'clnt_tenure_mnth', 'clnt_age', 'gendr',\n",
      "       'num_accts', 'bal', 'calls_6_mnth', 'logons_6_mnth'],\n",
      "      dtype='object')\n"
     ]
    }
   ],
   "source": [
    "# Verify column names\n",
    "print(\"Column Names:\", df_final_demo.columns)"
   ]
  },
  {
   "cell_type": "code",
   "execution_count": 109,
   "metadata": {},
   "outputs": [
    {
     "name": "stdout",
     "output_type": "stream",
     "text": [
      "First Few Rows:\n",
      "   client_id  clnt_tenure_yr  clnt_tenure_mnth  clnt_age gendr  num_accts  \\\n",
      "0     836976             6.0              73.0      60.5     U        2.0   \n",
      "1    2304905             7.0              94.0      58.0     U        2.0   \n",
      "2    1439522             5.0              64.0      32.0     U        2.0   \n",
      "3    1562045            16.0             198.0      49.0     M        2.0   \n",
      "4    5126305            12.0             145.0      33.0     F        2.0   \n",
      "\n",
      "         bal  calls_6_mnth  logons_6_mnth  \n",
      "0   45105.30           6.0            9.0  \n",
      "1  110860.30           6.0            9.0  \n",
      "2   52467.79           6.0            9.0  \n",
      "3   67454.65           3.0            6.0  \n",
      "4  103671.75           0.0            3.0  \n"
     ]
    }
   ],
   "source": [
    "# Inspect the first few rows\n",
    "print(\"First Few Rows:\")\n",
    "print(df_final_demo.head())"
   ]
  },
  {
   "cell_type": "code",
   "execution_count": 110,
   "metadata": {},
   "outputs": [
    {
     "data": {
      "text/html": [
       "<div>\n",
       "<style scoped>\n",
       "    .dataframe tbody tr th:only-of-type {\n",
       "        vertical-align: middle;\n",
       "    }\n",
       "\n",
       "    .dataframe tbody tr th {\n",
       "        vertical-align: top;\n",
       "    }\n",
       "\n",
       "    .dataframe thead th {\n",
       "        text-align: right;\n",
       "    }\n",
       "</style>\n",
       "<table border=\"1\" class=\"dataframe\">\n",
       "  <thead>\n",
       "    <tr style=\"text-align: right;\">\n",
       "      <th></th>\n",
       "      <th>client_id</th>\n",
       "      <th>clnt_tenure_yr</th>\n",
       "      <th>clnt_tenure_mnth</th>\n",
       "      <th>clnt_age</th>\n",
       "      <th>gendr</th>\n",
       "      <th>num_accts</th>\n",
       "      <th>bal</th>\n",
       "      <th>calls_6_mnth</th>\n",
       "      <th>logons_6_mnth</th>\n",
       "    </tr>\n",
       "  </thead>\n",
       "  <tbody>\n",
       "    <tr>\n",
       "      <th>0</th>\n",
       "      <td>836976</td>\n",
       "      <td>6.0</td>\n",
       "      <td>73.0</td>\n",
       "      <td>60.5</td>\n",
       "      <td>U</td>\n",
       "      <td>2.0</td>\n",
       "      <td>45105.30</td>\n",
       "      <td>6.0</td>\n",
       "      <td>9.0</td>\n",
       "    </tr>\n",
       "    <tr>\n",
       "      <th>1</th>\n",
       "      <td>2304905</td>\n",
       "      <td>7.0</td>\n",
       "      <td>94.0</td>\n",
       "      <td>58.0</td>\n",
       "      <td>U</td>\n",
       "      <td>2.0</td>\n",
       "      <td>110860.30</td>\n",
       "      <td>6.0</td>\n",
       "      <td>9.0</td>\n",
       "    </tr>\n",
       "    <tr>\n",
       "      <th>2</th>\n",
       "      <td>1439522</td>\n",
       "      <td>5.0</td>\n",
       "      <td>64.0</td>\n",
       "      <td>32.0</td>\n",
       "      <td>U</td>\n",
       "      <td>2.0</td>\n",
       "      <td>52467.79</td>\n",
       "      <td>6.0</td>\n",
       "      <td>9.0</td>\n",
       "    </tr>\n",
       "    <tr>\n",
       "      <th>3</th>\n",
       "      <td>1562045</td>\n",
       "      <td>16.0</td>\n",
       "      <td>198.0</td>\n",
       "      <td>49.0</td>\n",
       "      <td>M</td>\n",
       "      <td>2.0</td>\n",
       "      <td>67454.65</td>\n",
       "      <td>3.0</td>\n",
       "      <td>6.0</td>\n",
       "    </tr>\n",
       "    <tr>\n",
       "      <th>4</th>\n",
       "      <td>5126305</td>\n",
       "      <td>12.0</td>\n",
       "      <td>145.0</td>\n",
       "      <td>33.0</td>\n",
       "      <td>F</td>\n",
       "      <td>2.0</td>\n",
       "      <td>103671.75</td>\n",
       "      <td>0.0</td>\n",
       "      <td>3.0</td>\n",
       "    </tr>\n",
       "    <tr>\n",
       "      <th>...</th>\n",
       "      <td>...</td>\n",
       "      <td>...</td>\n",
       "      <td>...</td>\n",
       "      <td>...</td>\n",
       "      <td>...</td>\n",
       "      <td>...</td>\n",
       "      <td>...</td>\n",
       "      <td>...</td>\n",
       "      <td>...</td>\n",
       "    </tr>\n",
       "    <tr>\n",
       "      <th>70604</th>\n",
       "      <td>7993686</td>\n",
       "      <td>4.0</td>\n",
       "      <td>56.0</td>\n",
       "      <td>38.5</td>\n",
       "      <td>U</td>\n",
       "      <td>3.0</td>\n",
       "      <td>1411062.68</td>\n",
       "      <td>5.0</td>\n",
       "      <td>5.0</td>\n",
       "    </tr>\n",
       "    <tr>\n",
       "      <th>70605</th>\n",
       "      <td>8981690</td>\n",
       "      <td>12.0</td>\n",
       "      <td>148.0</td>\n",
       "      <td>31.0</td>\n",
       "      <td>M</td>\n",
       "      <td>2.0</td>\n",
       "      <td>101867.07</td>\n",
       "      <td>6.0</td>\n",
       "      <td>6.0</td>\n",
       "    </tr>\n",
       "    <tr>\n",
       "      <th>70606</th>\n",
       "      <td>333913</td>\n",
       "      <td>16.0</td>\n",
       "      <td>198.0</td>\n",
       "      <td>61.5</td>\n",
       "      <td>F</td>\n",
       "      <td>2.0</td>\n",
       "      <td>40745.00</td>\n",
       "      <td>3.0</td>\n",
       "      <td>3.0</td>\n",
       "    </tr>\n",
       "    <tr>\n",
       "      <th>70607</th>\n",
       "      <td>1573142</td>\n",
       "      <td>21.0</td>\n",
       "      <td>255.0</td>\n",
       "      <td>68.0</td>\n",
       "      <td>M</td>\n",
       "      <td>3.0</td>\n",
       "      <td>475114.69</td>\n",
       "      <td>4.0</td>\n",
       "      <td>4.0</td>\n",
       "    </tr>\n",
       "    <tr>\n",
       "      <th>70608</th>\n",
       "      <td>5602139</td>\n",
       "      <td>21.0</td>\n",
       "      <td>254.0</td>\n",
       "      <td>59.5</td>\n",
       "      <td>F</td>\n",
       "      <td>3.0</td>\n",
       "      <td>157498.73</td>\n",
       "      <td>7.0</td>\n",
       "      <td>7.0</td>\n",
       "    </tr>\n",
       "  </tbody>\n",
       "</table>\n",
       "<p>70594 rows × 9 columns</p>\n",
       "</div>"
      ],
      "text/plain": [
       "       client_id  clnt_tenure_yr  clnt_tenure_mnth  clnt_age gendr  num_accts  \\\n",
       "0         836976             6.0              73.0      60.5     U        2.0   \n",
       "1        2304905             7.0              94.0      58.0     U        2.0   \n",
       "2        1439522             5.0              64.0      32.0     U        2.0   \n",
       "3        1562045            16.0             198.0      49.0     M        2.0   \n",
       "4        5126305            12.0             145.0      33.0     F        2.0   \n",
       "...          ...             ...               ...       ...   ...        ...   \n",
       "70604    7993686             4.0              56.0      38.5     U        3.0   \n",
       "70605    8981690            12.0             148.0      31.0     M        2.0   \n",
       "70606     333913            16.0             198.0      61.5     F        2.0   \n",
       "70607    1573142            21.0             255.0      68.0     M        3.0   \n",
       "70608    5602139            21.0             254.0      59.5     F        3.0   \n",
       "\n",
       "              bal  calls_6_mnth  logons_6_mnth  \n",
       "0        45105.30           6.0            9.0  \n",
       "1       110860.30           6.0            9.0  \n",
       "2        52467.79           6.0            9.0  \n",
       "3        67454.65           3.0            6.0  \n",
       "4       103671.75           0.0            3.0  \n",
       "...           ...           ...            ...  \n",
       "70604  1411062.68           5.0            5.0  \n",
       "70605   101867.07           6.0            6.0  \n",
       "70606    40745.00           3.0            3.0  \n",
       "70607   475114.69           4.0            4.0  \n",
       "70608   157498.73           7.0            7.0  \n",
       "\n",
       "[70594 rows x 9 columns]"
      ]
     },
     "execution_count": 110,
     "metadata": {},
     "output_type": "execute_result"
    }
   ],
   "source": [
    "df_demo"
   ]
  },
  {
   "cell_type": "code",
   "execution_count": 111,
   "metadata": {},
   "outputs": [
    {
     "data": {
      "image/png": "[encoded data removed]",
      "text/plain": [
       "<Figure size 640x480 with 1 Axes>"
      ]
     },
     "metadata": {},
     "output_type": "display_data"
    }
   ],
   "source": [
    "\n",
    "# Check for the presence of the 'clnt_age' column and plot\n",
    "if 'clnt_age' in df_final_demo.columns:\n",
    "    sns.histplot(df_final_demo['clnt_age'], kde=True)\n",
    "    plt.title('Age Distribution of Clients')\n",
    "    plt.xlabel('Age')\n",
    "    plt.ylabel('Frequency')\n",
    "    plt.show()\n",
    "else:\n",
    "    print(\"The 'clnt_age' column does not exist in the DataFrame.\")"
   ]
  },
  {
   "cell_type": "code",
   "execution_count": 112,
   "metadata": {},
   "outputs": [
    {
     "data": {
      "image/png": "[encoded data removed]",
      "text/plain": [
       "<Figure size 640x480 with 1 Axes>"
      ]
     },
     "metadata": {},
     "output_type": "display_data"
    }
   ],
   "source": [
    "# Gender distribution\n",
    "sns.countplot(x='gendr', data=df_demo)\n",
    "plt.title('Gender Distribution of Clients')\n",
    "plt.xlabel('gender')\n",
    "plt.ylabel('Count')\n",
    "plt.show()\n"
   ]
  },
  {
   "cell_type": "code",
   "execution_count": 113,
   "metadata": {},
   "outputs": [
    {
     "data": {
      "text/html": [
       "<div>\n",
       "<style scoped>\n",
       "    .dataframe tbody tr th:only-of-type {\n",
       "        vertical-align: middle;\n",
       "    }\n",
       "\n",
       "    .dataframe tbody tr th {\n",
       "        vertical-align: top;\n",
       "    }\n",
       "\n",
       "    .dataframe thead th {\n",
       "        text-align: right;\n",
       "    }\n",
       "</style>\n",
       "<table border=\"1\" class=\"dataframe\">\n",
       "  <thead>\n",
       "    <tr style=\"text-align: right;\">\n",
       "      <th></th>\n",
       "      <th>client_id</th>\n",
       "      <th>visitor_id</th>\n",
       "      <th>visit_id</th>\n",
       "      <th>process_step</th>\n",
       "      <th>date_time</th>\n",
       "    </tr>\n",
       "  </thead>\n",
       "  <tbody>\n",
       "    <tr>\n",
       "      <th>0</th>\n",
       "      <td>9988021</td>\n",
       "      <td>580560515_7732621733</td>\n",
       "      <td>781255054_21935453173_531117</td>\n",
       "      <td>step_3</td>\n",
       "      <td>2017-04-17 15:27:07</td>\n",
       "    </tr>\n",
       "    <tr>\n",
       "      <th>1</th>\n",
       "      <td>9988021</td>\n",
       "      <td>580560515_7732621733</td>\n",
       "      <td>781255054_21935453173_531117</td>\n",
       "      <td>step_2</td>\n",
       "      <td>2017-04-17 15:26:51</td>\n",
       "    </tr>\n",
       "    <tr>\n",
       "      <th>2</th>\n",
       "      <td>9988021</td>\n",
       "      <td>580560515_7732621733</td>\n",
       "      <td>781255054_21935453173_531117</td>\n",
       "      <td>step_3</td>\n",
       "      <td>2017-04-17 15:19:22</td>\n",
       "    </tr>\n",
       "    <tr>\n",
       "      <th>3</th>\n",
       "      <td>9988021</td>\n",
       "      <td>580560515_7732621733</td>\n",
       "      <td>781255054_21935453173_531117</td>\n",
       "      <td>step_2</td>\n",
       "      <td>2017-04-17 15:19:13</td>\n",
       "    </tr>\n",
       "    <tr>\n",
       "      <th>4</th>\n",
       "      <td>9988021</td>\n",
       "      <td>580560515_7732621733</td>\n",
       "      <td>781255054_21935453173_531117</td>\n",
       "      <td>step_3</td>\n",
       "      <td>2017-04-17 15:18:04</td>\n",
       "    </tr>\n",
       "    <tr>\n",
       "      <th>...</th>\n",
       "      <td>...</td>\n",
       "      <td>...</td>\n",
       "      <td>...</td>\n",
       "      <td>...</td>\n",
       "      <td>...</td>\n",
       "    </tr>\n",
       "    <tr>\n",
       "      <th>412259</th>\n",
       "      <td>9668240</td>\n",
       "      <td>388766751_9038881013</td>\n",
       "      <td>922267647_3096648104_968866</td>\n",
       "      <td>start</td>\n",
       "      <td>2017-05-24 18:46:10</td>\n",
       "    </tr>\n",
       "    <tr>\n",
       "      <th>412260</th>\n",
       "      <td>9668240</td>\n",
       "      <td>388766751_9038881013</td>\n",
       "      <td>922267647_3096648104_968866</td>\n",
       "      <td>start</td>\n",
       "      <td>2017-05-24 18:45:29</td>\n",
       "    </tr>\n",
       "    <tr>\n",
       "      <th>412261</th>\n",
       "      <td>9668240</td>\n",
       "      <td>388766751_9038881013</td>\n",
       "      <td>922267647_3096648104_968866</td>\n",
       "      <td>step_1</td>\n",
       "      <td>2017-05-24 18:44:51</td>\n",
       "    </tr>\n",
       "    <tr>\n",
       "      <th>412262</th>\n",
       "      <td>9668240</td>\n",
       "      <td>388766751_9038881013</td>\n",
       "      <td>922267647_3096648104_968866</td>\n",
       "      <td>start</td>\n",
       "      <td>2017-05-24 18:44:34</td>\n",
       "    </tr>\n",
       "    <tr>\n",
       "      <th>412263</th>\n",
       "      <td>674799</td>\n",
       "      <td>947159805_81558194550</td>\n",
       "      <td>86152093_47511127657_716022</td>\n",
       "      <td>start</td>\n",
       "      <td>2017-06-03 12:17:09</td>\n",
       "    </tr>\n",
       "  </tbody>\n",
       "</table>\n",
       "<p>755405 rows × 5 columns</p>\n",
       "</div>"
      ],
      "text/plain": [
       "        client_id             visitor_id                      visit_id  \\\n",
       "0         9988021   580560515_7732621733  781255054_21935453173_531117   \n",
       "1         9988021   580560515_7732621733  781255054_21935453173_531117   \n",
       "2         9988021   580560515_7732621733  781255054_21935453173_531117   \n",
       "3         9988021   580560515_7732621733  781255054_21935453173_531117   \n",
       "4         9988021   580560515_7732621733  781255054_21935453173_531117   \n",
       "...           ...                    ...                           ...   \n",
       "412259    9668240   388766751_9038881013   922267647_3096648104_968866   \n",
       "412260    9668240   388766751_9038881013   922267647_3096648104_968866   \n",
       "412261    9668240   388766751_9038881013   922267647_3096648104_968866   \n",
       "412262    9668240   388766751_9038881013   922267647_3096648104_968866   \n",
       "412263     674799  947159805_81558194550   86152093_47511127657_716022   \n",
       "\n",
       "       process_step            date_time  \n",
       "0            step_3  2017-04-17 15:27:07  \n",
       "1            step_2  2017-04-17 15:26:51  \n",
       "2            step_3  2017-04-17 15:19:22  \n",
       "3            step_2  2017-04-17 15:19:13  \n",
       "4            step_3  2017-04-17 15:18:04  \n",
       "...             ...                  ...  \n",
       "412259        start  2017-05-24 18:46:10  \n",
       "412260        start  2017-05-24 18:45:29  \n",
       "412261       step_1  2017-05-24 18:44:51  \n",
       "412262        start  2017-05-24 18:44:34  \n",
       "412263        start  2017-06-03 12:17:09  \n",
       "\n",
       "[755405 rows x 5 columns]"
      ]
     },
     "execution_count": 113,
     "metadata": {},
     "output_type": "execute_result"
    }
   ],
   "source": [
    "df_web_data"
   ]
  },
  {
   "cell_type": "code",
   "execution_count": 114,
   "metadata": {},
   "outputs": [
    {
     "data": {
      "text/html": [
       "<div>\n",
       "<style scoped>\n",
       "    .dataframe tbody tr th:only-of-type {\n",
       "        vertical-align: middle;\n",
       "    }\n",
       "\n",
       "    .dataframe tbody tr th {\n",
       "        vertical-align: top;\n",
       "    }\n",
       "\n",
       "    .dataframe thead th {\n",
       "        text-align: right;\n",
       "    }\n",
       "</style>\n",
       "<table border=\"1\" class=\"dataframe\">\n",
       "  <thead>\n",
       "    <tr style=\"text-align: right;\">\n",
       "      <th></th>\n",
       "      <th>client_id</th>\n",
       "      <th>Variation</th>\n",
       "    </tr>\n",
       "  </thead>\n",
       "  <tbody>\n",
       "    <tr>\n",
       "      <th>0</th>\n",
       "      <td>9988021</td>\n",
       "      <td>Test</td>\n",
       "    </tr>\n",
       "    <tr>\n",
       "      <th>1</th>\n",
       "      <td>8320017</td>\n",
       "      <td>Test</td>\n",
       "    </tr>\n",
       "    <tr>\n",
       "      <th>2</th>\n",
       "      <td>4033851</td>\n",
       "      <td>Control</td>\n",
       "    </tr>\n",
       "    <tr>\n",
       "      <th>3</th>\n",
       "      <td>1982004</td>\n",
       "      <td>Test</td>\n",
       "    </tr>\n",
       "    <tr>\n",
       "      <th>4</th>\n",
       "      <td>9294070</td>\n",
       "      <td>Control</td>\n",
       "    </tr>\n",
       "    <tr>\n",
       "      <th>...</th>\n",
       "      <td>...</td>\n",
       "      <td>...</td>\n",
       "    </tr>\n",
       "    <tr>\n",
       "      <th>50495</th>\n",
       "      <td>393005</td>\n",
       "      <td>Control</td>\n",
       "    </tr>\n",
       "    <tr>\n",
       "      <th>50496</th>\n",
       "      <td>2908510</td>\n",
       "      <td>Control</td>\n",
       "    </tr>\n",
       "    <tr>\n",
       "      <th>50497</th>\n",
       "      <td>7230446</td>\n",
       "      <td>Test</td>\n",
       "    </tr>\n",
       "    <tr>\n",
       "      <th>50498</th>\n",
       "      <td>5230357</td>\n",
       "      <td>Test</td>\n",
       "    </tr>\n",
       "    <tr>\n",
       "      <th>50499</th>\n",
       "      <td>6334360</td>\n",
       "      <td>Test</td>\n",
       "    </tr>\n",
       "  </tbody>\n",
       "</table>\n",
       "<p>50500 rows × 2 columns</p>\n",
       "</div>"
      ],
      "text/plain": [
       "       client_id Variation\n",
       "0        9988021      Test\n",
       "1        8320017      Test\n",
       "2        4033851   Control\n",
       "3        1982004      Test\n",
       "4        9294070   Control\n",
       "...          ...       ...\n",
       "50495     393005   Control\n",
       "50496    2908510   Control\n",
       "50497    7230446      Test\n",
       "50498    5230357      Test\n",
       "50499    6334360      Test\n",
       "\n",
       "[50500 rows x 2 columns]"
      ]
     },
     "execution_count": 114,
     "metadata": {},
     "output_type": "execute_result"
    }
   ],
   "source": [
    "df_experiment"
   ]
  },
  {
   "cell_type": "code",
   "execution_count": 115,
   "metadata": {},
   "outputs": [
    {
     "data": {
      "text/html": [
       "<div>\n",
       "<style scoped>\n",
       "    .dataframe tbody tr th:only-of-type {\n",
       "        vertical-align: middle;\n",
       "    }\n",
       "\n",
       "    .dataframe tbody tr th {\n",
       "        vertical-align: top;\n",
       "    }\n",
       "\n",
       "    .dataframe thead th {\n",
       "        text-align: right;\n",
       "    }\n",
       "</style>\n",
       "<table border=\"1\" class=\"dataframe\">\n",
       "  <thead>\n",
       "    <tr style=\"text-align: right;\">\n",
       "      <th></th>\n",
       "      <th>client_id</th>\n",
       "      <th>clnt_tenure_yr</th>\n",
       "      <th>clnt_tenure_mnth</th>\n",
       "      <th>clnt_age</th>\n",
       "      <th>gendr</th>\n",
       "      <th>num_accts</th>\n",
       "      <th>bal</th>\n",
       "      <th>calls_6_mnth</th>\n",
       "      <th>logons_6_mnth</th>\n",
       "    </tr>\n",
       "  </thead>\n",
       "  <tbody>\n",
       "    <tr>\n",
       "      <th>0</th>\n",
       "      <td>836976</td>\n",
       "      <td>6.0</td>\n",
       "      <td>73.0</td>\n",
       "      <td>60.5</td>\n",
       "      <td>U</td>\n",
       "      <td>2.0</td>\n",
       "      <td>45105.30</td>\n",
       "      <td>6.0</td>\n",
       "      <td>9.0</td>\n",
       "    </tr>\n",
       "    <tr>\n",
       "      <th>1</th>\n",
       "      <td>2304905</td>\n",
       "      <td>7.0</td>\n",
       "      <td>94.0</td>\n",
       "      <td>58.0</td>\n",
       "      <td>U</td>\n",
       "      <td>2.0</td>\n",
       "      <td>110860.30</td>\n",
       "      <td>6.0</td>\n",
       "      <td>9.0</td>\n",
       "    </tr>\n",
       "    <tr>\n",
       "      <th>2</th>\n",
       "      <td>1439522</td>\n",
       "      <td>5.0</td>\n",
       "      <td>64.0</td>\n",
       "      <td>32.0</td>\n",
       "      <td>U</td>\n",
       "      <td>2.0</td>\n",
       "      <td>52467.79</td>\n",
       "      <td>6.0</td>\n",
       "      <td>9.0</td>\n",
       "    </tr>\n",
       "    <tr>\n",
       "      <th>3</th>\n",
       "      <td>1562045</td>\n",
       "      <td>16.0</td>\n",
       "      <td>198.0</td>\n",
       "      <td>49.0</td>\n",
       "      <td>M</td>\n",
       "      <td>2.0</td>\n",
       "      <td>67454.65</td>\n",
       "      <td>3.0</td>\n",
       "      <td>6.0</td>\n",
       "    </tr>\n",
       "    <tr>\n",
       "      <th>4</th>\n",
       "      <td>5126305</td>\n",
       "      <td>12.0</td>\n",
       "      <td>145.0</td>\n",
       "      <td>33.0</td>\n",
       "      <td>F</td>\n",
       "      <td>2.0</td>\n",
       "      <td>103671.75</td>\n",
       "      <td>0.0</td>\n",
       "      <td>3.0</td>\n",
       "    </tr>\n",
       "    <tr>\n",
       "      <th>...</th>\n",
       "      <td>...</td>\n",
       "      <td>...</td>\n",
       "      <td>...</td>\n",
       "      <td>...</td>\n",
       "      <td>...</td>\n",
       "      <td>...</td>\n",
       "      <td>...</td>\n",
       "      <td>...</td>\n",
       "      <td>...</td>\n",
       "    </tr>\n",
       "    <tr>\n",
       "      <th>70604</th>\n",
       "      <td>7993686</td>\n",
       "      <td>4.0</td>\n",
       "      <td>56.0</td>\n",
       "      <td>38.5</td>\n",
       "      <td>U</td>\n",
       "      <td>3.0</td>\n",
       "      <td>1411062.68</td>\n",
       "      <td>5.0</td>\n",
       "      <td>5.0</td>\n",
       "    </tr>\n",
       "    <tr>\n",
       "      <th>70605</th>\n",
       "      <td>8981690</td>\n",
       "      <td>12.0</td>\n",
       "      <td>148.0</td>\n",
       "      <td>31.0</td>\n",
       "      <td>M</td>\n",
       "      <td>2.0</td>\n",
       "      <td>101867.07</td>\n",
       "      <td>6.0</td>\n",
       "      <td>6.0</td>\n",
       "    </tr>\n",
       "    <tr>\n",
       "      <th>70606</th>\n",
       "      <td>333913</td>\n",
       "      <td>16.0</td>\n",
       "      <td>198.0</td>\n",
       "      <td>61.5</td>\n",
       "      <td>F</td>\n",
       "      <td>2.0</td>\n",
       "      <td>40745.00</td>\n",
       "      <td>3.0</td>\n",
       "      <td>3.0</td>\n",
       "    </tr>\n",
       "    <tr>\n",
       "      <th>70607</th>\n",
       "      <td>1573142</td>\n",
       "      <td>21.0</td>\n",
       "      <td>255.0</td>\n",
       "      <td>68.0</td>\n",
       "      <td>M</td>\n",
       "      <td>3.0</td>\n",
       "      <td>475114.69</td>\n",
       "      <td>4.0</td>\n",
       "      <td>4.0</td>\n",
       "    </tr>\n",
       "    <tr>\n",
       "      <th>70608</th>\n",
       "      <td>5602139</td>\n",
       "      <td>21.0</td>\n",
       "      <td>254.0</td>\n",
       "      <td>59.5</td>\n",
       "      <td>F</td>\n",
       "      <td>3.0</td>\n",
       "      <td>157498.73</td>\n",
       "      <td>7.0</td>\n",
       "      <td>7.0</td>\n",
       "    </tr>\n",
       "  </tbody>\n",
       "</table>\n",
       "<p>70594 rows × 9 columns</p>\n",
       "</div>"
      ],
      "text/plain": [
       "       client_id  clnt_tenure_yr  clnt_tenure_mnth  clnt_age gendr  num_accts  \\\n",
       "0         836976             6.0              73.0      60.5     U        2.0   \n",
       "1        2304905             7.0              94.0      58.0     U        2.0   \n",
       "2        1439522             5.0              64.0      32.0     U        2.0   \n",
       "3        1562045            16.0             198.0      49.0     M        2.0   \n",
       "4        5126305            12.0             145.0      33.0     F        2.0   \n",
       "...          ...             ...               ...       ...   ...        ...   \n",
       "70604    7993686             4.0              56.0      38.5     U        3.0   \n",
       "70605    8981690            12.0             148.0      31.0     M        2.0   \n",
       "70606     333913            16.0             198.0      61.5     F        2.0   \n",
       "70607    1573142            21.0             255.0      68.0     M        3.0   \n",
       "70608    5602139            21.0             254.0      59.5     F        3.0   \n",
       "\n",
       "              bal  calls_6_mnth  logons_6_mnth  \n",
       "0        45105.30           6.0            9.0  \n",
       "1       110860.30           6.0            9.0  \n",
       "2        52467.79           6.0            9.0  \n",
       "3        67454.65           3.0            6.0  \n",
       "4       103671.75           0.0            3.0  \n",
       "...           ...           ...            ...  \n",
       "70604  1411062.68           5.0            5.0  \n",
       "70605   101867.07           6.0            6.0  \n",
       "70606    40745.00           3.0            3.0  \n",
       "70607   475114.69           4.0            4.0  \n",
       "70608   157498.73           7.0            7.0  \n",
       "\n",
       "[70594 rows x 9 columns]"
      ]
     },
     "execution_count": 115,
     "metadata": {},
     "output_type": "execute_result"
    }
   ],
   "source": [
    "df_demo"
   ]
  },
  {
   "cell_type": "code",
   "execution_count": 116,
   "metadata": {},
   "outputs": [
    {
     "name": "stdout",
     "output_type": "stream",
     "text": [
      "           Value\n",
      "count   6.000000\n",
      "mean   18.333333\n",
      "std     8.164966\n",
      "min    10.000000\n",
      "25%    11.250000\n",
      "50%    17.500000\n",
      "75%    23.750000\n",
      "max    30.000000\n"
     ]
    }
   ],
   "source": [
    "\n",
    "\n",
    "# Sample DataFrame\n",
    "data = {\n",
    "    'Category': ['A', 'B', 'A', 'B', 'A', 'B'],\n",
    "    'Value': [10, 20, 15, 30, 10, 25]\n",
    "}\n",
    "df = pd.DataFrame(data)\n",
    "\n",
    "# Summary statistics\n",
    "summary_stats = df.describe()\n",
    "print(summary_stats)\n"
   ]
  },
  {
   "cell_type": "code",
   "execution_count": 117,
   "metadata": {},
   "outputs": [
    {
     "name": "stdout",
     "output_type": "stream",
     "text": [
      "              Value    \n",
      "               mean sum\n",
      "Category               \n",
      "A         11.666667  35\n",
      "B         25.000000  75\n"
     ]
    }
   ],
   "source": [
    "# Group by 'Category' and calculate the mean and sum of 'Value'\n",
    "grouped_summary = df.groupby('Category').agg({'Value': ['mean', 'sum']})\n",
    "print(grouped_summary)\n"
   ]
  },
  {
   "cell_type": "code",
   "execution_count": 33,
   "metadata": {},
   "outputs": [
    {
     "name": "stdout",
     "output_type": "stream",
     "text": [
      "               mean   sum\n",
      "              Value Value\n",
      "Category                 \n",
      "A         11.666667    35\n",
      "B         25.000000    75\n"
     ]
    }
   ],
   "source": [
    "# Pivot table to summarize data\n",
    "pivot_table = pd.pivot_table(df, values='Value', index='Category', aggfunc=['mean', 'sum'])\n",
    "print(pivot_table)\n"
   ]
  },
  {
   "cell_type": "code",
   "execution_count": 34,
   "metadata": {},
   "outputs": [
    {
     "name": "stdout",
     "output_type": "stream",
     "text": [
      "          Count   Sum       Mean\n",
      "Category                        \n",
      "A           3.0  35.0  11.666667\n",
      "B           3.0  75.0  25.000000\n"
     ]
    }
   ],
   "source": [
    "# Custom summary function\n",
    "def custom_summary(group):\n",
    "    return pd.Series({\n",
    "        'Count': group.count(),\n",
    "        'Sum': group.sum(),\n",
    "        'Mean': group.mean()\n",
    "    })\n",
    "\n",
    "custom_summary_table = df.groupby('Category')['Value'].apply(custom_summary).unstack()\n",
    "print(custom_summary_table)\n"
   ]
  },
  {
   "cell_type": "code",
   "execution_count": 118,
   "metadata": {},
   "outputs": [
    {
     "data": {
      "text/html": [
       "<div>\n",
       "<style scoped>\n",
       "    .dataframe tbody tr th:only-of-type {\n",
       "        vertical-align: middle;\n",
       "    }\n",
       "\n",
       "    .dataframe tbody tr th {\n",
       "        vertical-align: top;\n",
       "    }\n",
       "\n",
       "    .dataframe thead th {\n",
       "        text-align: right;\n",
       "    }\n",
       "</style>\n",
       "<table border=\"1\" class=\"dataframe\">\n",
       "  <thead>\n",
       "    <tr style=\"text-align: right;\">\n",
       "      <th></th>\n",
       "      <th>Value</th>\n",
       "    </tr>\n",
       "  </thead>\n",
       "  <tbody>\n",
       "    <tr>\n",
       "      <th>count</th>\n",
       "      <td>6.000000</td>\n",
       "    </tr>\n",
       "    <tr>\n",
       "      <th>mean</th>\n",
       "      <td>18.333333</td>\n",
       "    </tr>\n",
       "    <tr>\n",
       "      <th>std</th>\n",
       "      <td>8.164966</td>\n",
       "    </tr>\n",
       "    <tr>\n",
       "      <th>min</th>\n",
       "      <td>10.000000</td>\n",
       "    </tr>\n",
       "    <tr>\n",
       "      <th>25%</th>\n",
       "      <td>11.250000</td>\n",
       "    </tr>\n",
       "    <tr>\n",
       "      <th>50%</th>\n",
       "      <td>17.500000</td>\n",
       "    </tr>\n",
       "    <tr>\n",
       "      <th>75%</th>\n",
       "      <td>23.750000</td>\n",
       "    </tr>\n",
       "    <tr>\n",
       "      <th>max</th>\n",
       "      <td>30.000000</td>\n",
       "    </tr>\n",
       "  </tbody>\n",
       "</table>\n",
       "</div>"
      ],
      "text/plain": [
       "           Value\n",
       "count   6.000000\n",
       "mean   18.333333\n",
       "std     8.164966\n",
       "min    10.000000\n",
       "25%    11.250000\n",
       "50%    17.500000\n",
       "75%    23.750000\n",
       "max    30.000000"
      ]
     },
     "metadata": {},
     "output_type": "display_data"
    },
    {
     "data": {
      "text/html": [
       "<div>\n",
       "<style scoped>\n",
       "    .dataframe tbody tr th:only-of-type {\n",
       "        vertical-align: middle;\n",
       "    }\n",
       "\n",
       "    .dataframe tbody tr th {\n",
       "        vertical-align: top;\n",
       "    }\n",
       "\n",
       "    .dataframe thead tr th {\n",
       "        text-align: left;\n",
       "    }\n",
       "\n",
       "    .dataframe thead tr:last-of-type th {\n",
       "        text-align: right;\n",
       "    }\n",
       "</style>\n",
       "<table border=\"1\" class=\"dataframe\">\n",
       "  <thead>\n",
       "    <tr>\n",
       "      <th></th>\n",
       "      <th colspan=\"2\" halign=\"left\">Value</th>\n",
       "    </tr>\n",
       "    <tr>\n",
       "      <th></th>\n",
       "      <th>mean</th>\n",
       "      <th>sum</th>\n",
       "    </tr>\n",
       "    <tr>\n",
       "      <th>Category</th>\n",
       "      <th></th>\n",
       "      <th></th>\n",
       "    </tr>\n",
       "  </thead>\n",
       "  <tbody>\n",
       "    <tr>\n",
       "      <th>A</th>\n",
       "      <td>11.666667</td>\n",
       "      <td>35</td>\n",
       "    </tr>\n",
       "    <tr>\n",
       "      <th>B</th>\n",
       "      <td>25.000000</td>\n",
       "      <td>75</td>\n",
       "    </tr>\n",
       "  </tbody>\n",
       "</table>\n",
       "</div>"
      ],
      "text/plain": [
       "              Value    \n",
       "               mean sum\n",
       "Category               \n",
       "A         11.666667  35\n",
       "B         25.000000  75"
      ]
     },
     "metadata": {},
     "output_type": "display_data"
    },
    {
     "data": {
      "text/html": [
       "<div>\n",
       "<style scoped>\n",
       "    .dataframe tbody tr th:only-of-type {\n",
       "        vertical-align: middle;\n",
       "    }\n",
       "\n",
       "    .dataframe tbody tr th {\n",
       "        vertical-align: top;\n",
       "    }\n",
       "\n",
       "    .dataframe thead tr th {\n",
       "        text-align: left;\n",
       "    }\n",
       "\n",
       "    .dataframe thead tr:last-of-type th {\n",
       "        text-align: right;\n",
       "    }\n",
       "</style>\n",
       "<table border=\"1\" class=\"dataframe\">\n",
       "  <thead>\n",
       "    <tr>\n",
       "      <th></th>\n",
       "      <th>mean</th>\n",
       "      <th>sum</th>\n",
       "    </tr>\n",
       "    <tr>\n",
       "      <th></th>\n",
       "      <th>Value</th>\n",
       "      <th>Value</th>\n",
       "    </tr>\n",
       "    <tr>\n",
       "      <th>Category</th>\n",
       "      <th></th>\n",
       "      <th></th>\n",
       "    </tr>\n",
       "  </thead>\n",
       "  <tbody>\n",
       "    <tr>\n",
       "      <th>A</th>\n",
       "      <td>11.666667</td>\n",
       "      <td>35</td>\n",
       "    </tr>\n",
       "    <tr>\n",
       "      <th>B</th>\n",
       "      <td>25.000000</td>\n",
       "      <td>75</td>\n",
       "    </tr>\n",
       "  </tbody>\n",
       "</table>\n",
       "</div>"
      ],
      "text/plain": [
       "               mean   sum\n",
       "              Value Value\n",
       "Category                 \n",
       "A         11.666667    35\n",
       "B         25.000000    75"
      ]
     },
     "metadata": {},
     "output_type": "display_data"
    },
    {
     "data": {
      "text/html": [
       "<div>\n",
       "<style scoped>\n",
       "    .dataframe tbody tr th:only-of-type {\n",
       "        vertical-align: middle;\n",
       "    }\n",
       "\n",
       "    .dataframe tbody tr th {\n",
       "        vertical-align: top;\n",
       "    }\n",
       "\n",
       "    .dataframe thead th {\n",
       "        text-align: right;\n",
       "    }\n",
       "</style>\n",
       "<table border=\"1\" class=\"dataframe\">\n",
       "  <thead>\n",
       "    <tr style=\"text-align: right;\">\n",
       "      <th></th>\n",
       "      <th>Count</th>\n",
       "      <th>Sum</th>\n",
       "      <th>Mean</th>\n",
       "    </tr>\n",
       "    <tr>\n",
       "      <th>Category</th>\n",
       "      <th></th>\n",
       "      <th></th>\n",
       "      <th></th>\n",
       "    </tr>\n",
       "  </thead>\n",
       "  <tbody>\n",
       "    <tr>\n",
       "      <th>A</th>\n",
       "      <td>3.0</td>\n",
       "      <td>35.0</td>\n",
       "      <td>11.666667</td>\n",
       "    </tr>\n",
       "    <tr>\n",
       "      <th>B</th>\n",
       "      <td>3.0</td>\n",
       "      <td>75.0</td>\n",
       "      <td>25.000000</td>\n",
       "    </tr>\n",
       "  </tbody>\n",
       "</table>\n",
       "</div>"
      ],
      "text/plain": [
       "          Count   Sum       Mean\n",
       "Category                        \n",
       "A           3.0  35.0  11.666667\n",
       "B           3.0  75.0  25.000000"
      ]
     },
     "metadata": {},
     "output_type": "display_data"
    }
   ],
   "source": [
    "from IPython.display import display\n",
    "\n",
    "# Displaying the summaries\n",
    "display(summary_stats)\n",
    "display(grouped_summary)\n",
    "display(pivot_table)\n",
    "display(custom_summary_table)\n"
   ]
  },
  {
   "cell_type": "markdown",
   "metadata": {},
   "source": [
    "\n",
    "## Week 5, Day 1 & 2: EDA & Data Cleaning"
   ]
  },
  {
   "cell_type": "markdown",
   "metadata": {},
   "source": [
    "For the project requirements and instructions for today’s tasks in full, please refer to the project brief. However, in order to keep on track you may refer to the daily goals outlined below:\n",
    "\n",
    "By the end of the first two days, we recommend you have:\n",
    "\n",
    "Done dataset discovery: Understood the nature and structure of your datasets using Python with libraries such as Pandas, Matplotlib, and Seaborn.\n",
    "\n",
    "Carried out data cleaning and fix any problems if there are any.\n",
    "\n",
    "Answered the following questions about demographics:\n",
    "\n",
    "Who are the primary clients using this online process?\n",
    "Are the primary clients younger or older, new or long-standing?\n",
    "\n",
    "Carried out a client behaviour analysis to answer any additional relevant questions you think are important."
   ]
  },
  {
   "cell_type": "markdown",
   "metadata": {},
   "source": [
    "## Merge Data:"
   ]
  },
  {
   "cell_type": "code",
   "execution_count": 120,
   "metadata": {},
   "outputs": [
    {
     "data": {
      "text/html": [
       "<div>\n",
       "<style scoped>\n",
       "    .dataframe tbody tr th:only-of-type {\n",
       "        vertical-align: middle;\n",
       "    }\n",
       "\n",
       "    .dataframe tbody tr th {\n",
       "        vertical-align: top;\n",
       "    }\n",
       "\n",
       "    .dataframe thead th {\n",
       "        text-align: right;\n",
       "    }\n",
       "</style>\n",
       "<table border=\"1\" class=\"dataframe\">\n",
       "  <thead>\n",
       "    <tr style=\"text-align: right;\">\n",
       "      <th></th>\n",
       "      <th>client_id</th>\n",
       "      <th>Variation</th>\n",
       "    </tr>\n",
       "  </thead>\n",
       "  <tbody>\n",
       "    <tr>\n",
       "      <th>0</th>\n",
       "      <td>9988021</td>\n",
       "      <td>Test</td>\n",
       "    </tr>\n",
       "    <tr>\n",
       "      <th>1</th>\n",
       "      <td>8320017</td>\n",
       "      <td>Test</td>\n",
       "    </tr>\n",
       "    <tr>\n",
       "      <th>2</th>\n",
       "      <td>4033851</td>\n",
       "      <td>Control</td>\n",
       "    </tr>\n",
       "    <tr>\n",
       "      <th>3</th>\n",
       "      <td>1982004</td>\n",
       "      <td>Test</td>\n",
       "    </tr>\n",
       "    <tr>\n",
       "      <th>4</th>\n",
       "      <td>9294070</td>\n",
       "      <td>Control</td>\n",
       "    </tr>\n",
       "    <tr>\n",
       "      <th>...</th>\n",
       "      <td>...</td>\n",
       "      <td>...</td>\n",
       "    </tr>\n",
       "    <tr>\n",
       "      <th>50495</th>\n",
       "      <td>393005</td>\n",
       "      <td>Control</td>\n",
       "    </tr>\n",
       "    <tr>\n",
       "      <th>50496</th>\n",
       "      <td>2908510</td>\n",
       "      <td>Control</td>\n",
       "    </tr>\n",
       "    <tr>\n",
       "      <th>50497</th>\n",
       "      <td>7230446</td>\n",
       "      <td>Test</td>\n",
       "    </tr>\n",
       "    <tr>\n",
       "      <th>50498</th>\n",
       "      <td>5230357</td>\n",
       "      <td>Test</td>\n",
       "    </tr>\n",
       "    <tr>\n",
       "      <th>50499</th>\n",
       "      <td>6334360</td>\n",
       "      <td>Test</td>\n",
       "    </tr>\n",
       "  </tbody>\n",
       "</table>\n",
       "<p>50500 rows × 2 columns</p>\n",
       "</div>"
      ],
      "text/plain": [
       "       client_id Variation\n",
       "0        9988021      Test\n",
       "1        8320017      Test\n",
       "2        4033851   Control\n",
       "3        1982004      Test\n",
       "4        9294070   Control\n",
       "...          ...       ...\n",
       "50495     393005   Control\n",
       "50496    2908510   Control\n",
       "50497    7230446      Test\n",
       "50498    5230357      Test\n",
       "50499    6334360      Test\n",
       "\n",
       "[50500 rows x 2 columns]"
      ]
     },
     "execution_count": 120,
     "metadata": {},
     "output_type": "execute_result"
    }
   ],
   "source": [
    "df_demo\n",
    "df_web_data\n",
    "df_experiment"
   ]
  },
  {
   "cell_type": "code",
   "execution_count": 121,
   "metadata": {},
   "outputs": [],
   "source": [
    "df_merged = df_web_data.merge(df_demo, on='client_id', how='left').merge(df_experiment, on='client_id', how='left')"
   ]
  },
  {
   "cell_type": "markdown",
   "metadata": {},
   "source": [
    "# Initial Inspection:"
   ]
  },
  {
   "cell_type": "code",
   "execution_count": 122,
   "metadata": {},
   "outputs": [
    {
     "name": "stdout",
     "output_type": "stream",
     "text": [
      "   client_id            visitor_id                      visit_id process_step  \\\n",
      "0    9988021  580560515_7732621733  781255054_21935453173_531117       step_3   \n",
      "1    9988021  580560515_7732621733  781255054_21935453173_531117       step_2   \n",
      "2    9988021  580560515_7732621733  781255054_21935453173_531117       step_3   \n",
      "3    9988021  580560515_7732621733  781255054_21935453173_531117       step_2   \n",
      "4    9988021  580560515_7732621733  781255054_21935453173_531117       step_3   \n",
      "\n",
      "             date_time  clnt_tenure_yr  clnt_tenure_mnth  clnt_age gendr  \\\n",
      "0  2017-04-17 15:27:07             5.0              64.0      79.0     U   \n",
      "1  2017-04-17 15:26:51             5.0              64.0      79.0     U   \n",
      "2  2017-04-17 15:19:22             5.0              64.0      79.0     U   \n",
      "3  2017-04-17 15:19:13             5.0              64.0      79.0     U   \n",
      "4  2017-04-17 15:18:04             5.0              64.0      79.0     U   \n",
      "\n",
      "   num_accts        bal  calls_6_mnth  logons_6_mnth Variation  \n",
      "0        2.0  189023.86           1.0            4.0      Test  \n",
      "1        2.0  189023.86           1.0            4.0      Test  \n",
      "2        2.0  189023.86           1.0            4.0      Test  \n",
      "3        2.0  189023.86           1.0            4.0      Test  \n",
      "4        2.0  189023.86           1.0            4.0      Test  \n"
     ]
    }
   ],
   "source": [
    "print(df_merged.head())"
   ]
  },
  {
   "cell_type": "code",
   "execution_count": 123,
   "metadata": {},
   "outputs": [
    {
     "name": "stdout",
     "output_type": "stream",
     "text": [
      "<class 'pandas.core.frame.DataFrame'>\n",
      "Int64Index: 755405 entries, 0 to 755404\n",
      "Data columns (total 14 columns):\n",
      " #   Column            Non-Null Count   Dtype  \n",
      "---  ------            --------------   -----  \n",
      " 0   client_id         755405 non-null  int64  \n",
      " 1   visitor_id        755405 non-null  object \n",
      " 2   visit_id          755405 non-null  object \n",
      " 3   process_step      755405 non-null  object \n",
      " 4   date_time         755405 non-null  object \n",
      " 5   clnt_tenure_yr    449704 non-null  float64\n",
      " 6   clnt_tenure_mnth  449704 non-null  float64\n",
      " 7   clnt_age          449704 non-null  float64\n",
      " 8   gendr             449704 non-null  object \n",
      " 9   num_accts         449704 non-null  float64\n",
      " 10  bal               449704 non-null  float64\n",
      " 11  calls_6_mnth      449704 non-null  float64\n",
      " 12  logons_6_mnth     449704 non-null  float64\n",
      " 13  Variation         321309 non-null  object \n",
      "dtypes: float64(7), int64(1), object(6)\n",
      "memory usage: 86.4+ MB\n",
      "None\n"
     ]
    }
   ],
   "source": [
    "print(df_merged.info())"
   ]
  },
  {
   "cell_type": "code",
   "execution_count": 124,
   "metadata": {},
   "outputs": [
    {
     "name": "stdout",
     "output_type": "stream",
     "text": [
      "          client_id  clnt_tenure_yr  clnt_tenure_mnth       clnt_age  \\\n",
      "count  7.554050e+05   449704.000000     449704.000000  449704.000000   \n",
      "mean   5.013632e+06       12.234243        152.812170      47.653966   \n",
      "std    2.879152e+06        7.005242         83.720383      15.742089   \n",
      "min    1.690000e+02        2.000000         33.000000      13.500000   \n",
      "25%    2.519882e+06        6.000000         82.000000      33.500000   \n",
      "50%    5.033441e+06       11.000000        139.000000      49.000000   \n",
      "75%    7.496063e+06       16.000000        194.000000      60.000000   \n",
      "max    9.999875e+06       62.000000        749.000000      96.000000   \n",
      "\n",
      "           num_accts           bal   calls_6_mnth  logons_6_mnth  \n",
      "count  449704.000000  4.497040e+05  449704.000000  449704.000000  \n",
      "mean        2.264774  1.597768e+05       3.529164       5.709842  \n",
      "std         0.543080  3.420734e+05       2.242500       2.356200  \n",
      "min         1.000000  1.378942e+04       0.000000       1.000000  \n",
      "25%         2.000000  3.844610e+04       2.000000       4.000000  \n",
      "50%         2.000000  6.677571e+04       3.000000       6.000000  \n",
      "75%         2.000000  1.490039e+05       6.000000       8.000000  \n",
      "max         8.000000  1.632004e+07       7.000000       9.000000  \n"
     ]
    }
   ],
   "source": [
    "print(df_merged.describe())"
   ]
  },
  {
   "cell_type": "markdown",
   "metadata": {},
   "source": [
    "# Data Cleaning:\n",
    "\n",
    "Missing Values:"
   ]
  },
  {
   "cell_type": "code",
   "execution_count": 125,
   "metadata": {},
   "outputs": [
    {
     "data": {
      "text/plain": [
       "client_id                0\n",
       "visitor_id               0\n",
       "visit_id                 0\n",
       "process_step             0\n",
       "date_time                0\n",
       "clnt_tenure_yr      305701\n",
       "clnt_tenure_mnth    305701\n",
       "clnt_age            305701\n",
       "gendr               305701\n",
       "num_accts           305701\n",
       "bal                 305701\n",
       "calls_6_mnth        305701\n",
       "logons_6_mnth       305701\n",
       "Variation           434096\n",
       "dtype: int64"
      ]
     },
     "execution_count": 125,
     "metadata": {},
     "output_type": "execute_result"
    }
   ],
   "source": [
    "#  Handle missing values appropriately\n",
    "df_merged.isnull().sum()\n",
    "\n"
   ]
  },
  {
   "cell_type": "markdown",
   "metadata": {},
   "source": [
    "Check for Duplicates:"
   ]
  },
  {
   "cell_type": "code",
   "execution_count": 126,
   "metadata": {},
   "outputs": [],
   "source": [
    "# Duplicates\n",
    "\n",
    "df_merged =df_merged.drop_duplicates()\n"
   ]
  },
  {
   "cell_type": "code",
   "execution_count": 127,
   "metadata": {},
   "outputs": [],
   "source": [
    "# Data Types : # Convert other columns if necessary\n",
    "df_merged['date_time'] = pd.to_datetime(df_merged['date_time'])\n",
    "\n"
   ]
  },
  {
   "cell_type": "markdown",
   "metadata": {},
   "source": [
    "Ensure Correct Data Types:"
   ]
  },
  {
   "cell_type": "code",
   "execution_count": 128,
   "metadata": {},
   "outputs": [],
   "source": [
    "\n",
    "df_merged['date_time'] = pd.to_numeric(df_merged['date_time'], errors='coerce')\n"
   ]
  },
  {
   "cell_type": "markdown",
   "metadata": {},
   "source": [
    "Check Data Types:"
   ]
  },
  {
   "cell_type": "code",
   "execution_count": 130,
   "metadata": {},
   "outputs": [
    {
     "name": "stdout",
     "output_type": "stream",
     "text": [
      "client_id             int64\n",
      "visitor_id           object\n",
      "visit_id             object\n",
      "process_step         object\n",
      "date_time             int64\n",
      "clnt_tenure_yr      float64\n",
      "clnt_tenure_mnth    float64\n",
      "clnt_age            float64\n",
      "gendr                object\n",
      "num_accts           float64\n",
      "bal                 float64\n",
      "calls_6_mnth        float64\n",
      "logons_6_mnth       float64\n",
      "Variation            object\n",
      "dtype: object\n"
     ]
    }
   ],
   "source": [
    "print(df_merged.dtypes)\n"
   ]
  },
  {
   "cell_type": "code",
   "execution_count": 131,
   "metadata": {},
   "outputs": [
    {
     "data": {
      "text/html": [
       "<div>\n",
       "<style scoped>\n",
       "    .dataframe tbody tr th:only-of-type {\n",
       "        vertical-align: middle;\n",
       "    }\n",
       "\n",
       "    .dataframe tbody tr th {\n",
       "        vertical-align: top;\n",
       "    }\n",
       "\n",
       "    .dataframe thead th {\n",
       "        text-align: right;\n",
       "    }\n",
       "</style>\n",
       "<table border=\"1\" class=\"dataframe\">\n",
       "  <thead>\n",
       "    <tr style=\"text-align: right;\">\n",
       "      <th></th>\n",
       "      <th>client_id</th>\n",
       "      <th>visitor_id</th>\n",
       "      <th>visit_id</th>\n",
       "      <th>process_step</th>\n",
       "      <th>date_time</th>\n",
       "      <th>clnt_tenure_yr</th>\n",
       "      <th>clnt_tenure_mnth</th>\n",
       "      <th>clnt_age</th>\n",
       "      <th>gendr</th>\n",
       "      <th>num_accts</th>\n",
       "      <th>bal</th>\n",
       "      <th>calls_6_mnth</th>\n",
       "      <th>logons_6_mnth</th>\n",
       "      <th>Variation</th>\n",
       "    </tr>\n",
       "  </thead>\n",
       "  <tbody>\n",
       "    <tr>\n",
       "      <th>0</th>\n",
       "      <td>9988021</td>\n",
       "      <td>580560515_7732621733</td>\n",
       "      <td>781255054_21935453173_531117</td>\n",
       "      <td>step_3</td>\n",
       "      <td>1492442827000000000</td>\n",
       "      <td>5.0</td>\n",
       "      <td>64.0</td>\n",
       "      <td>79.0</td>\n",
       "      <td>U</td>\n",
       "      <td>2.0</td>\n",
       "      <td>189023.86</td>\n",
       "      <td>1.0</td>\n",
       "      <td>4.0</td>\n",
       "      <td>Test</td>\n",
       "    </tr>\n",
       "    <tr>\n",
       "      <th>1</th>\n",
       "      <td>9988021</td>\n",
       "      <td>580560515_7732621733</td>\n",
       "      <td>781255054_21935453173_531117</td>\n",
       "      <td>step_2</td>\n",
       "      <td>1492442811000000000</td>\n",
       "      <td>5.0</td>\n",
       "      <td>64.0</td>\n",
       "      <td>79.0</td>\n",
       "      <td>U</td>\n",
       "      <td>2.0</td>\n",
       "      <td>189023.86</td>\n",
       "      <td>1.0</td>\n",
       "      <td>4.0</td>\n",
       "      <td>Test</td>\n",
       "    </tr>\n",
       "    <tr>\n",
       "      <th>2</th>\n",
       "      <td>9988021</td>\n",
       "      <td>580560515_7732621733</td>\n",
       "      <td>781255054_21935453173_531117</td>\n",
       "      <td>step_3</td>\n",
       "      <td>1492442362000000000</td>\n",
       "      <td>5.0</td>\n",
       "      <td>64.0</td>\n",
       "      <td>79.0</td>\n",
       "      <td>U</td>\n",
       "      <td>2.0</td>\n",
       "      <td>189023.86</td>\n",
       "      <td>1.0</td>\n",
       "      <td>4.0</td>\n",
       "      <td>Test</td>\n",
       "    </tr>\n",
       "    <tr>\n",
       "      <th>3</th>\n",
       "      <td>9988021</td>\n",
       "      <td>580560515_7732621733</td>\n",
       "      <td>781255054_21935453173_531117</td>\n",
       "      <td>step_2</td>\n",
       "      <td>1492442353000000000</td>\n",
       "      <td>5.0</td>\n",
       "      <td>64.0</td>\n",
       "      <td>79.0</td>\n",
       "      <td>U</td>\n",
       "      <td>2.0</td>\n",
       "      <td>189023.86</td>\n",
       "      <td>1.0</td>\n",
       "      <td>4.0</td>\n",
       "      <td>Test</td>\n",
       "    </tr>\n",
       "    <tr>\n",
       "      <th>4</th>\n",
       "      <td>9988021</td>\n",
       "      <td>580560515_7732621733</td>\n",
       "      <td>781255054_21935453173_531117</td>\n",
       "      <td>step_3</td>\n",
       "      <td>1492442284000000000</td>\n",
       "      <td>5.0</td>\n",
       "      <td>64.0</td>\n",
       "      <td>79.0</td>\n",
       "      <td>U</td>\n",
       "      <td>2.0</td>\n",
       "      <td>189023.86</td>\n",
       "      <td>1.0</td>\n",
       "      <td>4.0</td>\n",
       "      <td>Test</td>\n",
       "    </tr>\n",
       "    <tr>\n",
       "      <th>...</th>\n",
       "      <td>...</td>\n",
       "      <td>...</td>\n",
       "      <td>...</td>\n",
       "      <td>...</td>\n",
       "      <td>...</td>\n",
       "      <td>...</td>\n",
       "      <td>...</td>\n",
       "      <td>...</td>\n",
       "      <td>...</td>\n",
       "      <td>...</td>\n",
       "      <td>...</td>\n",
       "      <td>...</td>\n",
       "      <td>...</td>\n",
       "      <td>...</td>\n",
       "    </tr>\n",
       "    <tr>\n",
       "      <th>755400</th>\n",
       "      <td>9668240</td>\n",
       "      <td>388766751_9038881013</td>\n",
       "      <td>922267647_3096648104_968866</td>\n",
       "      <td>start</td>\n",
       "      <td>1495651570000000000</td>\n",
       "      <td>NaN</td>\n",
       "      <td>NaN</td>\n",
       "      <td>NaN</td>\n",
       "      <td>NaN</td>\n",
       "      <td>NaN</td>\n",
       "      <td>NaN</td>\n",
       "      <td>NaN</td>\n",
       "      <td>NaN</td>\n",
       "      <td>NaN</td>\n",
       "    </tr>\n",
       "    <tr>\n",
       "      <th>755401</th>\n",
       "      <td>9668240</td>\n",
       "      <td>388766751_9038881013</td>\n",
       "      <td>922267647_3096648104_968866</td>\n",
       "      <td>start</td>\n",
       "      <td>1495651529000000000</td>\n",
       "      <td>NaN</td>\n",
       "      <td>NaN</td>\n",
       "      <td>NaN</td>\n",
       "      <td>NaN</td>\n",
       "      <td>NaN</td>\n",
       "      <td>NaN</td>\n",
       "      <td>NaN</td>\n",
       "      <td>NaN</td>\n",
       "      <td>NaN</td>\n",
       "    </tr>\n",
       "    <tr>\n",
       "      <th>755402</th>\n",
       "      <td>9668240</td>\n",
       "      <td>388766751_9038881013</td>\n",
       "      <td>922267647_3096648104_968866</td>\n",
       "      <td>step_1</td>\n",
       "      <td>1495651491000000000</td>\n",
       "      <td>NaN</td>\n",
       "      <td>NaN</td>\n",
       "      <td>NaN</td>\n",
       "      <td>NaN</td>\n",
       "      <td>NaN</td>\n",
       "      <td>NaN</td>\n",
       "      <td>NaN</td>\n",
       "      <td>NaN</td>\n",
       "      <td>NaN</td>\n",
       "    </tr>\n",
       "    <tr>\n",
       "      <th>755403</th>\n",
       "      <td>9668240</td>\n",
       "      <td>388766751_9038881013</td>\n",
       "      <td>922267647_3096648104_968866</td>\n",
       "      <td>start</td>\n",
       "      <td>1495651474000000000</td>\n",
       "      <td>NaN</td>\n",
       "      <td>NaN</td>\n",
       "      <td>NaN</td>\n",
       "      <td>NaN</td>\n",
       "      <td>NaN</td>\n",
       "      <td>NaN</td>\n",
       "      <td>NaN</td>\n",
       "      <td>NaN</td>\n",
       "      <td>NaN</td>\n",
       "    </tr>\n",
       "    <tr>\n",
       "      <th>755404</th>\n",
       "      <td>674799</td>\n",
       "      <td>947159805_81558194550</td>\n",
       "      <td>86152093_47511127657_716022</td>\n",
       "      <td>start</td>\n",
       "      <td>1496492229000000000</td>\n",
       "      <td>NaN</td>\n",
       "      <td>NaN</td>\n",
       "      <td>NaN</td>\n",
       "      <td>NaN</td>\n",
       "      <td>NaN</td>\n",
       "      <td>NaN</td>\n",
       "      <td>NaN</td>\n",
       "      <td>NaN</td>\n",
       "      <td>NaN</td>\n",
       "    </tr>\n",
       "  </tbody>\n",
       "</table>\n",
       "<p>744641 rows × 14 columns</p>\n",
       "</div>"
      ],
      "text/plain": [
       "        client_id             visitor_id                      visit_id  \\\n",
       "0         9988021   580560515_7732621733  781255054_21935453173_531117   \n",
       "1         9988021   580560515_7732621733  781255054_21935453173_531117   \n",
       "2         9988021   580560515_7732621733  781255054_21935453173_531117   \n",
       "3         9988021   580560515_7732621733  781255054_21935453173_531117   \n",
       "4         9988021   580560515_7732621733  781255054_21935453173_531117   \n",
       "...           ...                    ...                           ...   \n",
       "755400    9668240   388766751_9038881013   922267647_3096648104_968866   \n",
       "755401    9668240   388766751_9038881013   922267647_3096648104_968866   \n",
       "755402    9668240   388766751_9038881013   922267647_3096648104_968866   \n",
       "755403    9668240   388766751_9038881013   922267647_3096648104_968866   \n",
       "755404     674799  947159805_81558194550   86152093_47511127657_716022   \n",
       "\n",
       "       process_step            date_time  clnt_tenure_yr  clnt_tenure_mnth  \\\n",
       "0            step_3  1492442827000000000             5.0              64.0   \n",
       "1            step_2  1492442811000000000             5.0              64.0   \n",
       "2            step_3  1492442362000000000             5.0              64.0   \n",
       "3            step_2  1492442353000000000             5.0              64.0   \n",
       "4            step_3  1492442284000000000             5.0              64.0   \n",
       "...             ...                  ...             ...               ...   \n",
       "755400        start  1495651570000000000             NaN               NaN   \n",
       "755401        start  1495651529000000000             NaN               NaN   \n",
       "755402       step_1  1495651491000000000             NaN               NaN   \n",
       "755403        start  1495651474000000000             NaN               NaN   \n",
       "755404        start  1496492229000000000             NaN               NaN   \n",
       "\n",
       "        clnt_age gendr  num_accts        bal  calls_6_mnth  logons_6_mnth  \\\n",
       "0           79.0     U        2.0  189023.86           1.0            4.0   \n",
       "1           79.0     U        2.0  189023.86           1.0            4.0   \n",
       "2           79.0     U        2.0  189023.86           1.0            4.0   \n",
       "3           79.0     U        2.0  189023.86           1.0            4.0   \n",
       "4           79.0     U        2.0  189023.86           1.0            4.0   \n",
       "...          ...   ...        ...        ...           ...            ...   \n",
       "755400       NaN   NaN        NaN        NaN           NaN            NaN   \n",
       "755401       NaN   NaN        NaN        NaN           NaN            NaN   \n",
       "755402       NaN   NaN        NaN        NaN           NaN            NaN   \n",
       "755403       NaN   NaN        NaN        NaN           NaN            NaN   \n",
       "755404       NaN   NaN        NaN        NaN           NaN            NaN   \n",
       "\n",
       "       Variation  \n",
       "0           Test  \n",
       "1           Test  \n",
       "2           Test  \n",
       "3           Test  \n",
       "4           Test  \n",
       "...          ...  \n",
       "755400       NaN  \n",
       "755401       NaN  \n",
       "755402       NaN  \n",
       "755403       NaN  \n",
       "755404       NaN  \n",
       "\n",
       "[744641 rows x 14 columns]"
      ]
     },
     "execution_count": 131,
     "metadata": {},
     "output_type": "execute_result"
    }
   ],
   "source": [
    "df_merged"
   ]
  },
  {
   "cell_type": "markdown",
   "metadata": {},
   "source": [
    "##  Demographics Analysis\n",
    "\n",
    "1 Who are the primary clients using this online process?\n",
    "\n"
   ]
  },
  {
   "cell_type": "markdown",
   "metadata": {},
   "source": [
    "# Visualize Distributions:"
   ]
  },
  {
   "cell_type": "code",
   "execution_count": 132,
   "metadata": {},
   "outputs": [
    {
     "data": {
      "image/png": "[encoded data removed]",
      "text/plain": [
       "<Figure size 640x480 with 1 Axes>"
      ]
     },
     "metadata": {},
     "output_type": "display_data"
    },
    {
     "data": {
      "image/png": "[encoded data removed]",
      "text/plain": [
       "<Figure size 640x480 with 1 Axes>"
      ]
     },
     "metadata": {},
     "output_type": "display_data"
    }
   ],
   "source": [
    "import matplotlib.pyplot as plt\n",
    "import seaborn as sns\n",
    "\n",
    "sns.histplot(df_merged['clnt_age'], kde=True)\n",
    "plt.title('Age Distribution')\n",
    "plt.show()\n",
    "\n",
    "sns.countplot(x='gendr', data=df_merged)\n",
    "plt.title('Gender Distribution')\n",
    "plt.show()\n"
   ]
  },
  {
   "cell_type": "code",
   "execution_count": 133,
   "metadata": {},
   "outputs": [
    {
     "data": {
      "image/png": "[encoded data removed]",
      "text/plain": [
       "<Figure size 640x480 with 1 Axes>"
      ]
     },
     "metadata": {},
     "output_type": "display_data"
    }
   ],
   "source": [
    "\n",
    "# Account type distribution\n",
    "sns.countplot(x='num_accts', data=df_merged)\n",
    "plt.title('Account Type Distribution')\n",
    "plt.show()"
   ]
  },
  {
   "cell_type": "markdown",
   "metadata": {},
   "source": [
    "2 Are the primary clients younger or older, new or long-standing?"
   ]
  },
  {
   "cell_type": "code",
   "execution_count": 134,
   "metadata": {},
   "outputs": [],
   "source": [
    "# Age groups: younger vs older\n",
    "younger_clients = df_merged[df_merged['clnt_age'] < df_merged['clnt_age'].median()]\n",
    "older_clients = df_merged[df_merged['clnt_age'] >= df_merged['clnt_age'].median()]\n",
    "\n"
   ]
  },
  {
   "cell_type": "code",
   "execution_count": 135,
   "metadata": {},
   "outputs": [
    {
     "name": "stdout",
     "output_type": "stream",
     "text": [
      "        client_id             visitor_id                      visit_id  \\\n",
      "8         8320017   39393514_33118319366  960651974_70596002104_312201   \n",
      "9         8320017   39393514_33118319366  960651974_70596002104_312201   \n",
      "10        8320017   39393514_33118319366  960651974_70596002104_312201   \n",
      "11        8320017   39393514_33118319366  960651974_70596002104_312201   \n",
      "12        8320017   39393514_33118319366  960651974_70596002104_312201   \n",
      "...           ...                    ...                           ...   \n",
      "755323    1020453  433909361_21130313633  310496685_94413045985_207142   \n",
      "755324    1020453  433909361_21130313633  310496685_94413045985_207142   \n",
      "755325    1020453  433909361_21130313633  310496685_94413045985_207142   \n",
      "755326    1020453  433909361_21130313633  310496685_94413045985_207142   \n",
      "755357    3897324   80177429_24869309091  149796456_64325617570_112561   \n",
      "\n",
      "       process_step            date_time  clnt_tenure_yr  clnt_tenure_mnth  \\\n",
      "8           confirm  1491397805000000000            22.0             274.0   \n",
      "9            step_3  1491397783000000000            22.0             274.0   \n",
      "10           step_2  1491397720000000000            22.0             274.0   \n",
      "11           step_1  1491397704000000000            22.0             274.0   \n",
      "12            start  1491397686000000000            22.0             274.0   \n",
      "...             ...                  ...             ...               ...   \n",
      "755323       step_3  1493815259000000000             5.0              70.0   \n",
      "755324       step_2  1493815170000000000             5.0              70.0   \n",
      "755325       step_1  1493815154000000000             5.0              70.0   \n",
      "755326        start  1493815074000000000             5.0              70.0   \n",
      "755357        start  1493886090000000000            12.0             149.0   \n",
      "\n",
      "        clnt_age gendr  num_accts        bal  calls_6_mnth  logons_6_mnth  \\\n",
      "8           34.5     M        2.0   36001.90           5.0            8.0   \n",
      "9           34.5     M        2.0   36001.90           5.0            8.0   \n",
      "10          34.5     M        2.0   36001.90           5.0            8.0   \n",
      "11          34.5     M        2.0   36001.90           5.0            8.0   \n",
      "12          34.5     M        2.0   36001.90           5.0            8.0   \n",
      "...          ...   ...        ...        ...           ...            ...   \n",
      "755323      32.0     U        3.0  137341.46           4.0            4.0   \n",
      "755324      32.0     U        3.0  137341.46           4.0            4.0   \n",
      "755325      32.0     U        3.0  137341.46           4.0            4.0   \n",
      "755326      32.0     U        3.0  137341.46           4.0            4.0   \n",
      "755357      40.0     M        2.0   43326.30           7.0            7.0   \n",
      "\n",
      "       Variation  \n",
      "8           Test  \n",
      "9           Test  \n",
      "10          Test  \n",
      "11          Test  \n",
      "12          Test  \n",
      "...          ...  \n",
      "755323       NaN  \n",
      "755324       NaN  \n",
      "755325       NaN  \n",
      "755326       NaN  \n",
      "755357       NaN  \n",
      "\n",
      "[219435 rows x 14 columns]\n"
     ]
    }
   ],
   "source": [
    "print (younger_clients)"
   ]
  },
  {
   "cell_type": "code",
   "execution_count": 136,
   "metadata": {},
   "outputs": [
    {
     "name": "stdout",
     "output_type": "stream",
     "text": [
      "        client_id             visitor_id                      visit_id  \\\n",
      "0         9988021   580560515_7732621733  781255054_21935453173_531117   \n",
      "1         9988021   580560515_7732621733  781255054_21935453173_531117   \n",
      "2         9988021   580560515_7732621733  781255054_21935453173_531117   \n",
      "3         9988021   580560515_7732621733  781255054_21935453173_531117   \n",
      "4         9988021   580560515_7732621733  781255054_21935453173_531117   \n",
      "...           ...                    ...                           ...   \n",
      "755377    9895983  473024645_56027518531  498981662_93503779869_272484   \n",
      "755378    9895983  473024645_56027518531  498981662_93503779869_272484   \n",
      "755379    9895983  473024645_56027518531  498981662_93503779869_272484   \n",
      "755380    9895983  473024645_56027518531  498981662_93503779869_272484   \n",
      "755381    9895983  473024645_56027518531  498981662_93503779869_272484   \n",
      "\n",
      "       process_step            date_time  clnt_tenure_yr  clnt_tenure_mnth  \\\n",
      "0            step_3  1492442827000000000             5.0              64.0   \n",
      "1            step_2  1492442811000000000             5.0              64.0   \n",
      "2            step_3  1492442362000000000             5.0              64.0   \n",
      "3            step_2  1492442353000000000             5.0              64.0   \n",
      "4            step_3  1492442284000000000             5.0              64.0   \n",
      "...             ...                  ...             ...               ...   \n",
      "755377       step_3  1497556329000000000            10.0             121.0   \n",
      "755378       step_2  1497556237000000000            10.0             121.0   \n",
      "755379       step_1  1497556205000000000            10.0             121.0   \n",
      "755380        start  1497556200000000000            10.0             121.0   \n",
      "755381        start  1497555845000000000            10.0             121.0   \n",
      "\n",
      "        clnt_age gendr  num_accts        bal  calls_6_mnth  logons_6_mnth  \\\n",
      "0           79.0     U        2.0  189023.86           1.0            4.0   \n",
      "1           79.0     U        2.0  189023.86           1.0            4.0   \n",
      "2           79.0     U        2.0  189023.86           1.0            4.0   \n",
      "3           79.0     U        2.0  189023.86           1.0            4.0   \n",
      "4           79.0     U        2.0  189023.86           1.0            4.0   \n",
      "...          ...   ...        ...        ...           ...            ...   \n",
      "755377      49.0     M        2.0   97748.22           2.0            2.0   \n",
      "755378      49.0     M        2.0   97748.22           2.0            2.0   \n",
      "755379      49.0     M        2.0   97748.22           2.0            2.0   \n",
      "755380      49.0     M        2.0   97748.22           2.0            2.0   \n",
      "755381      49.0     M        2.0   97748.22           2.0            2.0   \n",
      "\n",
      "       Variation  \n",
      "0           Test  \n",
      "1           Test  \n",
      "2           Test  \n",
      "3           Test  \n",
      "4           Test  \n",
      "...          ...  \n",
      "755377       NaN  \n",
      "755378       NaN  \n",
      "755379       NaN  \n",
      "755380       NaN  \n",
      "755381       NaN  \n",
      "\n",
      "[224337 rows x 14 columns]\n"
     ]
    }
   ],
   "source": [
    "print(older_clients)"
   ]
  },
  {
   "cell_type": "code",
   "execution_count": 137,
   "metadata": {},
   "outputs": [],
   "source": [
    "# New vs long-standing clients\n",
    "new_clients = df_merged[df_merged['clnt_age'] < df_merged['clnt_age'].median()]\n",
    "long_standing_clients = df_merged[df_merged['clnt_age'] >= df_merged['clnt_age'].median()]"
   ]
  },
  {
   "cell_type": "code",
   "execution_count": 138,
   "metadata": {},
   "outputs": [
    {
     "name": "stdout",
     "output_type": "stream",
     "text": [
      "        client_id             visitor_id                      visit_id  \\\n",
      "8         8320017   39393514_33118319366  960651974_70596002104_312201   \n",
      "9         8320017   39393514_33118319366  960651974_70596002104_312201   \n",
      "10        8320017   39393514_33118319366  960651974_70596002104_312201   \n",
      "11        8320017   39393514_33118319366  960651974_70596002104_312201   \n",
      "12        8320017   39393514_33118319366  960651974_70596002104_312201   \n",
      "...           ...                    ...                           ...   \n",
      "755323    1020453  433909361_21130313633  310496685_94413045985_207142   \n",
      "755324    1020453  433909361_21130313633  310496685_94413045985_207142   \n",
      "755325    1020453  433909361_21130313633  310496685_94413045985_207142   \n",
      "755326    1020453  433909361_21130313633  310496685_94413045985_207142   \n",
      "755357    3897324   80177429_24869309091  149796456_64325617570_112561   \n",
      "\n",
      "       process_step            date_time  clnt_tenure_yr  clnt_tenure_mnth  \\\n",
      "8           confirm  1491397805000000000            22.0             274.0   \n",
      "9            step_3  1491397783000000000            22.0             274.0   \n",
      "10           step_2  1491397720000000000            22.0             274.0   \n",
      "11           step_1  1491397704000000000            22.0             274.0   \n",
      "12            start  1491397686000000000            22.0             274.0   \n",
      "...             ...                  ...             ...               ...   \n",
      "755323       step_3  1493815259000000000             5.0              70.0   \n",
      "755324       step_2  1493815170000000000             5.0              70.0   \n",
      "755325       step_1  1493815154000000000             5.0              70.0   \n",
      "755326        start  1493815074000000000             5.0              70.0   \n",
      "755357        start  1493886090000000000            12.0             149.0   \n",
      "\n",
      "        clnt_age gendr  num_accts        bal  calls_6_mnth  logons_6_mnth  \\\n",
      "8           34.5     M        2.0   36001.90           5.0            8.0   \n",
      "9           34.5     M        2.0   36001.90           5.0            8.0   \n",
      "10          34.5     M        2.0   36001.90           5.0            8.0   \n",
      "11          34.5     M        2.0   36001.90           5.0            8.0   \n",
      "12          34.5     M        2.0   36001.90           5.0            8.0   \n",
      "...          ...   ...        ...        ...           ...            ...   \n",
      "755323      32.0     U        3.0  137341.46           4.0            4.0   \n",
      "755324      32.0     U        3.0  137341.46           4.0            4.0   \n",
      "755325      32.0     U        3.0  137341.46           4.0            4.0   \n",
      "755326      32.0     U        3.0  137341.46           4.0            4.0   \n",
      "755357      40.0     M        2.0   43326.30           7.0            7.0   \n",
      "\n",
      "       Variation  \n",
      "8           Test  \n",
      "9           Test  \n",
      "10          Test  \n",
      "11          Test  \n",
      "12          Test  \n",
      "...          ...  \n",
      "755323       NaN  \n",
      "755324       NaN  \n",
      "755325       NaN  \n",
      "755326       NaN  \n",
      "755357       NaN  \n",
      "\n",
      "[219435 rows x 14 columns]\n"
     ]
    }
   ],
   "source": [
    "print(new_clients)"
   ]
  },
  {
   "cell_type": "code",
   "execution_count": 139,
   "metadata": {},
   "outputs": [
    {
     "name": "stdout",
     "output_type": "stream",
     "text": [
      "        client_id             visitor_id                      visit_id  \\\n",
      "0         9988021   580560515_7732621733  781255054_21935453173_531117   \n",
      "1         9988021   580560515_7732621733  781255054_21935453173_531117   \n",
      "2         9988021   580560515_7732621733  781255054_21935453173_531117   \n",
      "3         9988021   580560515_7732621733  781255054_21935453173_531117   \n",
      "4         9988021   580560515_7732621733  781255054_21935453173_531117   \n",
      "...           ...                    ...                           ...   \n",
      "755377    9895983  473024645_56027518531  498981662_93503779869_272484   \n",
      "755378    9895983  473024645_56027518531  498981662_93503779869_272484   \n",
      "755379    9895983  473024645_56027518531  498981662_93503779869_272484   \n",
      "755380    9895983  473024645_56027518531  498981662_93503779869_272484   \n",
      "755381    9895983  473024645_56027518531  498981662_93503779869_272484   \n",
      "\n",
      "       process_step            date_time  clnt_tenure_yr  clnt_tenure_mnth  \\\n",
      "0            step_3  1492442827000000000             5.0              64.0   \n",
      "1            step_2  1492442811000000000             5.0              64.0   \n",
      "2            step_3  1492442362000000000             5.0              64.0   \n",
      "3            step_2  1492442353000000000             5.0              64.0   \n",
      "4            step_3  1492442284000000000             5.0              64.0   \n",
      "...             ...                  ...             ...               ...   \n",
      "755377       step_3  1497556329000000000            10.0             121.0   \n",
      "755378       step_2  1497556237000000000            10.0             121.0   \n",
      "755379       step_1  1497556205000000000            10.0             121.0   \n",
      "755380        start  1497556200000000000            10.0             121.0   \n",
      "755381        start  1497555845000000000            10.0             121.0   \n",
      "\n",
      "        clnt_age gendr  num_accts        bal  calls_6_mnth  logons_6_mnth  \\\n",
      "0           79.0     U        2.0  189023.86           1.0            4.0   \n",
      "1           79.0     U        2.0  189023.86           1.0            4.0   \n",
      "2           79.0     U        2.0  189023.86           1.0            4.0   \n",
      "3           79.0     U        2.0  189023.86           1.0            4.0   \n",
      "4           79.0     U        2.0  189023.86           1.0            4.0   \n",
      "...          ...   ...        ...        ...           ...            ...   \n",
      "755377      49.0     M        2.0   97748.22           2.0            2.0   \n",
      "755378      49.0     M        2.0   97748.22           2.0            2.0   \n",
      "755379      49.0     M        2.0   97748.22           2.0            2.0   \n",
      "755380      49.0     M        2.0   97748.22           2.0            2.0   \n",
      "755381      49.0     M        2.0   97748.22           2.0            2.0   \n",
      "\n",
      "       Variation  \n",
      "0           Test  \n",
      "1           Test  \n",
      "2           Test  \n",
      "3           Test  \n",
      "4           Test  \n",
      "...          ...  \n",
      "755377       NaN  \n",
      "755378       NaN  \n",
      "755379       NaN  \n",
      "755380       NaN  \n",
      "755381       NaN  \n",
      "\n",
      "[224337 rows x 14 columns]\n"
     ]
    }
   ],
   "source": [
    "print(long_standing_clients)"
   ]
  },
  {
   "cell_type": "code",
   "execution_count": 140,
   "metadata": {},
   "outputs": [
    {
     "data": {
      "image/png": "[encoded data removed]",
      "text/plain": [
       "<Figure size 640x480 with 1 Axes>"
      ]
     },
     "metadata": {},
     "output_type": "display_data"
    }
   ],
   "source": [
    "sns.histplot(younger_clients['clnt_age'], kde=True, color='blue', label='Younger Clients')\n",
    "sns.histplot(older_clients['clnt_age'], kde=True, color='red', label='Older Clients')\n",
    "plt.title('Age Distribution: Younger vs Older Clients')\n",
    "plt.legend()\n",
    "plt.show()"
   ]
  },
  {
   "cell_type": "code",
   "execution_count": 141,
   "metadata": {},
   "outputs": [
    {
     "data": {
      "image/png": "[encoded data removed]",
      "text/plain": [
       "<Figure size 640x480 with 1 Axes>"
      ]
     },
     "metadata": {},
     "output_type": "display_data"
    }
   ],
   "source": [
    "sns.histplot(new_clients['clnt_age'], kde=True, color='green', label='New Clients')\n",
    "sns.histplot(long_standing_clients['clnt_age'], kde=True, color='purple', label='Long-Standing Clients')\n",
    "plt.title('Account Age Distribution: New vs Long-Standing Clients')\n",
    "plt.legend()\n",
    "plt.show()"
   ]
  },
  {
   "cell_type": "markdown",
   "metadata": {},
   "source": [
    " # Gender distribution of customers"
   ]
  },
  {
   "cell_type": "markdown",
   "metadata": {},
   "source": [
    "**Gender:** \n",
    "\n",
    "The gender distribution is fairly evenly split between “M” (male) and “F” (female), but there are also a significant number of “U” (unknown) and few “X” (unspecified). This indicates that the system may not always correctly record the gender of users.\n",
    "Membership duration: Most customers have a membership duration of 5 to 15 years, with peaks at around 6 and 12 years. This indicates that the primary customers are medium to long-term users of the service."
   ]
  },
  {
   "cell_type": "code",
   "execution_count": 144,
   "metadata": {},
   "outputs": [
    {
     "data": {
      "image/png": "[encoded data removed]",
      "text/plain": [
       "<Figure size 1400x700 with 1 Axes>"
      ]
     },
     "metadata": {},
     "output_type": "display_data"
    }
   ],
   "source": [
    "# Boxenplot for client gender\n",
    "plt.figure(figsize=(14, 7))\n",
    "sns.boxenplot(\n",
    "    data=long_standing_clients, x=\"gendr\", y=\"clnt_tenure_yr\",\n",
    "    palette='Set1'\n",
    ")\n",
    "plt.title('Client Tenure Distribution by Gender')\n",
    "plt.xlabel('Gender')\n",
    "plt.ylabel('Tenure (Years)')\n",
    "plt.xticks(rotation=45, fontsize=10)\n",
    "plt.yticks(fontsize=10)\n",
    "plt.show()"
   ]
  },
  {
   "cell_type": "markdown",
   "metadata": {},
   "source": [
    "# Distribution of customers by length of affiliation"
   ]
  },
  {
   "cell_type": "markdown",
   "metadata": {},
   "source": [
    "***New or long-term:***\n",
    "\n",
    " Primary customers have a medium to long-term affiliation, as can be seen from the distribution of the length of affiliation."
   ]
  },
  {
   "cell_type": "code",
   "execution_count": 145,
   "metadata": {},
   "outputs": [
    {
     "data": {
      "image/png": "[encoded data removed]",
      "text/plain": [
       "<Figure size 1000x600 with 1 Axes>"
      ]
     },
     "metadata": {},
     "output_type": "display_data"
    }
   ],
   "source": [
    "# Plotting the account age distribution for new vs long-standing clients\n",
    "plt.figure(figsize=(10, 6))\n",
    "sns.histplot(new_clients['clnt_tenure_yr'], kde=True, color='green', label='New Clients')\n",
    "sns.histplot(long_standing_clients['clnt_tenure_yr'], kde=True, color='purple', label='Long-Standing Clients')\n",
    "plt.title('Account Age Distribution: New vs Long-Standing Clients')\n",
    "plt.xlabel('Client Tenure (Years)')\n",
    "plt.ylabel('Frequency')\n",
    "plt.legend()\n",
    "plt.grid(True)\n",
    "plt.show()\n"
   ]
  },
  {
   "cell_type": "code",
   "execution_count": 142,
   "metadata": {},
   "outputs": [],
   "source": [
    "df_Merged = df_merged.merge(df_demo, on='client_id', how='left').merge(df_experiment, on='client_id', how='left')"
   ]
  },
  {
   "cell_type": "markdown",
   "metadata": {},
   "source": [
    "## Client Behavior Analysis\n",
    "\n",
    "Interaction Patterns:\n",
    "\n",
    "The distribution of logins shows that most customers have logged in between 1 and 9 times in the last 6 months, with a clear peak at 9 logins. This indicates that most customers use the platform regularly, but not excessively often."
   ]
  },
  {
   "cell_type": "code",
   "execution_count": 153,
   "metadata": {},
   "outputs": [
    {
     "data": {
      "image/png": "[encoded data removed]",
      "text/plain": [
       "<Figure size 1000x600 with 1 Axes>"
      ]
     },
     "metadata": {},
     "output_type": "display_data"
    }
   ],
   "source": [
    "# Data for the step plot\n",
    "logins = df_Merged['clnt_tenure_mnth_x'].value_counts().sort_index()\n",
    "cumulative_logins = logins.cumsum()\n",
    "\n",
    "# Plotting the step plot\n",
    "plt.figure(figsize=(10, 6))\n",
    "plt.step(cumulative_logins.index, cumulative_logins, where='mid', color='green')\n",
    "plt.title('Cumulative Number of Logins in the Last 6 Months')\n",
    "plt.xlabel('Number of Logins')\n",
    "plt.ylabel('Cumulative Frequency')\n",
    "plt.grid(True)\n",
    "plt.show()"
   ]
  },
  {
   "cell_type": "code",
   "execution_count": 154,
   "metadata": {},
   "outputs": [
    {
     "data": {
      "image/png": "[encoded data removed]",
      "text/plain": [
       "<Figure size 1000x600 with 1 Axes>"
      ]
     },
     "metadata": {},
     "output_type": "display_data"
    }
   ],
   "source": [
    "calls = df_Merged['calls_6_mnth_x'].value_counts().sort_index()\n",
    "\n",
    "# Plotting the time series-like plot (or trend plot)\n",
    "plt.figure(figsize=(10, 6))\n",
    "plt.plot(calls.index, calls, marker='o', color='orange')\n",
    "plt.title('Frequency of Calls in the Last 6 Months')\n",
    "plt.xlabel('Number of Calls')\n",
    "plt.ylabel('Frequency')\n",
    "plt.grid(True)\n",
    "plt.show()"
   ]
  },
  {
   "cell_type": "code",
   "execution_count": 164,
   "metadata": {},
   "outputs": [
    {
     "name": "stdout",
     "output_type": "stream",
     "text": [
      "Index(['client_id', 'visitor_id', 'visit_id', 'process_step', 'date_time',\n",
      "       'clnt_tenure_yr', 'clnt_tenure_mnth', 'clnt_age', 'gendr', 'num_accts',\n",
      "       'bal', 'calls_6_mnth', 'logons_6_mnth', 'Variation'],\n",
      "      dtype='object')\n"
     ]
    }
   ],
   "source": [
    "print(df_merged.columns)"
   ]
  },
  {
   "cell_type": "markdown",
   "metadata": {},
   "source": [
    "## Day 3 (Week 5): KPIs & Metrics"
   ]
  },
  {
   "cell_type": "markdown",
   "metadata": {},
   "source": [
    "\n",
    "## Hypothesis \n"
   ]
  },
  {
   "cell_type": "markdown",
   "metadata": {},
   "source": [
    "# 1 Completion Rate\n",
    "To test if the difference in completion rate between the test and control groups is statistically significant, we can use a two-proportion z-test.\n",
    "\n",
    "Null Hypothesis (H0): The completion rate for the control group is equal to the completion rate for the test group.\n",
    "Alternative Hypothesis (H1): The completion rate for the control group is not equal to the completion rate for the test group."
   ]
  },
  {
   "cell_type": "markdown",
   "metadata": {},
   "source": [
    "# 2 Completion Rate with a Cost-Effectiveness Threshold\n",
    "To test if the observed increase in completion rate from the A/B test meets or exceeds the 5% threshold, we can again use a two-proportion z-test but with a specific threshold.\n",
    "\n",
    "Null Hypothesis (H0): The completion rate for the test group is less than or equal to the completion rate for the control group plus 5%.\n",
    "Alternative Hypothesis (H1): The completion rate for the test group is greater than the completion rate for the control group plus 5%."
   ]
  },
  {
   "cell_type": "markdown",
   "metadata": {},
   "source": [
    "\n",
    "\n",
    "# 3 Other Hypothesis Example\n",
    "Let's test whether the average age of clients engaging with the new process is the same as those engaging with the old process using a two-sample t-test.\n",
    "\n",
    "Null Hypothesis (H0): The average age of clients is the same for the control and test groups.\n",
    "Alternative Hypothesis (H1): The average age of clients is different for the control and test groups.\n",
    "\n",
    "\n",
    "\n",
    "\n",
    "\n",
    "\n",
    "\n",
    "Tasks:\n",
    "\n",
    "Review KPIs and Metrics:\n",
    "\n",
    "Understand the concepts and importance of KPIs and metrics in evaluating performance.\n",
    "Identify Success Indicators:\n",
    "\n",
    "Define KPIs like completion rate, time spent on each step, and error rates.\n",
    "Identify any additional relevant KPIs.\n",
    "Redesign Outcome:\n",
    "\n",
    "Analyze the data to determine if the new design improves the KPIs."
   ]
  },
  {
   "cell_type": "code",
   "execution_count": 180,
   "metadata": {},
   "outputs": [
    {
     "name": "stdout",
     "output_type": "stream",
     "text": [
      "Index(['client_id', 'visitor_id', 'visit_id', 'process_step', 'date_time',\n",
      "       'clnt_tenure_yr', 'clnt_tenure_mnth', 'clnt_age', 'gendr', 'num_accts',\n",
      "       'bal', 'calls_6_mnth', 'logons_6_mnth', 'Variation'],\n",
      "      dtype='object')\n"
     ]
    }
   ],
   "source": [
    "print(df_merged.columns)\n"
   ]
  },
  {
   "cell_type": "code",
   "execution_count": 175,
   "metadata": {},
   "outputs": [
    {
     "data": {
      "image/png": "[encoded data removed]",
      "text/plain": [
       "<Figure size 1000x500 with 1 Axes>"
      ]
     },
     "metadata": {},
     "output_type": "display_data"
    }
   ],
   "source": [
    "# Completion Rate\n",
    "plt.figure(figsize=(10, 5))\n",
    "completion_rate.plot(kind='bar', title='Completion Rate')\n",
    "plt.xlabel('Design')\n",
    "plt.ylabel('Completion Rate')\n",
    "plt.show()\n"
   ]
  },
  {
   "cell_type": "code",
   "execution_count": 176,
   "metadata": {},
   "outputs": [
    {
     "data": {
      "image/png": "[encoded data removed]",
      "text/plain": [
       "<Figure size 1000x500 with 1 Axes>"
      ]
     },
     "metadata": {},
     "output_type": "display_data"
    }
   ],
   "source": [
    "# Time Spent\n",
    "plt.figure(figsize=(10, 5))\n",
    "time_spent.plot(kind='bar', title='Time Spent on Each Step')\n",
    "plt.xlabel('Design')\n",
    "plt.ylabel('Time Spent (seconds)')\n",
    "plt.show()\n"
   ]
  },
  {
   "cell_type": "code",
   "execution_count": 66,
   "metadata": {},
   "outputs": [
    {
     "data": {
      "image/png": "[encoded data removed]",
      "text/plain": [
       "<Figure size 1000x500 with 1 Axes>"
      ]
     },
     "metadata": {},
     "output_type": "display_data"
    }
   ],
   "source": [
    "\n",
    "# Error Rate\n",
    "plt.figure(figsize=(10, 5))\n",
    "error_rate.plot(kind='bar', title='Error Rates')\n",
    "plt.xlabel('Design')\n",
    "plt.ylabel('Error Rate')\n",
    "plt.show()"
   ]
  },
  {
   "cell_type": "markdown",
   "metadata": {},
   "source": [
    "Step 3: Interpret Results\n",
    "Here is an example of how you might interpret the results based on the visualizations and printed KPIs:\n",
    "\n",
    "Completion Rate:\n",
    "\n",
    "If the completion rate is higher for the test group, it indicates that the new design helps more users complete the process.\n",
    "Time Spent on Each Step:\n",
    "\n",
    "If the average time spent on each step is lower for the test group, it suggests that the new design is more efficient and helps users navigate through the steps more quickly.\n",
    "Error Rates:\n",
    "\n",
    "If the error rate is lower for the test group, it indicates that users are experiencing fewer issues and are less confused by the new design."
   ]
  },
  {
   "cell_type": "markdown",
   "metadata": {},
   "source": [
    "# Day 4 & 5 (Week 5): Hypothesis Testing & Experiment Evaluation\n",
    "Tasks:\n",
    "\n",
    "Hypothesis Testing:\n",
    "\n",
    "Conduct hypothesis tests to compare the old and new designs.\n",
    "Test for completion rates, cost-effectiveness, and other relevant metrics.\n",
    "Experiment Evaluation:\n",
    "\n",
    "Assess the overall design effectiveness.\n",
    "Evaluate the duration of the experiment.\n",
    "Identify any additional data needs for future experiments."
   ]
  },
  {
   "cell_type": "markdown",
   "metadata": {},
   "source": [
    "Hypothesis Testing for Completion Rate:"
   ]
  },
  {
   "cell_type": "code",
   "execution_count": 67,
   "metadata": {},
   "outputs": [
    {
     "name": "stdout",
     "output_type": "stream",
     "text": [
      "T-statistic: 0.29277002188455986, P-value: 0.7887799817897359\n"
     ]
    }
   ],
   "source": [
    "from scipy.stats import ttest_ind\n",
    "\n",
    "# Hypothesis Testing for Completion Rate\n",
    "control_group = df_merged[df_merged['design'] == 'control']['completed']\n",
    "test_group = df_merged[df_merged['design'] == 'test']['completed']\n",
    "t_stat, p_value = ttest_ind(control_group, test_group)\n",
    "\n",
    "print(f\"T-statistic: {t_stat}, P-value: {p_value}\")\n"
   ]
  },
  {
   "cell_type": "code",
   "execution_count": 68,
   "metadata": {},
   "outputs": [
    {
     "name": "stdout",
     "output_type": "stream",
     "text": [
      "No significant difference in completion rates between control and test groups.\n"
     ]
    }
   ],
   "source": [
    "# Interpret results\n",
    "if p_value < 0.05:\n",
    "    print(\"Significant difference in completion rates between control and test groups.\")\n",
    "else:\n",
    "    print(\"No significant difference in completion rates between control and test groups.\")"
   ]
  },
  {
   "cell_type": "code",
   "execution_count": 70,
   "metadata": {},
   "outputs": [
    {
     "name": "stdout",
     "output_type": "stream",
     "text": [
      "T-statistic: -0.5222329678670932, P-value: 0.637618091400602\n"
     ]
    }
   ],
   "source": [
    "# Two-sample t-test for average age\n",
    "control_age = df_merged[df_merged['design'] == 'control']['age']\n",
    "test_age = df_merged[df_merged['design'] == 'test']['age']\n",
    "t_stat, p_value_age = ttest_ind(control_age, test_age)\n",
    "print(f\"T-statistic: {t_stat}, P-value: {p_value_age}\")\n"
   ]
  },
  {
   "cell_type": "code",
   "execution_count": 177,
   "metadata": {},
   "outputs": [
    {
     "data": {
      "text/html": [
       "<div>\n",
       "<style scoped>\n",
       "    .dataframe tbody tr th:only-of-type {\n",
       "        vertical-align: middle;\n",
       "    }\n",
       "\n",
       "    .dataframe tbody tr th {\n",
       "        vertical-align: top;\n",
       "    }\n",
       "\n",
       "    .dataframe thead th {\n",
       "        text-align: right;\n",
       "    }\n",
       "</style>\n",
       "<table border=\"1\" class=\"dataframe\">\n",
       "  <thead>\n",
       "    <tr style=\"text-align: right;\">\n",
       "      <th></th>\n",
       "      <th>client_id</th>\n",
       "      <th>visitor_id</th>\n",
       "      <th>visit_id</th>\n",
       "      <th>process_step</th>\n",
       "      <th>date_time</th>\n",
       "      <th>clnt_tenure_yr</th>\n",
       "      <th>clnt_tenure_mnth</th>\n",
       "      <th>clnt_age</th>\n",
       "      <th>gendr</th>\n",
       "      <th>num_accts</th>\n",
       "      <th>bal</th>\n",
       "      <th>calls_6_mnth</th>\n",
       "      <th>logons_6_mnth</th>\n",
       "      <th>Variation</th>\n",
       "    </tr>\n",
       "  </thead>\n",
       "  <tbody>\n",
       "    <tr>\n",
       "      <th>0</th>\n",
       "      <td>9988021</td>\n",
       "      <td>580560515_7732621733</td>\n",
       "      <td>781255054_21935453173_531117</td>\n",
       "      <td>step_3</td>\n",
       "      <td>1492442827000000000</td>\n",
       "      <td>5.0</td>\n",
       "      <td>64.0</td>\n",
       "      <td>79.0</td>\n",
       "      <td>U</td>\n",
       "      <td>2.0</td>\n",
       "      <td>189023.86</td>\n",
       "      <td>1.0</td>\n",
       "      <td>4.0</td>\n",
       "      <td>Test</td>\n",
       "    </tr>\n",
       "    <tr>\n",
       "      <th>1</th>\n",
       "      <td>9988021</td>\n",
       "      <td>580560515_7732621733</td>\n",
       "      <td>781255054_21935453173_531117</td>\n",
       "      <td>step_2</td>\n",
       "      <td>1492442811000000000</td>\n",
       "      <td>5.0</td>\n",
       "      <td>64.0</td>\n",
       "      <td>79.0</td>\n",
       "      <td>U</td>\n",
       "      <td>2.0</td>\n",
       "      <td>189023.86</td>\n",
       "      <td>1.0</td>\n",
       "      <td>4.0</td>\n",
       "      <td>Test</td>\n",
       "    </tr>\n",
       "    <tr>\n",
       "      <th>2</th>\n",
       "      <td>9988021</td>\n",
       "      <td>580560515_7732621733</td>\n",
       "      <td>781255054_21935453173_531117</td>\n",
       "      <td>step_3</td>\n",
       "      <td>1492442362000000000</td>\n",
       "      <td>5.0</td>\n",
       "      <td>64.0</td>\n",
       "      <td>79.0</td>\n",
       "      <td>U</td>\n",
       "      <td>2.0</td>\n",
       "      <td>189023.86</td>\n",
       "      <td>1.0</td>\n",
       "      <td>4.0</td>\n",
       "      <td>Test</td>\n",
       "    </tr>\n",
       "    <tr>\n",
       "      <th>3</th>\n",
       "      <td>9988021</td>\n",
       "      <td>580560515_7732621733</td>\n",
       "      <td>781255054_21935453173_531117</td>\n",
       "      <td>step_2</td>\n",
       "      <td>1492442353000000000</td>\n",
       "      <td>5.0</td>\n",
       "      <td>64.0</td>\n",
       "      <td>79.0</td>\n",
       "      <td>U</td>\n",
       "      <td>2.0</td>\n",
       "      <td>189023.86</td>\n",
       "      <td>1.0</td>\n",
       "      <td>4.0</td>\n",
       "      <td>Test</td>\n",
       "    </tr>\n",
       "    <tr>\n",
       "      <th>4</th>\n",
       "      <td>9988021</td>\n",
       "      <td>580560515_7732621733</td>\n",
       "      <td>781255054_21935453173_531117</td>\n",
       "      <td>step_3</td>\n",
       "      <td>1492442284000000000</td>\n",
       "      <td>5.0</td>\n",
       "      <td>64.0</td>\n",
       "      <td>79.0</td>\n",
       "      <td>U</td>\n",
       "      <td>2.0</td>\n",
       "      <td>189023.86</td>\n",
       "      <td>1.0</td>\n",
       "      <td>4.0</td>\n",
       "      <td>Test</td>\n",
       "    </tr>\n",
       "    <tr>\n",
       "      <th>...</th>\n",
       "      <td>...</td>\n",
       "      <td>...</td>\n",
       "      <td>...</td>\n",
       "      <td>...</td>\n",
       "      <td>...</td>\n",
       "      <td>...</td>\n",
       "      <td>...</td>\n",
       "      <td>...</td>\n",
       "      <td>...</td>\n",
       "      <td>...</td>\n",
       "      <td>...</td>\n",
       "      <td>...</td>\n",
       "      <td>...</td>\n",
       "      <td>...</td>\n",
       "    </tr>\n",
       "    <tr>\n",
       "      <th>755400</th>\n",
       "      <td>9668240</td>\n",
       "      <td>388766751_9038881013</td>\n",
       "      <td>922267647_3096648104_968866</td>\n",
       "      <td>start</td>\n",
       "      <td>1495651570000000000</td>\n",
       "      <td>NaN</td>\n",
       "      <td>NaN</td>\n",
       "      <td>NaN</td>\n",
       "      <td>NaN</td>\n",
       "      <td>NaN</td>\n",
       "      <td>NaN</td>\n",
       "      <td>NaN</td>\n",
       "      <td>NaN</td>\n",
       "      <td>NaN</td>\n",
       "    </tr>\n",
       "    <tr>\n",
       "      <th>755401</th>\n",
       "      <td>9668240</td>\n",
       "      <td>388766751_9038881013</td>\n",
       "      <td>922267647_3096648104_968866</td>\n",
       "      <td>start</td>\n",
       "      <td>1495651529000000000</td>\n",
       "      <td>NaN</td>\n",
       "      <td>NaN</td>\n",
       "      <td>NaN</td>\n",
       "      <td>NaN</td>\n",
       "      <td>NaN</td>\n",
       "      <td>NaN</td>\n",
       "      <td>NaN</td>\n",
       "      <td>NaN</td>\n",
       "      <td>NaN</td>\n",
       "    </tr>\n",
       "    <tr>\n",
       "      <th>755402</th>\n",
       "      <td>9668240</td>\n",
       "      <td>388766751_9038881013</td>\n",
       "      <td>922267647_3096648104_968866</td>\n",
       "      <td>step_1</td>\n",
       "      <td>1495651491000000000</td>\n",
       "      <td>NaN</td>\n",
       "      <td>NaN</td>\n",
       "      <td>NaN</td>\n",
       "      <td>NaN</td>\n",
       "      <td>NaN</td>\n",
       "      <td>NaN</td>\n",
       "      <td>NaN</td>\n",
       "      <td>NaN</td>\n",
       "      <td>NaN</td>\n",
       "    </tr>\n",
       "    <tr>\n",
       "      <th>755403</th>\n",
       "      <td>9668240</td>\n",
       "      <td>388766751_9038881013</td>\n",
       "      <td>922267647_3096648104_968866</td>\n",
       "      <td>start</td>\n",
       "      <td>1495651474000000000</td>\n",
       "      <td>NaN</td>\n",
       "      <td>NaN</td>\n",
       "      <td>NaN</td>\n",
       "      <td>NaN</td>\n",
       "      <td>NaN</td>\n",
       "      <td>NaN</td>\n",
       "      <td>NaN</td>\n",
       "      <td>NaN</td>\n",
       "      <td>NaN</td>\n",
       "    </tr>\n",
       "    <tr>\n",
       "      <th>755404</th>\n",
       "      <td>674799</td>\n",
       "      <td>947159805_81558194550</td>\n",
       "      <td>86152093_47511127657_716022</td>\n",
       "      <td>start</td>\n",
       "      <td>1496492229000000000</td>\n",
       "      <td>NaN</td>\n",
       "      <td>NaN</td>\n",
       "      <td>NaN</td>\n",
       "      <td>NaN</td>\n",
       "      <td>NaN</td>\n",
       "      <td>NaN</td>\n",
       "      <td>NaN</td>\n",
       "      <td>NaN</td>\n",
       "      <td>NaN</td>\n",
       "    </tr>\n",
       "  </tbody>\n",
       "</table>\n",
       "<p>744641 rows × 14 columns</p>\n",
       "</div>"
      ],
      "text/plain": [
       "        client_id             visitor_id                      visit_id  \\\n",
       "0         9988021   580560515_7732621733  781255054_21935453173_531117   \n",
       "1         9988021   580560515_7732621733  781255054_21935453173_531117   \n",
       "2         9988021   580560515_7732621733  781255054_21935453173_531117   \n",
       "3         9988021   580560515_7732621733  781255054_21935453173_531117   \n",
       "4         9988021   580560515_7732621733  781255054_21935453173_531117   \n",
       "...           ...                    ...                           ...   \n",
       "755400    9668240   388766751_9038881013   922267647_3096648104_968866   \n",
       "755401    9668240   388766751_9038881013   922267647_3096648104_968866   \n",
       "755402    9668240   388766751_9038881013   922267647_3096648104_968866   \n",
       "755403    9668240   388766751_9038881013   922267647_3096648104_968866   \n",
       "755404     674799  947159805_81558194550   86152093_47511127657_716022   \n",
       "\n",
       "       process_step            date_time  clnt_tenure_yr  clnt_tenure_mnth  \\\n",
       "0            step_3  1492442827000000000             5.0              64.0   \n",
       "1            step_2  1492442811000000000             5.0              64.0   \n",
       "2            step_3  1492442362000000000             5.0              64.0   \n",
       "3            step_2  1492442353000000000             5.0              64.0   \n",
       "4            step_3  1492442284000000000             5.0              64.0   \n",
       "...             ...                  ...             ...               ...   \n",
       "755400        start  1495651570000000000             NaN               NaN   \n",
       "755401        start  1495651529000000000             NaN               NaN   \n",
       "755402       step_1  1495651491000000000             NaN               NaN   \n",
       "755403        start  1495651474000000000             NaN               NaN   \n",
       "755404        start  1496492229000000000             NaN               NaN   \n",
       "\n",
       "        clnt_age gendr  num_accts        bal  calls_6_mnth  logons_6_mnth  \\\n",
       "0           79.0     U        2.0  189023.86           1.0            4.0   \n",
       "1           79.0     U        2.0  189023.86           1.0            4.0   \n",
       "2           79.0     U        2.0  189023.86           1.0            4.0   \n",
       "3           79.0     U        2.0  189023.86           1.0            4.0   \n",
       "4           79.0     U        2.0  189023.86           1.0            4.0   \n",
       "...          ...   ...        ...        ...           ...            ...   \n",
       "755400       NaN   NaN        NaN        NaN           NaN            NaN   \n",
       "755401       NaN   NaN        NaN        NaN           NaN            NaN   \n",
       "755402       NaN   NaN        NaN        NaN           NaN            NaN   \n",
       "755403       NaN   NaN        NaN        NaN           NaN            NaN   \n",
       "755404       NaN   NaN        NaN        NaN           NaN            NaN   \n",
       "\n",
       "       Variation  \n",
       "0           Test  \n",
       "1           Test  \n",
       "2           Test  \n",
       "3           Test  \n",
       "4           Test  \n",
       "...          ...  \n",
       "755400       NaN  \n",
       "755401       NaN  \n",
       "755402       NaN  \n",
       "755403       NaN  \n",
       "755404       NaN  \n",
       "\n",
       "[744641 rows x 14 columns]"
      ]
     },
     "execution_count": 177,
     "metadata": {},
     "output_type": "execute_result"
    }
   ],
   "source": [
    "df_merged"
   ]
  },
  {
   "cell_type": "markdown",
   "metadata": {},
   "source": [
    "# Experiment Evaluation\n",
    "Assess Duration of the Experiment:\n",
    "\n",
    "Make sure to use the correct columns for the dates:"
   ]
  },
  {
   "cell_type": "code",
   "execution_count": 182,
   "metadata": {},
   "outputs": [
    {
     "name": "stdout",
     "output_type": "stream",
     "text": [
      "Experiment Duration: -1.489536183e+18\n"
     ]
    }
   ],
   "source": [
    "\n",
    "# Example: Assess the duration of the experiment\n",
    "experiment_duration = df_merged['logons_6_mnth'].max() - df_merged['date_time'].min()\n",
    "print(f\"Experiment Duration: {experiment_duration}\")"
   ]
  },
  {
   "cell_type": "markdown",
   "metadata": {},
   "source": [
    "# Confirming the Statistical Significance of Completion Rate Difference\n",
    "\n",
    "First, let's confirm the completion rates and then check if the difference between the new design (test group) and the old design (control group) is statistically significant.\n",
    "\n",
    "1. Completion Rate Difference:\n",
    "\n"
   ]
  },
  {
   "cell_type": "code",
   "execution_count": 191,
   "metadata": {},
   "outputs": [],
   "source": [
    "# Renaming the column if needed\n",
    "df_merged.rename(columns={'num_accts': 'design'}, inplace=True)\n",
    "df_merged.rename(columns={'bal': 'completed'}, inplace=True)\n"
   ]
  },
  {
   "cell_type": "code",
   "execution_count": 192,
   "metadata": {},
   "outputs": [
    {
     "name": "stdout",
     "output_type": "stream",
     "text": [
      "Control Group Completion Rate: nan\n",
      "Test Group Completion Rate: nan\n"
     ]
    },
    {
     "name": "stderr",
     "output_type": "stream",
     "text": [
      "C:\\Users\\User\\AppData\\Local\\Temp\\ipykernel_20500\\421035523.py:10: RuntimeWarning: invalid value encountered in double_scalars\n",
      "  control_completion_rate = control_successes / control_total\n",
      "C:\\Users\\User\\AppData\\Local\\Temp\\ipykernel_20500\\421035523.py:11: RuntimeWarning: invalid value encountered in double_scalars\n",
      "  test_completion_rate = test_successes / test_total\n"
     ]
    }
   ],
   "source": [
    "# Ensure 'design' column exists\n",
    "if 'design' in df_merged.columns:\n",
    "    # Calculate completion rate for each group\n",
    "    control_successes = df_merged[df_merged['design'] == 'control']['completed'].sum()\n",
    "    test_successes = df_merged[df_merged['design'] == 'test']['completed'].sum()\n",
    "\n",
    "    control_total = df_merged[df_merged['design'] == 'control'].shape[0]\n",
    "    test_total = df_merged[df_merged['design'] == 'test'].shape[0]\n",
    "\n",
    "    control_completion_rate = control_successes / control_total\n",
    "    test_completion_rate = test_successes / test_total\n",
    "\n",
    "    print(f\"Control Group Completion Rate: {control_completion_rate:.2f}\")\n",
    "    print(f\"Test Group Completion Rate: {test_completion_rate:.2f}\")\n",
    "else:\n",
    "    print(\"The 'design' column is not present in the DataFrame.\")\n"
   ]
  },
  {
   "cell_type": "code",
   "execution_count": 193,
   "metadata": {},
   "outputs": [
    {
     "name": "stdout",
     "output_type": "stream",
     "text": [
      "Z-statistic: nan, P-value: nan\n",
      "Control Group Completion Rate: nan\n",
      "Test Group Completion Rate: nan\n"
     ]
    },
    {
     "name": "stderr",
     "output_type": "stream",
     "text": [
      "C:\\Users\\User\\AppData\\Local\\Temp\\ipykernel_20500\\517374278.py:11: RuntimeWarning: invalid value encountered in double_scalars\n",
      "  control_rate = control_successes / control_total\n",
      "C:\\Users\\User\\AppData\\Local\\Temp\\ipykernel_20500\\517374278.py:12: RuntimeWarning: invalid value encountered in double_scalars\n",
      "  test_rate = test_successes / test_total\n",
      "c:\\Users\\User\\anaconda3\\anaconda 4\\lib\\site-packages\\statsmodels\\stats\\proportion.py:839: RuntimeWarning: invalid value encountered in true_divide\n",
      "  prop = count * 1. / nobs\n",
      "c:\\Users\\User\\anaconda3\\anaconda 4\\lib\\site-packages\\statsmodels\\stats\\proportion.py:853: RuntimeWarning: invalid value encountered in double_scalars\n",
      "  p_pooled = np.sum(count) * 1. / np.sum(nobs)\n",
      "c:\\Users\\User\\anaconda3\\anaconda 4\\lib\\site-packages\\statsmodels\\stats\\proportion.py:855: RuntimeWarning: divide by zero encountered in true_divide\n",
      "  nobs_fact = np.sum(1. / nobs)\n"
     ]
    }
   ],
   "source": [
    "from statsmodels.stats.proportion import proportions_ztest\n",
    "from scipy import stats\n",
    "\n",
    "# Calculate completion rate for each group\n",
    "control_successes = df_merged[df_merged['design'] == 'control']['completed'].sum()\n",
    "test_successes = df_merged[df_merged['design'] == 'test']['completed'].sum()\n",
    "control_total = df_merged[df_merged['design'] == 'control']['completed'].count()\n",
    "test_total = df_merged[df_merged['design'] == 'test']['completed'].count()\n",
    "\n",
    "# Calculate the completion rates\n",
    "control_rate = control_successes / control_total\n",
    "test_rate = test_successes / test_total\n",
    "\n",
    "# Two-proportion z-test for completion rates\n",
    "z_stat, p_value = proportions_ztest([control_successes, test_successes], [control_total, test_total])\n",
    "print(f\"Z-statistic: {z_stat}, P-value: {p_value}\")\n",
    "print(f\"Control Group Completion Rate: {control_rate}\")\n",
    "print(f\"Test Group Completion Rate: {test_rate}\")\n",
    "\n"
   ]
  },
  {
   "cell_type": "markdown",
   "metadata": {},
   "source": [
    "# Checking for a 5% Threshold\n",
    "Next, we check if the observed increase meets or exceeds the 5% threshold.\n",
    "\n",
    "2. Completion Rate with Cost-Effectiveness Threshold:"
   ]
  },
  {
   "cell_type": "code",
   "execution_count": 194,
   "metadata": {},
   "outputs": [
    {
     "name": "stdout",
     "output_type": "stream",
     "text": [
      "Z-statistic (threshold): nan, P-value (threshold): nan\n"
     ]
    },
    {
     "name": "stderr",
     "output_type": "stream",
     "text": [
      "C:\\Users\\User\\AppData\\Local\\Temp\\ipykernel_20500\\4185817260.py:3: RuntimeWarning: invalid value encountered in double_scalars\n",
      "  pooled_rate = (control_successes + test_successes) / (control_total + test_total)\n",
      "C:\\Users\\User\\AppData\\Local\\Temp\\ipykernel_20500\\4185817260.py:4: RuntimeWarning: divide by zero encountered in longlong_scalars\n",
      "  se = (pooled_rate * (1 - pooled_rate) * (1/control_total + 1/test_total))**0.5\n"
     ]
    }
   ],
   "source": [
    "# Test for completion rate with a cost-effectiveness threshold (5% increase)\n",
    "threshold = 0.05\n",
    "pooled_rate = (control_successes + test_successes) / (control_total + test_total)\n",
    "se = (pooled_rate * (1 - pooled_rate) * (1/control_total + 1/test_total))**0.5\n",
    "z_stat_threshold = (test_rate - control_rate - threshold) / se\n",
    "p_value_threshold = 1 - stats.norm.cdf(z_stat_threshold)\n",
    "print(f\"Z-statistic (threshold): {z_stat_threshold}, P-value (threshold): {p_value_threshold}\")\n"
   ]
  },
  {
   "cell_type": "markdown",
   "metadata": {},
   "source": [
    "# Another Hypothesis Test\n",
    "Let's test if the average age of clients engaging with the new process is the same as those engaging with the old process.\n",
    "\n",
    "Hypothesis Testing for Average Age:\n"
   ]
  },
  {
   "cell_type": "code",
   "execution_count": 197,
   "metadata": {},
   "outputs": [
    {
     "name": "stdout",
     "output_type": "stream",
     "text": [
      "T-statistic: nan, P-value: nan\n"
     ]
    }
   ],
   "source": [
    "# Two-sample t-test for average age\n",
    "control_age = df_merged[df_merged['design'] == 'control']['clnt_age']\n",
    "test_age = df_merged[df_merged['design'] == 'test']['clnt_age']\n",
    "t_stat, p_value_age = stats.ttest_ind(control_age, test_age)\n",
    "print(f\"T-statistic: {t_stat}, P-value: {p_value_age}\")\n"
   ]
  },
  {
   "cell_type": "markdown",
   "metadata": {},
   "source": [
    "# Experiment Evaluation\n",
    "Design Effectiveness:\n",
    "Assess if the experiment was well-structured:\n",
    "\n",
    "Were clients randomly and equally divided between the old and new designs?\n",
    "Check for biases."
   ]
  },
  {
   "cell_type": "code",
   "execution_count": 198,
   "metadata": {},
   "outputs": [
    {
     "name": "stdout",
     "output_type": "stream",
     "text": [
      "2.0    345780\n",
      "3.0     81270\n",
      "4.0     14551\n",
      "5.0      1888\n",
      "6.0       208\n",
      "7.0        60\n",
      "8.0         8\n",
      "1.0         7\n",
      "Name: design, dtype: int64\n"
     ]
    }
   ],
   "source": [
    "# Random division check\n",
    "print(df_merged['design'].value_counts())\n"
   ]
  },
  {
   "cell_type": "markdown",
   "metadata": {},
   "source": [
    "# Duration Assessment:\n",
    "Evaluate if the timeframe of the experiment was adequate to gather meaningful data and insights."
   ]
  },
  {
   "cell_type": "code",
   "execution_count": 203,
   "metadata": {},
   "outputs": [
    {
     "name": "stdout",
     "output_type": "stream",
     "text": [
      "Experiment Duration: -1.489536183e+18\n"
     ]
    }
   ],
   "source": [
    "# Example: Assess the duration of the experiment\n",
    "experiment_duration = df_merged['logons_6_mnth'].max() - df_merged['date_time'].min()\n",
    "print(f\"Experiment Duration: {experiment_duration}\")\n"
   ]
  },
  {
   "cell_type": "markdown",
   "metadata": {},
   "source": [
    "# Additional Data Needs:\n",
    "Identify additional data needs:\n",
    "\n",
    "User feedback on the new design.\n",
    "\n",
    "More granular interaction data.\n",
    "\n",
    "Detailed demographic data.\n"
   ]
  },
  {
   "cell_type": "code",
   "execution_count": 204,
   "metadata": {},
   "outputs": [
    {
     "name": "stdout",
     "output_type": "stream",
     "text": [
      "Additional Data Suggestions: ['User feedback on the new design', 'More granular interaction data (e.g., clickstream data)', 'Detailed demographic data (e.g., income, education level)']\n"
     ]
    }
   ],
   "source": [
    "# Suggest additional data\n",
    "additional_data_suggestions = [\n",
    "    \"User feedback on the new design\",\n",
    "    \"More granular interaction data (e.g., clickstream data)\",\n",
    "    \"Detailed demographic data (e.g., income, education level)\"\n",
    "]\n",
    "print(\"Additional Data Suggestions:\", additional_data_suggestions)\n"
   ]
  },
  {
   "cell_type": "code",
   "execution_count": 205,
   "metadata": {},
   "outputs": [
    {
     "name": "stdout",
     "output_type": "stream",
     "text": [
      "clean.csv saved to CSV successfully.\n"
     ]
    }
   ],
   "source": [
    "\n",
    "# Save df_merged to CSV\n",
    "df_merged.to_csv('clean.csv', index=False)\n",
    "print(\"clean.csv saved to CSV successfully.\")\n"
   ]
  },
  {
   "cell_type": "markdown",
   "metadata": {},
   "source": []
  },
  {
   "cell_type": "code",
   "execution_count": null,
   "metadata": {},
   "outputs": [],
   "source": []
  }
 ],
 "metadata": {
  "kernelspec": {
   "display_name": "Python 3",
   "language": "python",
   "name": "python3"
  },
  "language_info": {
   "codemirror_mode": {
    "name": "ipython",
    "version": 3
   },
   "file_extension": ".py",
   "mimetype": "text/x-python",
   "name": "python",
   "nbconvert_exporter": "python",
   "pygments_lexer": "ipython3",
   "version": "3.9.13"
  }
 },
 "nbformat": 4,
 "nbformat_minor": 2
}
