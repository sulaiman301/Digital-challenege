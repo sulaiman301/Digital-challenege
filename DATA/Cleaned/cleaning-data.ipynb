{
 "cells": [
  {
   "cell_type": "code",
   "execution_count": 33,
   "metadata": {},
   "outputs": [],
   "source": [
    "import pandas as pd\n",
    "import seaborn as sns"
   ]
  },
  {
   "cell_type": "markdown",
   "metadata": {},
   "source": [
    "## Load and Explore the Datasets"
   ]
  },
  {
   "cell_type": "code",
   "execution_count": 7,
   "metadata": {},
   "outputs": [],
   "source": [
    "#Digital footprints # Read data\n",
    "\n",
    "file_final_demo =r'C:\\Users\\User\\Documents\\IRON HACK DA 2024\\Project Digital Challenge\\New folder\\Digital-challenege\\DATA\\raw\\df_final_demo.txt'\n",
    "file_experiment_clients =r'C:\\Users\\User\\Documents\\IRON HACK DA 2024\\Project Digital Challenge\\New folder\\Digital-challenege\\DATA\\raw\\df_final_experiment_clients.txt'\n",
    "\n"
   ]
  },
  {
   "cell_type": "code",
   "execution_count": 8,
   "metadata": {},
   "outputs": [],
   "source": [
    "file_path_1= r'C:\\Users\\User\\Documents\\IRON HACK DA 2024\\Project Digital Challenge\\New folder\\Digital-challenege\\DATA\\raw\\df_final_web_data_pt_1.txt'\n",
    "file_path_2= r'C:\\Users\\User\\Documents\\IRON HACK DA 2024\\Project Digital Challenge\\New folder\\Digital-challenege\\DATA\\raw\\df_final_web_data_pt_2.txt'\n"
   ]
  },
  {
   "cell_type": "markdown",
   "metadata": {},
   "source": [
    "Inspect the datasets:   Check for missing values, data types, and basic statistics."
   ]
  },
  {
   "cell_type": "code",
   "execution_count": 10,
   "metadata": {},
   "outputs": [],
   "source": [
    "df_final_demo = pd.read_csv(file_final_demo, sep=\"\\t\")\n",
    "df_final_experiment_clients= pd.read_csv(file_experiment_clients, sep=\"\\t\")"
   ]
  },
  {
   "cell_type": "markdown",
   "metadata": {},
   "source": [
    "Merge Digital Footprints.\n",
    "\n",
    "Combine the two parts of the digital footprints dataset."
   ]
  },
  {
   "cell_type": "code",
   "execution_count": 11,
   "metadata": {},
   "outputs": [],
   "source": [
    "df1=pd.read_csv(r\"C:\\Users\\User\\Documents\\IRON HACK DA 2024\\Project Digital Challenge\\New folder\\Digital-challenege\\DATA\\raw\\df_final_web_data_pt_1.txt\")\n",
    "df2=pd.read_csv(r\"C:\\Users\\User\\Documents\\IRON HACK DA 2024\\Project Digital Challenge\\New folder\\Digital-challenege\\DATA\\raw\\df_final_web_data_pt_2.txt\")"
   ]
  },
  {
   "cell_type": "code",
   "execution_count": 12,
   "metadata": {},
   "outputs": [],
   "source": [
    "#combined the data\n",
    "df_combined = pd.concat([df1, df2])"
   ]
  },
  {
   "cell_type": "code",
   "execution_count": 13,
   "metadata": {},
   "outputs": [
    {
     "data": {
      "text/html": [
       "<div>\n",
       "<style scoped>\n",
       "    .dataframe tbody tr th:only-of-type {\n",
       "        vertical-align: middle;\n",
       "    }\n",
       "\n",
       "    .dataframe tbody tr th {\n",
       "        vertical-align: top;\n",
       "    }\n",
       "\n",
       "    .dataframe thead th {\n",
       "        text-align: right;\n",
       "    }\n",
       "</style>\n",
       "<table border=\"1\" class=\"dataframe\">\n",
       "  <thead>\n",
       "    <tr style=\"text-align: right;\">\n",
       "      <th></th>\n",
       "      <th>client_id</th>\n",
       "      <th>visitor_id</th>\n",
       "      <th>visit_id</th>\n",
       "      <th>process_step</th>\n",
       "      <th>date_time</th>\n",
       "    </tr>\n",
       "  </thead>\n",
       "  <tbody>\n",
       "    <tr>\n",
       "      <th>0</th>\n",
       "      <td>9988021</td>\n",
       "      <td>580560515_7732621733</td>\n",
       "      <td>781255054_21935453173_531117</td>\n",
       "      <td>step_3</td>\n",
       "      <td>2017-04-17 15:27:07</td>\n",
       "    </tr>\n",
       "    <tr>\n",
       "      <th>1</th>\n",
       "      <td>9988021</td>\n",
       "      <td>580560515_7732621733</td>\n",
       "      <td>781255054_21935453173_531117</td>\n",
       "      <td>step_2</td>\n",
       "      <td>2017-04-17 15:26:51</td>\n",
       "    </tr>\n",
       "    <tr>\n",
       "      <th>2</th>\n",
       "      <td>9988021</td>\n",
       "      <td>580560515_7732621733</td>\n",
       "      <td>781255054_21935453173_531117</td>\n",
       "      <td>step_3</td>\n",
       "      <td>2017-04-17 15:19:22</td>\n",
       "    </tr>\n",
       "    <tr>\n",
       "      <th>3</th>\n",
       "      <td>9988021</td>\n",
       "      <td>580560515_7732621733</td>\n",
       "      <td>781255054_21935453173_531117</td>\n",
       "      <td>step_2</td>\n",
       "      <td>2017-04-17 15:19:13</td>\n",
       "    </tr>\n",
       "    <tr>\n",
       "      <th>4</th>\n",
       "      <td>9988021</td>\n",
       "      <td>580560515_7732621733</td>\n",
       "      <td>781255054_21935453173_531117</td>\n",
       "      <td>step_3</td>\n",
       "      <td>2017-04-17 15:18:04</td>\n",
       "    </tr>\n",
       "    <tr>\n",
       "      <th>...</th>\n",
       "      <td>...</td>\n",
       "      <td>...</td>\n",
       "      <td>...</td>\n",
       "      <td>...</td>\n",
       "      <td>...</td>\n",
       "    </tr>\n",
       "    <tr>\n",
       "      <th>412259</th>\n",
       "      <td>9668240</td>\n",
       "      <td>388766751_9038881013</td>\n",
       "      <td>922267647_3096648104_968866</td>\n",
       "      <td>start</td>\n",
       "      <td>2017-05-24 18:46:10</td>\n",
       "    </tr>\n",
       "    <tr>\n",
       "      <th>412260</th>\n",
       "      <td>9668240</td>\n",
       "      <td>388766751_9038881013</td>\n",
       "      <td>922267647_3096648104_968866</td>\n",
       "      <td>start</td>\n",
       "      <td>2017-05-24 18:45:29</td>\n",
       "    </tr>\n",
       "    <tr>\n",
       "      <th>412261</th>\n",
       "      <td>9668240</td>\n",
       "      <td>388766751_9038881013</td>\n",
       "      <td>922267647_3096648104_968866</td>\n",
       "      <td>step_1</td>\n",
       "      <td>2017-05-24 18:44:51</td>\n",
       "    </tr>\n",
       "    <tr>\n",
       "      <th>412262</th>\n",
       "      <td>9668240</td>\n",
       "      <td>388766751_9038881013</td>\n",
       "      <td>922267647_3096648104_968866</td>\n",
       "      <td>start</td>\n",
       "      <td>2017-05-24 18:44:34</td>\n",
       "    </tr>\n",
       "    <tr>\n",
       "      <th>412263</th>\n",
       "      <td>674799</td>\n",
       "      <td>947159805_81558194550</td>\n",
       "      <td>86152093_47511127657_716022</td>\n",
       "      <td>start</td>\n",
       "      <td>2017-06-03 12:17:09</td>\n",
       "    </tr>\n",
       "  </tbody>\n",
       "</table>\n",
       "<p>755405 rows × 5 columns</p>\n",
       "</div>"
      ],
      "text/plain": [
       "        client_id             visitor_id                      visit_id  \\\n",
       "0         9988021   580560515_7732621733  781255054_21935453173_531117   \n",
       "1         9988021   580560515_7732621733  781255054_21935453173_531117   \n",
       "2         9988021   580560515_7732621733  781255054_21935453173_531117   \n",
       "3         9988021   580560515_7732621733  781255054_21935453173_531117   \n",
       "4         9988021   580560515_7732621733  781255054_21935453173_531117   \n",
       "...           ...                    ...                           ...   \n",
       "412259    9668240   388766751_9038881013   922267647_3096648104_968866   \n",
       "412260    9668240   388766751_9038881013   922267647_3096648104_968866   \n",
       "412261    9668240   388766751_9038881013   922267647_3096648104_968866   \n",
       "412262    9668240   388766751_9038881013   922267647_3096648104_968866   \n",
       "412263     674799  947159805_81558194550   86152093_47511127657_716022   \n",
       "\n",
       "       process_step            date_time  \n",
       "0            step_3  2017-04-17 15:27:07  \n",
       "1            step_2  2017-04-17 15:26:51  \n",
       "2            step_3  2017-04-17 15:19:22  \n",
       "3            step_2  2017-04-17 15:19:13  \n",
       "4            step_3  2017-04-17 15:18:04  \n",
       "...             ...                  ...  \n",
       "412259        start  2017-05-24 18:46:10  \n",
       "412260        start  2017-05-24 18:45:29  \n",
       "412261       step_1  2017-05-24 18:44:51  \n",
       "412262        start  2017-05-24 18:44:34  \n",
       "412263        start  2017-06-03 12:17:09  \n",
       "\n",
       "[755405 rows x 5 columns]"
      ]
     },
     "execution_count": 13,
     "metadata": {},
     "output_type": "execute_result"
    }
   ],
   "source": [
    "df_combined"
   ]
  },
  {
   "cell_type": "markdown",
   "metadata": {},
   "source": [
    " ## Exploring the data & Clean the Data\n",
    "Handle missing values, outliers, and any inconsistencies in the data."
   ]
  },
  {
   "cell_type": "code",
   "execution_count": 18,
   "metadata": {},
   "outputs": [
    {
     "data": {
      "text/html": [
       "<div>\n",
       "<style scoped>\n",
       "    .dataframe tbody tr th:only-of-type {\n",
       "        vertical-align: middle;\n",
       "    }\n",
       "\n",
       "    .dataframe tbody tr th {\n",
       "        vertical-align: top;\n",
       "    }\n",
       "\n",
       "    .dataframe thead th {\n",
       "        text-align: right;\n",
       "    }\n",
       "</style>\n",
       "<table border=\"1\" class=\"dataframe\">\n",
       "  <thead>\n",
       "    <tr style=\"text-align: right;\">\n",
       "      <th></th>\n",
       "      <th>client_id,clnt_tenure_yr,clnt_tenure_mnth,clnt_age,gendr,num_accts,bal,calls_6_mnth,logons_6_mnth</th>\n",
       "    </tr>\n",
       "  </thead>\n",
       "  <tbody>\n",
       "    <tr>\n",
       "      <th>0</th>\n",
       "      <td>836976,6.0,73.0,60.5,U,2.0,45105.3,6.0,9.0</td>\n",
       "    </tr>\n",
       "    <tr>\n",
       "      <th>1</th>\n",
       "      <td>2304905,7.0,94.0,58.0,U,2.0,110860.3,6.0,9.0</td>\n",
       "    </tr>\n",
       "    <tr>\n",
       "      <th>2</th>\n",
       "      <td>1439522,5.0,64.0,32.0,U,2.0,52467.78999999999,...</td>\n",
       "    </tr>\n",
       "    <tr>\n",
       "      <th>3</th>\n",
       "      <td>1562045,16.0,198.0,49.0,M,2.0,67454.65,3.0,6.0</td>\n",
       "    </tr>\n",
       "    <tr>\n",
       "      <th>4</th>\n",
       "      <td>5126305,12.0,145.0,33.0,F,2.0,103671.75,0.0,3.0</td>\n",
       "    </tr>\n",
       "  </tbody>\n",
       "</table>\n",
       "</div>"
      ],
      "text/plain": [
       "  client_id,clnt_tenure_yr,clnt_tenure_mnth,clnt_age,gendr,num_accts,bal,calls_6_mnth,logons_6_mnth\n",
       "0         836976,6.0,73.0,60.5,U,2.0,45105.3,6.0,9.0                                               \n",
       "1       2304905,7.0,94.0,58.0,U,2.0,110860.3,6.0,9.0                                               \n",
       "2  1439522,5.0,64.0,32.0,U,2.0,52467.78999999999,...                                               \n",
       "3     1562045,16.0,198.0,49.0,M,2.0,67454.65,3.0,6.0                                               \n",
       "4    5126305,12.0,145.0,33.0,F,2.0,103671.75,0.0,3.0                                               "
      ]
     },
     "execution_count": 18,
     "metadata": {},
     "output_type": "execute_result"
    }
   ],
   "source": [
    "df_final_demo.head()"
   ]
  },
  {
   "cell_type": "code",
   "execution_count": 17,
   "metadata": {},
   "outputs": [
    {
     "data": {
      "text/html": [
       "<div>\n",
       "<style scoped>\n",
       "    .dataframe tbody tr th:only-of-type {\n",
       "        vertical-align: middle;\n",
       "    }\n",
       "\n",
       "    .dataframe tbody tr th {\n",
       "        vertical-align: top;\n",
       "    }\n",
       "\n",
       "    .dataframe thead th {\n",
       "        text-align: right;\n",
       "    }\n",
       "</style>\n",
       "<table border=\"1\" class=\"dataframe\">\n",
       "  <thead>\n",
       "    <tr style=\"text-align: right;\">\n",
       "      <th></th>\n",
       "      <th>client_id,Variation</th>\n",
       "    </tr>\n",
       "  </thead>\n",
       "  <tbody>\n",
       "    <tr>\n",
       "      <th>0</th>\n",
       "      <td>9988021,Test</td>\n",
       "    </tr>\n",
       "    <tr>\n",
       "      <th>1</th>\n",
       "      <td>8320017,Test</td>\n",
       "    </tr>\n",
       "    <tr>\n",
       "      <th>2</th>\n",
       "      <td>4033851,Control</td>\n",
       "    </tr>\n",
       "    <tr>\n",
       "      <th>3</th>\n",
       "      <td>1982004,Test</td>\n",
       "    </tr>\n",
       "    <tr>\n",
       "      <th>4</th>\n",
       "      <td>9294070,Control</td>\n",
       "    </tr>\n",
       "  </tbody>\n",
       "</table>\n",
       "</div>"
      ],
      "text/plain": [
       "  client_id,Variation\n",
       "0        9988021,Test\n",
       "1        8320017,Test\n",
       "2     4033851,Control\n",
       "3        1982004,Test\n",
       "4     9294070,Control"
      ]
     },
     "execution_count": 17,
     "metadata": {},
     "output_type": "execute_result"
    }
   ],
   "source": [
    "df_final_experiment_clients.head()"
   ]
  },
  {
   "cell_type": "code",
   "execution_count": 16,
   "metadata": {},
   "outputs": [
    {
     "data": {
      "text/html": [
       "<div>\n",
       "<style scoped>\n",
       "    .dataframe tbody tr th:only-of-type {\n",
       "        vertical-align: middle;\n",
       "    }\n",
       "\n",
       "    .dataframe tbody tr th {\n",
       "        vertical-align: top;\n",
       "    }\n",
       "\n",
       "    .dataframe thead th {\n",
       "        text-align: right;\n",
       "    }\n",
       "</style>\n",
       "<table border=\"1\" class=\"dataframe\">\n",
       "  <thead>\n",
       "    <tr style=\"text-align: right;\">\n",
       "      <th></th>\n",
       "      <th>client_id</th>\n",
       "      <th>visitor_id</th>\n",
       "      <th>visit_id</th>\n",
       "      <th>process_step</th>\n",
       "      <th>date_time</th>\n",
       "    </tr>\n",
       "  </thead>\n",
       "  <tbody>\n",
       "    <tr>\n",
       "      <th>0</th>\n",
       "      <td>9988021</td>\n",
       "      <td>580560515_7732621733</td>\n",
       "      <td>781255054_21935453173_531117</td>\n",
       "      <td>step_3</td>\n",
       "      <td>2017-04-17 15:27:07</td>\n",
       "    </tr>\n",
       "    <tr>\n",
       "      <th>1</th>\n",
       "      <td>9988021</td>\n",
       "      <td>580560515_7732621733</td>\n",
       "      <td>781255054_21935453173_531117</td>\n",
       "      <td>step_2</td>\n",
       "      <td>2017-04-17 15:26:51</td>\n",
       "    </tr>\n",
       "    <tr>\n",
       "      <th>2</th>\n",
       "      <td>9988021</td>\n",
       "      <td>580560515_7732621733</td>\n",
       "      <td>781255054_21935453173_531117</td>\n",
       "      <td>step_3</td>\n",
       "      <td>2017-04-17 15:19:22</td>\n",
       "    </tr>\n",
       "    <tr>\n",
       "      <th>3</th>\n",
       "      <td>9988021</td>\n",
       "      <td>580560515_7732621733</td>\n",
       "      <td>781255054_21935453173_531117</td>\n",
       "      <td>step_2</td>\n",
       "      <td>2017-04-17 15:19:13</td>\n",
       "    </tr>\n",
       "    <tr>\n",
       "      <th>4</th>\n",
       "      <td>9988021</td>\n",
       "      <td>580560515_7732621733</td>\n",
       "      <td>781255054_21935453173_531117</td>\n",
       "      <td>step_3</td>\n",
       "      <td>2017-04-17 15:18:04</td>\n",
       "    </tr>\n",
       "  </tbody>\n",
       "</table>\n",
       "</div>"
      ],
      "text/plain": [
       "   client_id            visitor_id                      visit_id process_step  \\\n",
       "0    9988021  580560515_7732621733  781255054_21935453173_531117       step_3   \n",
       "1    9988021  580560515_7732621733  781255054_21935453173_531117       step_2   \n",
       "2    9988021  580560515_7732621733  781255054_21935453173_531117       step_3   \n",
       "3    9988021  580560515_7732621733  781255054_21935453173_531117       step_2   \n",
       "4    9988021  580560515_7732621733  781255054_21935453173_531117       step_3   \n",
       "\n",
       "             date_time  \n",
       "0  2017-04-17 15:27:07  \n",
       "1  2017-04-17 15:26:51  \n",
       "2  2017-04-17 15:19:22  \n",
       "3  2017-04-17 15:19:13  \n",
       "4  2017-04-17 15:18:04  "
      ]
     },
     "execution_count": 16,
     "metadata": {},
     "output_type": "execute_result"
    }
   ],
   "source": [
    "df_combined.head()"
   ]
  },
  {
   "cell_type": "code",
   "execution_count": 19,
   "metadata": {},
   "outputs": [
    {
     "name": "stdout",
     "output_type": "stream",
     "text": [
      "client_id,clnt_tenure_yr,clnt_tenure_mnth,clnt_age,gendr,num_accts,bal,calls_6_mnth,logons_6_mnth    0\n",
      "dtype: int64\n",
      "client_id       0\n",
      "visitor_id      0\n",
      "visit_id        0\n",
      "process_step    0\n",
      "date_time       0\n",
      "dtype: int64\n",
      "client_id,Variation    0\n",
      "dtype: int64\n"
     ]
    }
   ],
   "source": [
    "# Check for missing values\n",
    "print(df_final_demo.isnull().sum())\n",
    "print(df_combined.isnull().sum())\n",
    "print(df_final_experiment_clients.isnull().sum())"
   ]
  },
  {
   "cell_type": "code",
   "execution_count": 20,
   "metadata": {},
   "outputs": [],
   "source": [
    "# Handle missing values (e.g., fill, drop, or impute)\n",
    "df_demo = df_final_demo.dropna()  # Example: drop rows with missing values\n",
    "df_web_data = df_combined.fillna(method='ffill')  # Example: forward fill missing values\n",
    "df_experiment = df_final_experiment_clients.dropna()  # Example: drop rows with missing values"
   ]
  },
  {
   "cell_type": "code",
   "execution_count": 21,
   "metadata": {},
   "outputs": [
    {
     "name": "stdout",
     "output_type": "stream",
     "text": [
      "0\n",
      "10764\n",
      "0\n"
     ]
    }
   ],
   "source": [
    "# Check for duplicates\n",
    "print(df_final_demo.duplicated().sum())\n",
    "print(df_combined.duplicated().sum())\n",
    "print(df_final_experiment_clients.duplicated().sum())"
   ]
  },
  {
   "cell_type": "code",
   "execution_count": 25,
   "metadata": {},
   "outputs": [],
   "source": [
    "\n",
    "# Remove duplicates if any\n",
    "df_demo = df_final_demo.drop_duplicates()\n",
    "df_web_data = df_combined.drop_duplicates()\n",
    "df_experiment = df_final_experiment_clients.drop_duplicates()"
   ]
  },
  {
   "cell_type": "code",
   "execution_count": 26,
   "metadata": {},
   "outputs": [],
   "source": [
    "import matplotlib.pyplot as plt"
   ]
  },
  {
   "cell_type": "markdown",
   "metadata": {},
   "source": [
    "## Basic statistics"
   ]
  },
  {
   "cell_type": "code",
   "execution_count": 46,
   "metadata": {},
   "outputs": [
    {
     "name": "stdout",
     "output_type": "stream",
     "text": [
      "       client_id,clnt_tenure_yr,clnt_tenure_mnth,clnt_age,gendr,num_accts,bal,calls_6_mnth,logons_6_mnth\n",
      "count                                               70609                                               \n",
      "unique                                              70609                                               \n",
      "top            836976,6.0,73.0,60.5,U,2.0,45105.3,6.0,9.0                                               \n",
      "freq                                                    1                                               \n"
     ]
    }
   ],
   "source": [
    "print(df_demo.describe())"
   ]
  },
  {
   "cell_type": "code",
   "execution_count": 47,
   "metadata": {},
   "outputs": [
    {
     "name": "stdout",
     "output_type": "stream",
     "text": [
      "          client_id\n",
      "count  7.446410e+05\n",
      "mean   5.014059e+06\n",
      "std    2.879588e+06\n",
      "min    1.690000e+02\n",
      "25%    2.521851e+06\n",
      "50%    5.031965e+06\n",
      "75%    7.497388e+06\n",
      "max    9.999875e+06\n"
     ]
    }
   ],
   "source": [
    "print(df_web_data.describe())"
   ]
  },
  {
   "cell_type": "code",
   "execution_count": 48,
   "metadata": {},
   "outputs": [
    {
     "name": "stdout",
     "output_type": "stream",
     "text": [
      "       client_id,Variation\n",
      "count                70609\n",
      "unique               70609\n",
      "top           9988021,Test\n",
      "freq                     1\n"
     ]
    }
   ],
   "source": [
    "print(df_experiment.describe())"
   ]
  },
  {
   "cell_type": "code",
   "execution_count": 49,
   "metadata": {},
   "outputs": [
    {
     "name": "stdout",
     "output_type": "stream",
     "text": [
      "Index(['client_id,clnt_tenure_yr,clnt_tenure_mnth,clnt_age,gendr,num_accts,bal,calls_6_mnth,logons_6_mnth'], dtype='object')\n"
     ]
    }
   ],
   "source": [
    "print(df_demo.columns)\n"
   ]
  },
  {
   "cell_type": "code",
   "execution_count": 50,
   "metadata": {},
   "outputs": [
    {
     "name": "stdout",
     "output_type": "stream",
     "text": [
      "Index(['client_id,clnt_tenure_yr,clnt_tenure_mnth,clnt_age,gendr,num_accts,bal,calls_6_mnth,logons_6_mnth'], dtype='object')\n"
     ]
    }
   ],
   "source": [
    "print(df_demo.columns)\n"
   ]
  },
  {
   "cell_type": "code",
   "execution_count": 51,
   "metadata": {},
   "outputs": [
    {
     "name": "stdout",
     "output_type": "stream",
     "text": [
      "Column Names: Index(['client_id,clnt_tenure_yr,clnt_tenure_mnth,clnt_age,gendr,num_accts,bal,calls_6_mnth,logons_6_mnth'], dtype='object')\n"
     ]
    }
   ],
   "source": [
    "# Verify column names\n",
    "print(\"Column Names:\", df_final_demo.columns)"
   ]
  },
  {
   "cell_type": "code",
   "execution_count": 54,
   "metadata": {},
   "outputs": [
    {
     "name": "stdout",
     "output_type": "stream",
     "text": [
      "First Few Rows:\n",
      "  client_id,clnt_tenure_yr,clnt_tenure_mnth,clnt_age,gendr,num_accts,bal,calls_6_mnth,logons_6_mnth\n",
      "0         836976,6.0,73.0,60.5,U,2.0,45105.3,6.0,9.0                                               \n",
      "1       2304905,7.0,94.0,58.0,U,2.0,110860.3,6.0,9.0                                               \n",
      "2  1439522,5.0,64.0,32.0,U,2.0,52467.78999999999,...                                               \n",
      "3     1562045,16.0,198.0,49.0,M,2.0,67454.65,3.0,6.0                                               \n",
      "4    5126305,12.0,145.0,33.0,F,2.0,103671.75,0.0,3.0                                               \n"
     ]
    }
   ],
   "source": [
    "# Inspect the first few rows\n",
    "print(\"First Few Rows:\")\n",
    "print(df_final_demo.head())"
   ]
  },
  {
   "cell_type": "code",
   "execution_count": 53,
   "metadata": {},
   "outputs": [
    {
     "name": "stdout",
     "output_type": "stream",
     "text": [
      "The 'clnt_age' column does not exist in the DataFrame.\n"
     ]
    }
   ],
   "source": [
    "\n",
    "# Check for the presence of the 'clnt_age' column and plot\n",
    "if 'clnt_age' in df_final_demo.columns:\n",
    "    sns.histplot(df_final_demo['clnt_age'], kde=True)\n",
    "    plt.title('Age Distribution of Clients')\n",
    "    plt.xlabel('Age')\n",
    "    plt.ylabel('Frequency')\n",
    "    plt.show()\n",
    "else:\n",
    "    print(\"The 'clnt_age' column does not exist in the DataFrame.\")"
   ]
  },
  {
   "cell_type": "code",
   "execution_count": 61,
   "metadata": {},
   "outputs": [
    {
     "ename": "ValueError",
     "evalue": "Could not interpret input 'gender'",
     "output_type": "error",
     "traceback": [
      "\u001b[1;31m---------------------------------------------------------------------------\u001b[0m",
      "\u001b[1;31mValueError\u001b[0m                                Traceback (most recent call last)",
      "\u001b[1;32m~\\AppData\\Local\\Temp\\ipykernel_15132\\3081462386.py\u001b[0m in \u001b[0;36m<module>\u001b[1;34m\u001b[0m\n\u001b[0;32m      1\u001b[0m \u001b[1;31m# Gender distribution\u001b[0m\u001b[1;33m\u001b[0m\u001b[1;33m\u001b[0m\u001b[0m\n\u001b[1;32m----> 2\u001b[1;33m \u001b[0msns\u001b[0m\u001b[1;33m.\u001b[0m\u001b[0mcountplot\u001b[0m\u001b[1;33m(\u001b[0m\u001b[0mx\u001b[0m\u001b[1;33m=\u001b[0m\u001b[1;34m'gender'\u001b[0m\u001b[1;33m,\u001b[0m \u001b[0mdata\u001b[0m\u001b[1;33m=\u001b[0m\u001b[0mdf_demo\u001b[0m\u001b[1;33m)\u001b[0m\u001b[1;33m\u001b[0m\u001b[1;33m\u001b[0m\u001b[0m\n\u001b[0m\u001b[0;32m      3\u001b[0m \u001b[0mplt\u001b[0m\u001b[1;33m.\u001b[0m\u001b[0mtitle\u001b[0m\u001b[1;33m(\u001b[0m\u001b[1;34m'Gender Distribution of Clients'\u001b[0m\u001b[1;33m)\u001b[0m\u001b[1;33m\u001b[0m\u001b[1;33m\u001b[0m\u001b[0m\n\u001b[0;32m      4\u001b[0m \u001b[0mplt\u001b[0m\u001b[1;33m.\u001b[0m\u001b[0mxlabel\u001b[0m\u001b[1;33m(\u001b[0m\u001b[1;34m'Gender'\u001b[0m\u001b[1;33m)\u001b[0m\u001b[1;33m\u001b[0m\u001b[1;33m\u001b[0m\u001b[0m\n\u001b[0;32m      5\u001b[0m \u001b[0mplt\u001b[0m\u001b[1;33m.\u001b[0m\u001b[0mylabel\u001b[0m\u001b[1;33m(\u001b[0m\u001b[1;34m'Count'\u001b[0m\u001b[1;33m)\u001b[0m\u001b[1;33m\u001b[0m\u001b[1;33m\u001b[0m\u001b[0m\n",
      "\u001b[1;32mc:\\Users\\User\\anaconda3\\anaconda 4\\lib\\site-packages\\seaborn\\_decorators.py\u001b[0m in \u001b[0;36minner_f\u001b[1;34m(*args, **kwargs)\u001b[0m\n\u001b[0;32m     44\u001b[0m             )\n\u001b[0;32m     45\u001b[0m         \u001b[0mkwargs\u001b[0m\u001b[1;33m.\u001b[0m\u001b[0mupdate\u001b[0m\u001b[1;33m(\u001b[0m\u001b[1;33m{\u001b[0m\u001b[0mk\u001b[0m\u001b[1;33m:\u001b[0m \u001b[0marg\u001b[0m \u001b[1;32mfor\u001b[0m \u001b[0mk\u001b[0m\u001b[1;33m,\u001b[0m \u001b[0marg\u001b[0m \u001b[1;32min\u001b[0m \u001b[0mzip\u001b[0m\u001b[1;33m(\u001b[0m\u001b[0msig\u001b[0m\u001b[1;33m.\u001b[0m\u001b[0mparameters\u001b[0m\u001b[1;33m,\u001b[0m \u001b[0margs\u001b[0m\u001b[1;33m)\u001b[0m\u001b[1;33m}\u001b[0m\u001b[1;33m)\u001b[0m\u001b[1;33m\u001b[0m\u001b[1;33m\u001b[0m\u001b[0m\n\u001b[1;32m---> 46\u001b[1;33m         \u001b[1;32mreturn\u001b[0m \u001b[0mf\u001b[0m\u001b[1;33m(\u001b[0m\u001b[1;33m**\u001b[0m\u001b[0mkwargs\u001b[0m\u001b[1;33m)\u001b[0m\u001b[1;33m\u001b[0m\u001b[1;33m\u001b[0m\u001b[0m\n\u001b[0m\u001b[0;32m     47\u001b[0m     \u001b[1;32mreturn\u001b[0m \u001b[0minner_f\u001b[0m\u001b[1;33m\u001b[0m\u001b[1;33m\u001b[0m\u001b[0m\n\u001b[0;32m     48\u001b[0m \u001b[1;33m\u001b[0m\u001b[0m\n",
      "\u001b[1;32mc:\\Users\\User\\anaconda3\\anaconda 4\\lib\\site-packages\\seaborn\\categorical.py\u001b[0m in \u001b[0;36mcountplot\u001b[1;34m(x, y, hue, data, order, hue_order, orient, color, palette, saturation, dodge, ax, **kwargs)\u001b[0m\n\u001b[0;32m   3596\u001b[0m         \u001b[1;32mraise\u001b[0m \u001b[0mValueError\u001b[0m\u001b[1;33m(\u001b[0m\u001b[1;34m\"Cannot pass values for both `x` and `y`\"\u001b[0m\u001b[1;33m)\u001b[0m\u001b[1;33m\u001b[0m\u001b[1;33m\u001b[0m\u001b[0m\n\u001b[0;32m   3597\u001b[0m \u001b[1;33m\u001b[0m\u001b[0m\n\u001b[1;32m-> 3598\u001b[1;33m     plotter = _CountPlotter(\n\u001b[0m\u001b[0;32m   3599\u001b[0m         \u001b[0mx\u001b[0m\u001b[1;33m,\u001b[0m \u001b[0my\u001b[0m\u001b[1;33m,\u001b[0m \u001b[0mhue\u001b[0m\u001b[1;33m,\u001b[0m \u001b[0mdata\u001b[0m\u001b[1;33m,\u001b[0m \u001b[0morder\u001b[0m\u001b[1;33m,\u001b[0m \u001b[0mhue_order\u001b[0m\u001b[1;33m,\u001b[0m\u001b[1;33m\u001b[0m\u001b[1;33m\u001b[0m\u001b[0m\n\u001b[0;32m   3600\u001b[0m         \u001b[0mestimator\u001b[0m\u001b[1;33m,\u001b[0m \u001b[0mci\u001b[0m\u001b[1;33m,\u001b[0m \u001b[0mn_boot\u001b[0m\u001b[1;33m,\u001b[0m \u001b[0munits\u001b[0m\u001b[1;33m,\u001b[0m \u001b[0mseed\u001b[0m\u001b[1;33m,\u001b[0m\u001b[1;33m\u001b[0m\u001b[1;33m\u001b[0m\u001b[0m\n",
      "\u001b[1;32mc:\\Users\\User\\anaconda3\\anaconda 4\\lib\\site-packages\\seaborn\\categorical.py\u001b[0m in \u001b[0;36m__init__\u001b[1;34m(self, x, y, hue, data, order, hue_order, estimator, ci, n_boot, units, seed, orient, color, palette, saturation, errcolor, errwidth, capsize, dodge)\u001b[0m\n\u001b[0;32m   1582\u001b[0m                  errwidth, capsize, dodge):\n\u001b[0;32m   1583\u001b[0m         \u001b[1;34m\"\"\"Initialize the plotter.\"\"\"\u001b[0m\u001b[1;33m\u001b[0m\u001b[1;33m\u001b[0m\u001b[0m\n\u001b[1;32m-> 1584\u001b[1;33m         self.establish_variables(x, y, hue, data, orient,\n\u001b[0m\u001b[0;32m   1585\u001b[0m                                  order, hue_order, units)\n\u001b[0;32m   1586\u001b[0m         \u001b[0mself\u001b[0m\u001b[1;33m.\u001b[0m\u001b[0mestablish_colors\u001b[0m\u001b[1;33m(\u001b[0m\u001b[0mcolor\u001b[0m\u001b[1;33m,\u001b[0m \u001b[0mpalette\u001b[0m\u001b[1;33m,\u001b[0m \u001b[0msaturation\u001b[0m\u001b[1;33m)\u001b[0m\u001b[1;33m\u001b[0m\u001b[1;33m\u001b[0m\u001b[0m\n",
      "\u001b[1;32mc:\\Users\\User\\anaconda3\\anaconda 4\\lib\\site-packages\\seaborn\\categorical.py\u001b[0m in \u001b[0;36mestablish_variables\u001b[1;34m(self, x, y, hue, data, orient, order, hue_order, units)\u001b[0m\n\u001b[0;32m    151\u001b[0m                 \u001b[1;32mif\u001b[0m \u001b[0misinstance\u001b[0m\u001b[1;33m(\u001b[0m\u001b[0mvar\u001b[0m\u001b[1;33m,\u001b[0m \u001b[0mstr\u001b[0m\u001b[1;33m)\u001b[0m\u001b[1;33m:\u001b[0m\u001b[1;33m\u001b[0m\u001b[1;33m\u001b[0m\u001b[0m\n\u001b[0;32m    152\u001b[0m                     \u001b[0merr\u001b[0m \u001b[1;33m=\u001b[0m \u001b[1;34m\"Could not interpret input '{}'\"\u001b[0m\u001b[1;33m.\u001b[0m\u001b[0mformat\u001b[0m\u001b[1;33m(\u001b[0m\u001b[0mvar\u001b[0m\u001b[1;33m)\u001b[0m\u001b[1;33m\u001b[0m\u001b[1;33m\u001b[0m\u001b[0m\n\u001b[1;32m--> 153\u001b[1;33m                     \u001b[1;32mraise\u001b[0m \u001b[0mValueError\u001b[0m\u001b[1;33m(\u001b[0m\u001b[0merr\u001b[0m\u001b[1;33m)\u001b[0m\u001b[1;33m\u001b[0m\u001b[1;33m\u001b[0m\u001b[0m\n\u001b[0m\u001b[0;32m    154\u001b[0m \u001b[1;33m\u001b[0m\u001b[0m\n\u001b[0;32m    155\u001b[0m             \u001b[1;31m# Figure out the plotting orientation\u001b[0m\u001b[1;33m\u001b[0m\u001b[1;33m\u001b[0m\u001b[0m\n",
      "\u001b[1;31mValueError\u001b[0m: Could not interpret input 'gender'"
     ]
    }
   ],
   "source": [
    "# Gender distribution\n",
    "sns.countplot(x='gender', data=df_demo)\n",
    "plt.title('Gender Distribution of Clients')\n",
    "plt.xlabel('Gender')\n",
    "plt.ylabel('Count')\n",
    "plt.show()\n"
   ]
  },
  {
   "cell_type": "code",
   "execution_count": 62,
   "metadata": {},
   "outputs": [
    {
     "name": "stdout",
     "output_type": "stream",
     "text": [
      "           Value\n",
      "count   6.000000\n",
      "mean   18.333333\n",
      "std     8.164966\n",
      "min    10.000000\n",
      "25%    11.250000\n",
      "50%    17.500000\n",
      "75%    23.750000\n",
      "max    30.000000\n"
     ]
    }
   ],
   "source": [
    "\n",
    "\n",
    "# Sample DataFrame\n",
    "data = {\n",
    "    'Category': ['A', 'B', 'A', 'B', 'A', 'B'],\n",
    "    'Value': [10, 20, 15, 30, 10, 25]\n",
    "}\n",
    "df = pd.DataFrame(data)\n",
    "\n",
    "# Summary statistics\n",
    "summary_stats = df.describe()\n",
    "print(summary_stats)\n"
   ]
  },
  {
   "cell_type": "code",
   "execution_count": 63,
   "metadata": {},
   "outputs": [
    {
     "name": "stdout",
     "output_type": "stream",
     "text": [
      "              Value    \n",
      "               mean sum\n",
      "Category               \n",
      "A         11.666667  35\n",
      "B         25.000000  75\n"
     ]
    }
   ],
   "source": [
    "# Group by 'Category' and calculate the mean and sum of 'Value'\n",
    "grouped_summary = df.groupby('Category').agg({'Value': ['mean', 'sum']})\n",
    "print(grouped_summary)\n"
   ]
  },
  {
   "cell_type": "code",
   "execution_count": 64,
   "metadata": {},
   "outputs": [
    {
     "name": "stdout",
     "output_type": "stream",
     "text": [
      "               mean   sum\n",
      "              Value Value\n",
      "Category                 \n",
      "A         11.666667    35\n",
      "B         25.000000    75\n"
     ]
    }
   ],
   "source": [
    "# Pivot table to summarize data\n",
    "pivot_table = pd.pivot_table(df, values='Value', index='Category', aggfunc=['mean', 'sum'])\n",
    "print(pivot_table)\n"
   ]
  },
  {
   "cell_type": "code",
   "execution_count": 65,
   "metadata": {},
   "outputs": [
    {
     "name": "stdout",
     "output_type": "stream",
     "text": [
      "          Count   Sum       Mean\n",
      "Category                        \n",
      "A           3.0  35.0  11.666667\n",
      "B           3.0  75.0  25.000000\n"
     ]
    }
   ],
   "source": [
    "# Custom summary function\n",
    "def custom_summary(group):\n",
    "    return pd.Series({\n",
    "        'Count': group.count(),\n",
    "        'Sum': group.sum(),\n",
    "        'Mean': group.mean()\n",
    "    })\n",
    "\n",
    "custom_summary_table = df.groupby('Category')['Value'].apply(custom_summary).unstack()\n",
    "print(custom_summary_table)\n"
   ]
  },
  {
   "cell_type": "code",
   "execution_count": 66,
   "metadata": {},
   "outputs": [
    {
     "data": {
      "text/html": [
       "<div>\n",
       "<style scoped>\n",
       "    .dataframe tbody tr th:only-of-type {\n",
       "        vertical-align: middle;\n",
       "    }\n",
       "\n",
       "    .dataframe tbody tr th {\n",
       "        vertical-align: top;\n",
       "    }\n",
       "\n",
       "    .dataframe thead th {\n",
       "        text-align: right;\n",
       "    }\n",
       "</style>\n",
       "<table border=\"1\" class=\"dataframe\">\n",
       "  <thead>\n",
       "    <tr style=\"text-align: right;\">\n",
       "      <th></th>\n",
       "      <th>Value</th>\n",
       "    </tr>\n",
       "  </thead>\n",
       "  <tbody>\n",
       "    <tr>\n",
       "      <th>count</th>\n",
       "      <td>6.000000</td>\n",
       "    </tr>\n",
       "    <tr>\n",
       "      <th>mean</th>\n",
       "      <td>18.333333</td>\n",
       "    </tr>\n",
       "    <tr>\n",
       "      <th>std</th>\n",
       "      <td>8.164966</td>\n",
       "    </tr>\n",
       "    <tr>\n",
       "      <th>min</th>\n",
       "      <td>10.000000</td>\n",
       "    </tr>\n",
       "    <tr>\n",
       "      <th>25%</th>\n",
       "      <td>11.250000</td>\n",
       "    </tr>\n",
       "    <tr>\n",
       "      <th>50%</th>\n",
       "      <td>17.500000</td>\n",
       "    </tr>\n",
       "    <tr>\n",
       "      <th>75%</th>\n",
       "      <td>23.750000</td>\n",
       "    </tr>\n",
       "    <tr>\n",
       "      <th>max</th>\n",
       "      <td>30.000000</td>\n",
       "    </tr>\n",
       "  </tbody>\n",
       "</table>\n",
       "</div>"
      ],
      "text/plain": [
       "           Value\n",
       "count   6.000000\n",
       "mean   18.333333\n",
       "std     8.164966\n",
       "min    10.000000\n",
       "25%    11.250000\n",
       "50%    17.500000\n",
       "75%    23.750000\n",
       "max    30.000000"
      ]
     },
     "metadata": {},
     "output_type": "display_data"
    },
    {
     "data": {
      "text/html": [
       "<div>\n",
       "<style scoped>\n",
       "    .dataframe tbody tr th:only-of-type {\n",
       "        vertical-align: middle;\n",
       "    }\n",
       "\n",
       "    .dataframe tbody tr th {\n",
       "        vertical-align: top;\n",
       "    }\n",
       "\n",
       "    .dataframe thead tr th {\n",
       "        text-align: left;\n",
       "    }\n",
       "\n",
       "    .dataframe thead tr:last-of-type th {\n",
       "        text-align: right;\n",
       "    }\n",
       "</style>\n",
       "<table border=\"1\" class=\"dataframe\">\n",
       "  <thead>\n",
       "    <tr>\n",
       "      <th></th>\n",
       "      <th colspan=\"2\" halign=\"left\">Value</th>\n",
       "    </tr>\n",
       "    <tr>\n",
       "      <th></th>\n",
       "      <th>mean</th>\n",
       "      <th>sum</th>\n",
       "    </tr>\n",
       "    <tr>\n",
       "      <th>Category</th>\n",
       "      <th></th>\n",
       "      <th></th>\n",
       "    </tr>\n",
       "  </thead>\n",
       "  <tbody>\n",
       "    <tr>\n",
       "      <th>A</th>\n",
       "      <td>11.666667</td>\n",
       "      <td>35</td>\n",
       "    </tr>\n",
       "    <tr>\n",
       "      <th>B</th>\n",
       "      <td>25.000000</td>\n",
       "      <td>75</td>\n",
       "    </tr>\n",
       "  </tbody>\n",
       "</table>\n",
       "</div>"
      ],
      "text/plain": [
       "              Value    \n",
       "               mean sum\n",
       "Category               \n",
       "A         11.666667  35\n",
       "B         25.000000  75"
      ]
     },
     "metadata": {},
     "output_type": "display_data"
    },
    {
     "data": {
      "text/html": [
       "<div>\n",
       "<style scoped>\n",
       "    .dataframe tbody tr th:only-of-type {\n",
       "        vertical-align: middle;\n",
       "    }\n",
       "\n",
       "    .dataframe tbody tr th {\n",
       "        vertical-align: top;\n",
       "    }\n",
       "\n",
       "    .dataframe thead tr th {\n",
       "        text-align: left;\n",
       "    }\n",
       "\n",
       "    .dataframe thead tr:last-of-type th {\n",
       "        text-align: right;\n",
       "    }\n",
       "</style>\n",
       "<table border=\"1\" class=\"dataframe\">\n",
       "  <thead>\n",
       "    <tr>\n",
       "      <th></th>\n",
       "      <th>mean</th>\n",
       "      <th>sum</th>\n",
       "    </tr>\n",
       "    <tr>\n",
       "      <th></th>\n",
       "      <th>Value</th>\n",
       "      <th>Value</th>\n",
       "    </tr>\n",
       "    <tr>\n",
       "      <th>Category</th>\n",
       "      <th></th>\n",
       "      <th></th>\n",
       "    </tr>\n",
       "  </thead>\n",
       "  <tbody>\n",
       "    <tr>\n",
       "      <th>A</th>\n",
       "      <td>11.666667</td>\n",
       "      <td>35</td>\n",
       "    </tr>\n",
       "    <tr>\n",
       "      <th>B</th>\n",
       "      <td>25.000000</td>\n",
       "      <td>75</td>\n",
       "    </tr>\n",
       "  </tbody>\n",
       "</table>\n",
       "</div>"
      ],
      "text/plain": [
       "               mean   sum\n",
       "              Value Value\n",
       "Category                 \n",
       "A         11.666667    35\n",
       "B         25.000000    75"
      ]
     },
     "metadata": {},
     "output_type": "display_data"
    },
    {
     "data": {
      "text/html": [
       "<div>\n",
       "<style scoped>\n",
       "    .dataframe tbody tr th:only-of-type {\n",
       "        vertical-align: middle;\n",
       "    }\n",
       "\n",
       "    .dataframe tbody tr th {\n",
       "        vertical-align: top;\n",
       "    }\n",
       "\n",
       "    .dataframe thead th {\n",
       "        text-align: right;\n",
       "    }\n",
       "</style>\n",
       "<table border=\"1\" class=\"dataframe\">\n",
       "  <thead>\n",
       "    <tr style=\"text-align: right;\">\n",
       "      <th></th>\n",
       "      <th>Count</th>\n",
       "      <th>Sum</th>\n",
       "      <th>Mean</th>\n",
       "    </tr>\n",
       "    <tr>\n",
       "      <th>Category</th>\n",
       "      <th></th>\n",
       "      <th></th>\n",
       "      <th></th>\n",
       "    </tr>\n",
       "  </thead>\n",
       "  <tbody>\n",
       "    <tr>\n",
       "      <th>A</th>\n",
       "      <td>3.0</td>\n",
       "      <td>35.0</td>\n",
       "      <td>11.666667</td>\n",
       "    </tr>\n",
       "    <tr>\n",
       "      <th>B</th>\n",
       "      <td>3.0</td>\n",
       "      <td>75.0</td>\n",
       "      <td>25.000000</td>\n",
       "    </tr>\n",
       "  </tbody>\n",
       "</table>\n",
       "</div>"
      ],
      "text/plain": [
       "          Count   Sum       Mean\n",
       "Category                        \n",
       "A           3.0  35.0  11.666667\n",
       "B           3.0  75.0  25.000000"
      ]
     },
     "metadata": {},
     "output_type": "display_data"
    }
   ],
   "source": [
    "from IPython.display import display\n",
    "\n",
    "# Displaying the summaries\n",
    "display(summary_stats)\n",
    "display(grouped_summary)\n",
    "display(pivot_table)\n",
    "display(custom_summary_table)\n"
   ]
  },
  {
   "cell_type": "code",
   "execution_count": null,
   "metadata": {},
   "outputs": [],
   "source": []
  },
  {
   "cell_type": "code",
   "execution_count": null,
   "metadata": {},
   "outputs": [],
   "source": []
  }
 ],
 "metadata": {
  "kernelspec": {
   "display_name": "base",
   "language": "python",
   "name": "python3"
  },
  "language_info": {
   "codemirror_mode": {
    "name": "ipython",
    "version": 3
   },
   "file_extension": ".py",
   "mimetype": "text/x-python",
   "name": "python",
   "nbconvert_exporter": "python",
   "pygments_lexer": "ipython3",
   "version": "3.9.13"
  }
 },
 "nbformat": 4,
 "nbformat_minor": 2
}
